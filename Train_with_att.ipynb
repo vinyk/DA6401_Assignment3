{
  "nbformat": 4,
  "nbformat_minor": 0,
  "metadata": {
    "colab": {
      "provenance": [],
      "gpuType": "T4"
    },
    "kernelspec": {
      "name": "python3",
      "display_name": "Python 3"
    },
    "language_info": {
      "name": "python"
    },
    "accelerator": "GPU"
  },
  "cells": [
    {
      "cell_type": "code",
      "execution_count": 1,
      "metadata": {
        "id": "9tVDluTv8fB5"
      },
      "outputs": [],
      "source": [
        "# Copy dataset from Drive to local content directory\n",
        "!cp -r /content/drive/MyDrive/dakshina_dataset_v1.0 /content/"
      ]
    },
    {
      "cell_type": "code",
      "source": [
        "import torch\n",
        "import torch.nn as nn\n",
        "import torch.optim as optim\n",
        "import random\n",
        "import pandas as pd\n",
        "import numpy as np\n",
        "import wandb\n",
        "import os\n",
        "from torch.nn.utils.rnn import pad_sequence\n",
        "from torch.utils.data import DataLoader, Dataset\n",
        "\n",
        "device = torch.device('cuda' if torch.cuda.is_available() else 'cpu')\n",
        "print(\"Using device:\", device)"
      ],
      "metadata": {
        "colab": {
          "base_uri": "https://localhost:8080/"
        },
        "id": "4_vbyKTk9qNl",
        "outputId": "f891ee19-6f88-4949-d8dd-bb0316f6058b"
      },
      "execution_count": 2,
      "outputs": [
        {
          "output_type": "stream",
          "name": "stdout",
          "text": [
            "Using device: cuda\n"
          ]
        }
      ]
    },
    {
      "cell_type": "code",
      "source": [
        "# Choose your language\n",
        "LANG = 'hi'  # Hindi\n",
        "DATA_DIR = f'/content/dakshina_dataset_v1.0/{LANG}/lexicons/'\n",
        "\n",
        "def load_data(file_path):\n",
        "    with open(file_path, 'r', encoding='utf-8') as f:\n",
        "        lines = f.readlines()\n",
        "    input_texts, target_texts = [], []\n",
        "    for line in lines:\n",
        "        latin, devanagari = line.strip().split('\\t')[:2]\n",
        "        input_texts.append(list(latin.lower()))\n",
        "        target_texts.append(['<sos>'] + list(devanagari) + ['<eos>'])\n",
        "    return input_texts, target_texts\n",
        "\n",
        "train_x, train_y = load_data(os.path.join(DATA_DIR, 'hi.translit.sampled.train.tsv'))\n",
        "val_x, val_y = load_data(os.path.join(DATA_DIR, 'hi.translit.sampled.dev.tsv'))\n",
        "test_x, test_y = load_data(os.path.join(DATA_DIR, 'hi.translit.sampled.test.tsv'))\n",
        "\n",
        "# Create vocab\n",
        "def build_vocab(seqs):\n",
        "    vocab = {'<pad>': 0, '<sos>': 1, '<eos>': 2}\n",
        "    for seq in seqs:\n",
        "        for ch in seq:\n",
        "            if ch not in vocab:\n",
        "                vocab[ch] = len(vocab)\n",
        "    return vocab\n",
        "\n",
        "src_vocab = build_vocab(train_x)\n",
        "tgt_vocab = build_vocab(train_y)\n",
        "\n",
        "inv_tgt_vocab = {v: k for k, v in tgt_vocab.items()}\n",
        "# Special token indices\n",
        "PAD_IDX = tgt_vocab['<pad>']\n",
        "SOS_IDX = tgt_vocab['<sos>']\n",
        "EOS_IDX = tgt_vocab['<eos>']\n"
      ],
      "metadata": {
        "id": "IiEdSHVl-CZr"
      },
      "execution_count": 3,
      "outputs": []
    },
    {
      "cell_type": "code",
      "source": [
        "class TransliterationDataset(Dataset):\n",
        "    def __init__(self, src_data, tgt_data, src_vocab, tgt_vocab):\n",
        "        self.src_data = src_data\n",
        "        self.tgt_data = tgt_data\n",
        "        self.src_vocab = src_vocab\n",
        "        self.tgt_vocab = tgt_vocab\n",
        "\n",
        "    def __len__(self):\n",
        "        return len(self.src_data)\n",
        "\n",
        "    def __getitem__(self, idx):\n",
        "        src_seq = [self.src_vocab[ch] for ch in self.src_data[idx]]\n",
        "        tgt_seq = [self.tgt_vocab[ch] for ch in self.tgt_data[idx]]\n",
        "        return torch.tensor(src_seq), torch.tensor(tgt_seq)\n",
        "\n",
        "def collate_fn(batch):\n",
        "    src_batch, tgt_batch = zip(*batch)\n",
        "    src_lens = torch.tensor([len(s) for s in src_batch])\n",
        "    tgt_lens = torch.tensor([len(t) for t in tgt_batch])\n",
        "    src_batch = pad_sequence(src_batch, padding_value=0, batch_first=True)\n",
        "    tgt_batch = pad_sequence(tgt_batch, padding_value=0, batch_first=True)\n",
        "    return src_batch, tgt_batch, src_lens, tgt_lens\n",
        "\n",
        "BATCH_SIZE = 64\n",
        "train_dataset = TransliterationDataset(train_x, train_y, src_vocab, tgt_vocab)\n",
        "train_loader = DataLoader(train_dataset, batch_size=BATCH_SIZE, shuffle=True, collate_fn=collate_fn)\n",
        "val_dataset = TransliterationDataset(val_x, val_y, src_vocab, tgt_vocab)\n",
        "val_loader = DataLoader(val_dataset, batch_size=BATCH_SIZE, shuffle=False, collate_fn=collate_fn)\n",
        "# Prepare test loader\n",
        "test_dataset = TransliterationDataset(test_x, test_y, src_vocab, tgt_vocab)\n",
        "test_loader = DataLoader(test_dataset, batch_size=1, shuffle=False, collate_fn=collate_fn)"
      ],
      "metadata": {
        "id": "EYYGRwJX-Ke_"
      },
      "execution_count": 4,
      "outputs": []
    },
    {
      "cell_type": "code",
      "source": [
        "import torch.nn.functional as F\n",
        "\n",
        "class Attention(nn.Module):\n",
        "    def __init__(self, hidden_size):\n",
        "        super().__init__()\n",
        "        self.attn = nn.Linear(hidden_size * 2, hidden_size)\n",
        "        self.v = nn.Parameter(torch.rand(hidden_size))  # [H]\n",
        "\n",
        "    def forward(self, hidden, encoder_outputs):\n",
        "        # hidden: [B, H]\n",
        "        # encoder_outputs: [B, T, H]\n",
        "        B, T, H = encoder_outputs.shape\n",
        "\n",
        "        # Repeat hidden across the time steps\n",
        "        hidden = hidden.unsqueeze(1).repeat(1, T, 1)  # [B, T, H]\n",
        "\n",
        "        # Concatenate hidden and encoder_outputs → compute energy\n",
        "        energy = torch.tanh(self.attn(torch.cat((hidden, encoder_outputs), dim=2)))  # [B, T, H]\n",
        "\n",
        "        # Expand `v` for batch matrix multiplication\n",
        "        v = self.v.unsqueeze(0).unsqueeze(2).expand(B, -1, -1)  # [B, H, 1]\n",
        "\n",
        "        # Compute attention scores\n",
        "        scores = torch.bmm(energy, v).squeeze(2)  # [B, T]\n",
        "\n",
        "        # Softmax over time dimension to get attention weights\n",
        "        attn_weights = F.softmax(scores, dim=1)  # [B, T]\n",
        "\n",
        "        # Compute context vector as weighted sum of encoder outputs\n",
        "        context = torch.bmm(attn_weights.unsqueeze(1), encoder_outputs).squeeze(1)  # [B, H]\n",
        "\n",
        "        return context, attn_weights"
      ],
      "metadata": {
        "id": "QnoffkDM-Ou4"
      },
      "execution_count": 5,
      "outputs": []
    },
    {
      "cell_type": "code",
      "source": [
        "class Seq2Seq(nn.Module):\n",
        "    def __init__(self, config):\n",
        "        super().__init__()\n",
        "        self.encoder_embed = nn.Embedding(config['src_vocab_size'], config['embedding_size'])\n",
        "        self.decoder_embed = nn.Embedding(config['tgt_vocab_size'], config['embedding_size'])\n",
        "\n",
        "        cell_type = config['cell_type']\n",
        "        cell = {'RNN': nn.RNN, 'GRU': nn.GRU, 'LSTM': nn.LSTM}[cell_type]\n",
        "        self.cell_type = cell_type\n",
        "        self.config = config\n",
        "        hidden_size = config['hidden_size']\n",
        "        embed_size = config['embedding_size']\n",
        "\n",
        "        self.encoder = cell(embed_size, hidden_size, config['num_encoder_layers'],\n",
        "                            batch_first=True, dropout=config['dropout'] if config['num_encoder_layers'] > 1 else 0)\n",
        "\n",
        "        self.decoder = cell(embed_size + hidden_size, hidden_size, config['num_decoder_layers'],\n",
        "                            batch_first=False, dropout=config['dropout'] if config['num_decoder_layers'] > 1 else 0)\n",
        "\n",
        "        self.attn = Attention(hidden_size)\n",
        "        self.fc = nn.Linear(hidden_size * 2, config['tgt_vocab_size'])\n",
        "\n",
        "    def forward(self, src, tgt, src_len, tgt_len):\n",
        "        batch_size, tgt_len = tgt.shape\n",
        "        device = src.device\n",
        "        hidden_size = self.config['hidden_size']\n",
        "        trg_vocab_size = self.config['tgt_vocab_size']\n",
        "\n",
        "        src_embed = self.encoder_embed(src)  # [B, T_src, E]\n",
        "        tgt_embed = self.decoder_embed(tgt[:, :-1])  # [B, T_tgt-1, E]\n",
        "\n",
        "        encoder_outputs, h = self.encoder(src_embed)  # [B, T_src, H]\n",
        "\n",
        "        if self.cell_type == 'LSTM':\n",
        "            h_t, c_t = h\n",
        "        else:\n",
        "            h_t = h\n",
        "\n",
        "        outputs = torch.zeros(batch_size, tgt_embed.size(1), trg_vocab_size).to(device)\n",
        "        all_attn_weights = []\n",
        "\n",
        "        for t in range(tgt_embed.size(1)):\n",
        "            input_embed = tgt_embed[:, t]  # [B, E]\n",
        "            h_cur = h_t[-1] if self.cell_type == 'LSTM' else h_t[-1]  # [B, H]\n",
        "            context, attn_weights = self.attn(h_cur, encoder_outputs)  # [B, H], [B, T_src]\n",
        "            all_attn_weights.append(attn_weights)\n",
        "\n",
        "            decoder_input = torch.cat([input_embed, context], dim=1).unsqueeze(0)  # [1, B, E+H]\n",
        "\n",
        "            if self.cell_type == 'LSTM':\n",
        "                out, (h_t, c_t) = self.decoder(decoder_input, (h_t, c_t))\n",
        "            else:\n",
        "                out, h_t = self.decoder(decoder_input, h_t)\n",
        "\n",
        "            out = out.squeeze(0)  # [B, H]\n",
        "            final_out = self.fc(torch.cat((out, context), dim=1))  # [B, V]\n",
        "            outputs[:, t] = final_out\n",
        "\n",
        "        attn_tensor = torch.stack(all_attn_weights, dim=0)  # [T_tgt-1, B, T_src]\n",
        "        return outputs, attn_tensor\n",
        "\n",
        "    def beam_search_decode(self, src, src_len, beam_size, sos_idx, eos_idx, device, return_attn=False):\n",
        "        # Encode the source\n",
        "        encoder_outputs, h = self.encoder(self.encoder_embed(src))  # [B, T_src, H]\n",
        "\n",
        "        if self.cell_type == 'LSTM':\n",
        "            h_t, c_t = h\n",
        "        else:\n",
        "            h_t = h\n",
        "\n",
        "        B = src.size(0)\n",
        "        assert B == 1, \"Beam search only supports batch size 1 for simplicity\"\n",
        "\n",
        "        # Initialize beams\n",
        "        beams = [(torch.tensor([sos_idx], device=device), 0.0, h_t, c_t if self.cell_type == 'LSTM' else None, [])]\n",
        "\n",
        "        for _ in range(50):  # max length\n",
        "            new_beams = []\n",
        "            for seq, score, h_t, c_t, attn_list in beams:\n",
        "                if seq[-1] == eos_idx:\n",
        "                    new_beams.append((seq, score, h_t, c_t, attn_list))\n",
        "                    continue\n",
        "\n",
        "                input_embed = self.decoder_embed(seq[-1].unsqueeze(0)).unsqueeze(0)  # [1, 1, E]\n",
        "                h_cur = h_t[-1] if self.cell_type == 'LSTM' else h_t[-1]  # [1, H]\n",
        "\n",
        "                context, attn_weights = self.attn(h_cur, encoder_outputs)  # [1, H], [1, T_src]\n",
        "\n",
        "                decoder_input = torch.cat([input_embed.squeeze(0), context], dim=1).unsqueeze(0)\n",
        "\n",
        "                if self.cell_type == 'LSTM':\n",
        "                    out, (new_h, new_c) = self.decoder(decoder_input, (h_t, c_t))\n",
        "                else:\n",
        "                    out, new_h = self.decoder(decoder_input, h_t)\n",
        "\n",
        "                out = out.squeeze(0)  # [1, H]\n",
        "                final_out = self.fc(torch.cat((out, context), dim=1))  # [1, V]\n",
        "                log_probs = torch.log_softmax(final_out, dim=1)  # [1, V]\n",
        "                topk_log_probs, topk_indices = torch.topk(log_probs, beam_size, dim=1)\n",
        "\n",
        "                for i in range(beam_size):\n",
        "                    new_seq = torch.cat([seq, topk_indices[0][i].unsqueeze(0)], dim=0)\n",
        "                    new_score = score + topk_log_probs[0][i].item()\n",
        "                    new_attn_list = attn_list + [attn_weights[0].detach().cpu().tolist()]\n",
        "                    new_beams.append((new_seq, new_score, new_h, new_c if self.cell_type == 'LSTM' else None, new_attn_list))\n",
        "\n",
        "            beams = sorted(new_beams, key=lambda x: x[1], reverse=True)[:beam_size]\n",
        "\n",
        "            # Early stop if all sequences ended\n",
        "            if all(seq[-1] == eos_idx for seq, _, _, _, _ in beams):\n",
        "                break\n",
        "\n",
        "        best_seq, best_score, _, _, best_attn = beams[0]\n",
        "        if return_attn:\n",
        "            return best_seq.tolist(), best_attn  # return both sequence and attention weights\n",
        "        else:\n",
        "            return best_seq.tolist()"
      ],
      "metadata": {
        "id": "SxJ8J_gw-WWs"
      },
      "execution_count": 21,
      "outputs": []
    },
    {
      "cell_type": "code",
      "source": [
        "def train_model(train_loader, val_loader, config=None):\n",
        "    with wandb.init(config=config) as run:\n",
        "        config = wandb.config\n",
        "\n",
        "        # Skip invalid layer configs\n",
        "        if config.num_encoder_layers != config.num_decoder_layers:\n",
        "            print(f\"Skipping run due to layer mismatch: enc={config.num_encoder_layers}, dec={config.num_decoder_layers}\")\n",
        "            return\n",
        "\n",
        "        # Set run name from config\n",
        "        run.name = (\n",
        "            f\"ed_{config.embedding_size}\"\n",
        "            f\"_hs_{config.hidden_size}\"\n",
        "            f\"_enc_{config.num_encoder_layers}\"\n",
        "            f\"_dec_{config.num_decoder_layers}\"\n",
        "            f\"_cell_{config.cell_type}\"\n",
        "            f\"_drop_{config.dropout}\"\n",
        "        )\n",
        "        run.save()\n",
        "\n",
        "        # Create model\n",
        "        model = Seq2Seq({\n",
        "            'src_vocab_size': len(src_vocab),\n",
        "            'tgt_vocab_size': len(tgt_vocab),\n",
        "            'embedding_size': config.embedding_size,\n",
        "            'hidden_size': config.hidden_size,\n",
        "            'num_encoder_layers': config.num_encoder_layers,\n",
        "            'num_decoder_layers': config.num_decoder_layers,\n",
        "            'cell_type': config.cell_type,\n",
        "            'dropout': config.dropout\n",
        "        }).to(device)\n",
        "\n",
        "        optimizer = optim.Adam(model.parameters(), lr=0.001)\n",
        "        criterion = nn.CrossEntropyLoss(ignore_index=0)\n",
        "\n",
        "        best_val_acc = 0\n",
        "        for epoch in range(10):\n",
        "            # === Training ===\n",
        "            model.train()\n",
        "            total_train_loss = 0\n",
        "            correct_train = 0\n",
        "            total_tokens = 0\n",
        "\n",
        "            for src, tgt, src_len, tgt_len in train_loader:\n",
        "                src, tgt = src.to(device), tgt.to(device)\n",
        "                optimizer.zero_grad()\n",
        "\n",
        "                output = model(src, tgt, src_len, tgt_len)\n",
        "                loss = criterion(output.view(-1, output.shape[-1]), tgt[:, 1:].contiguous().view(-1))\n",
        "                loss.backward()\n",
        "                optimizer.step()\n",
        "\n",
        "                total_train_loss += loss.item()\n",
        "                pred = output.argmax(-1)\n",
        "                mask = tgt[:, 1:] != 0\n",
        "                correct_train += ((pred == tgt[:, 1:]) * mask).sum().item()\n",
        "                total_tokens += mask.sum().item()\n",
        "\n",
        "            train_loss = total_train_loss / len(train_loader)\n",
        "            train_acc = correct_train / total_tokens\n",
        "\n",
        "            # === Validation ===\n",
        "            model.eval()\n",
        "            total_val_loss = 0\n",
        "            correct_val = 0\n",
        "            val_tokens = 0\n",
        "\n",
        "            with torch.no_grad():\n",
        "                for src, tgt, src_len, tgt_len in val_loader:\n",
        "                    src, tgt = src.to(device), tgt.to(device)\n",
        "                    output = model(src, tgt, src_len, tgt_len)\n",
        "                    loss = criterion(output.view(-1, output.shape[-1]), tgt[:, 1:].contiguous().view(-1))\n",
        "                    total_val_loss += loss.item()\n",
        "\n",
        "                    pred = output.argmax(-1)\n",
        "                    mask = tgt[:, 1:] != 0\n",
        "                    correct_val += ((pred == tgt[:, 1:]) * mask).sum().item()\n",
        "                    val_tokens += mask.sum().item()\n",
        "\n",
        "            val_loss = total_val_loss / len(val_loader)\n",
        "            val_acc = correct_val / val_tokens\n",
        "\n",
        "            # Log to wandb\n",
        "            wandb.log({\n",
        "                'epoch': epoch,\n",
        "                'train_loss': train_loss,\n",
        "                'val_loss': val_loss,\n",
        "                'train_accuracy': train_acc,\n",
        "                'val_accuracy': val_acc\n",
        "            })\n",
        "\n",
        "        # Print final metrics\n",
        "        print(f\"\\nFinal Run Metrics for {run.name}:\")\n",
        "        print(f\"Train Loss: {train_loss:.4f} | Train Accuracy: {train_acc:.4f}\")\n",
        "        print(f\"Val   Loss: {val_loss:.4f} | Val   Accuracy: {val_acc:.4f}\\n\")"
      ],
      "metadata": {
        "id": "bNJVv9g5-Z2N"
      },
      "execution_count": 7,
      "outputs": []
    },
    {
      "cell_type": "code",
      "source": [
        "sweep_config = {\n",
        "    'method': 'bayes',\n",
        "    'metric': {'name': 'val_loss', 'goal': 'minimize'},\n",
        "    'parameters': {\n",
        "        'embedding_size': {'values': [16, 32, 64, 256]},\n",
        "        'hidden_size': {'values': [16, 32, 64, 256]},\n",
        "        'num_encoder_layers': {'values': [1]},\n",
        "        'num_decoder_layers': {'values': [1]},\n",
        "        'cell_type': {'values': ['RNN', 'GRU', 'LSTM']},\n",
        "        'dropout': {'values': [0.2, 0.3]},\n",
        "        # 'beam_size': {'values': [1, 2, 3, 5, ]}\n",
        "    }\n",
        "}"
      ],
      "metadata": {
        "id": "pASkU57h-iq5"
      },
      "execution_count": 8,
      "outputs": []
    },
    {
      "cell_type": "code",
      "source": [
        "sweep_id = wandb.sweep(sweep_config, project=\"Assignment3_Attempt1\")"
      ],
      "metadata": {
        "colab": {
          "base_uri": "https://localhost:8080/",
          "height": 190
        },
        "id": "ghiLTnLb-qtP",
        "outputId": "35401d0a-ffcb-4a75-95e4-7531e5a67280"
      },
      "execution_count": 10,
      "outputs": [
        {
          "output_type": "display_data",
          "data": {
            "text/plain": [
              "<IPython.core.display.Javascript object>"
            ],
            "application/javascript": [
              "\n",
              "        window._wandbApiKey = new Promise((resolve, reject) => {\n",
              "            function loadScript(url) {\n",
              "            return new Promise(function(resolve, reject) {\n",
              "                let newScript = document.createElement(\"script\");\n",
              "                newScript.onerror = reject;\n",
              "                newScript.onload = resolve;\n",
              "                document.body.appendChild(newScript);\n",
              "                newScript.src = url;\n",
              "            });\n",
              "            }\n",
              "            loadScript(\"https://cdn.jsdelivr.net/npm/postmate/build/postmate.min.js\").then(() => {\n",
              "            const iframe = document.createElement('iframe')\n",
              "            iframe.style.cssText = \"width:0;height:0;border:none\"\n",
              "            document.body.appendChild(iframe)\n",
              "            const handshake = new Postmate({\n",
              "                container: iframe,\n",
              "                url: 'https://wandb.ai/authorize'\n",
              "            });\n",
              "            const timeout = setTimeout(() => reject(\"Couldn't auto authenticate\"), 5000)\n",
              "            handshake.then(function(child) {\n",
              "                child.on('authorize', data => {\n",
              "                    clearTimeout(timeout)\n",
              "                    resolve(data)\n",
              "                });\n",
              "            });\n",
              "            })\n",
              "        });\n",
              "    "
            ]
          },
          "metadata": {}
        },
        {
          "output_type": "stream",
          "name": "stderr",
          "text": [
            "\u001b[34m\u001b[1mwandb\u001b[0m: Logging into wandb.ai. (Learn how to deploy a W&B server locally: https://wandb.me/wandb-server)\n",
            "\u001b[34m\u001b[1mwandb\u001b[0m: You can find your API key in your browser here: https://wandb.ai/authorize?ref=models\n",
            "wandb: Paste an API key from your profile and hit enter:"
          ]
        },
        {
          "name": "stdout",
          "output_type": "stream",
          "text": [
            " ··········\n"
          ]
        },
        {
          "output_type": "stream",
          "name": "stderr",
          "text": [
            "\u001b[34m\u001b[1mwandb\u001b[0m: \u001b[33mWARNING\u001b[0m If you're specifying your api key in code, ensure this code is not shared publicly.\n",
            "\u001b[34m\u001b[1mwandb\u001b[0m: \u001b[33mWARNING\u001b[0m Consider setting the WANDB_API_KEY environment variable, or running `wandb login` from the command line.\n",
            "\u001b[34m\u001b[1mwandb\u001b[0m: No netrc file found, creating one.\n",
            "\u001b[34m\u001b[1mwandb\u001b[0m: Appending key for api.wandb.ai to your netrc file: /root/.netrc\n"
          ]
        },
        {
          "output_type": "stream",
          "name": "stdout",
          "text": [
            "Create sweep with ID: n6e7axcm\n",
            "Sweep URL: https://wandb.ai/vinyk-sd-indian-institute-of-technology-madras/Assignment3_Attempt1/sweeps/n6e7axcm\n"
          ]
        }
      ]
    },
    {
      "cell_type": "code",
      "source": [
        "wandb.agent(sweep_id, function=lambda: train_model(train_loader, val_loader), count=100)# Run 15 trials (you can increase if needed)"
      ],
      "metadata": {
        "colab": {
          "base_uri": "https://localhost:8080/",
          "height": 1000
        },
        "id": "QfnGO3g4-xvM",
        "outputId": "9c63cc18-f01a-424f-e19a-120ce67c6282"
      },
      "execution_count": null,
      "outputs": [
        {
          "output_type": "stream",
          "name": "stderr",
          "text": [
            "\u001b[34m\u001b[1mwandb\u001b[0m: Agent Starting Run: 7cyuj9t3 with config:\n",
            "\u001b[34m\u001b[1mwandb\u001b[0m: \tcell_type: GRU\n",
            "\u001b[34m\u001b[1mwandb\u001b[0m: \tdropout: 0.2\n",
            "\u001b[34m\u001b[1mwandb\u001b[0m: \tembedding_size: 32\n",
            "\u001b[34m\u001b[1mwandb\u001b[0m: \thidden_size: 16\n",
            "\u001b[34m\u001b[1mwandb\u001b[0m: \tnum_decoder_layers: 1\n",
            "\u001b[34m\u001b[1mwandb\u001b[0m: \tnum_encoder_layers: 1\n"
          ]
        },
        {
          "output_type": "display_data",
          "data": {
            "text/plain": [
              "<IPython.core.display.HTML object>"
            ],
            "text/html": [
              "Tracking run with wandb version 0.19.11"
            ]
          },
          "metadata": {}
        },
        {
          "output_type": "display_data",
          "data": {
            "text/plain": [
              "<IPython.core.display.HTML object>"
            ],
            "text/html": [
              "Run data is saved locally in <code>/content/wandb/run-20250519_145106-7cyuj9t3</code>"
            ]
          },
          "metadata": {}
        },
        {
          "output_type": "display_data",
          "data": {
            "text/plain": [
              "<IPython.core.display.HTML object>"
            ],
            "text/html": [
              "Syncing run <strong><a href='https://wandb.ai/vinyk-sd-indian-institute-of-technology-madras/Assignment3_Attempt1/runs/7cyuj9t3' target=\"_blank\">pious-sweep-6</a></strong> to <a href='https://wandb.ai/vinyk-sd-indian-institute-of-technology-madras/Assignment3_Attempt1' target=\"_blank\">Weights & Biases</a> (<a href='https://wandb.me/developer-guide' target=\"_blank\">docs</a>)<br>Sweep page: <a href='https://wandb.ai/vinyk-sd-indian-institute-of-technology-madras/Assignment3_Attempt1/sweeps/n6e7axcm' target=\"_blank\">https://wandb.ai/vinyk-sd-indian-institute-of-technology-madras/Assignment3_Attempt1/sweeps/n6e7axcm</a>"
            ]
          },
          "metadata": {}
        },
        {
          "output_type": "display_data",
          "data": {
            "text/plain": [
              "<IPython.core.display.HTML object>"
            ],
            "text/html": [
              " View project at <a href='https://wandb.ai/vinyk-sd-indian-institute-of-technology-madras/Assignment3_Attempt1' target=\"_blank\">https://wandb.ai/vinyk-sd-indian-institute-of-technology-madras/Assignment3_Attempt1</a>"
            ]
          },
          "metadata": {}
        },
        {
          "output_type": "display_data",
          "data": {
            "text/plain": [
              "<IPython.core.display.HTML object>"
            ],
            "text/html": [
              " View sweep at <a href='https://wandb.ai/vinyk-sd-indian-institute-of-technology-madras/Assignment3_Attempt1/sweeps/n6e7axcm' target=\"_blank\">https://wandb.ai/vinyk-sd-indian-institute-of-technology-madras/Assignment3_Attempt1/sweeps/n6e7axcm</a>"
            ]
          },
          "metadata": {}
        },
        {
          "output_type": "display_data",
          "data": {
            "text/plain": [
              "<IPython.core.display.HTML object>"
            ],
            "text/html": [
              " View run at <a href='https://wandb.ai/vinyk-sd-indian-institute-of-technology-madras/Assignment3_Attempt1/runs/7cyuj9t3' target=\"_blank\">https://wandb.ai/vinyk-sd-indian-institute-of-technology-madras/Assignment3_Attempt1/runs/7cyuj9t3</a>"
            ]
          },
          "metadata": {}
        },
        {
          "output_type": "stream",
          "name": "stdout",
          "text": [
            "\n",
            "Final Run Metrics for ed_32_hs_16_enc_1_dec_1_cell_GRU_drop_0.2:\n",
            "Train Loss: 0.5470 | Train Accuracy: 0.8441\n",
            "Val   Loss: 0.5998 | Val   Accuracy: 0.8384\n",
            "\n"
          ]
        },
        {
          "output_type": "display_data",
          "data": {
            "text/plain": [
              "<IPython.core.display.HTML object>"
            ],
            "text/html": []
          },
          "metadata": {}
        },
        {
          "output_type": "display_data",
          "data": {
            "text/plain": [
              "<IPython.core.display.HTML object>"
            ],
            "text/html": [
              "<br>    <style><br>        .wandb-row {<br>            display: flex;<br>            flex-direction: row;<br>            flex-wrap: wrap;<br>            justify-content: flex-start;<br>            width: 100%;<br>        }<br>        .wandb-col {<br>            display: flex;<br>            flex-direction: column;<br>            flex-basis: 100%;<br>            flex: 1;<br>            padding: 10px;<br>        }<br>    </style><br><div class=\"wandb-row\"><div class=\"wandb-col\"><h3>Run history:</h3><br/><table class=\"wandb\"><tr><td>epoch</td><td>▁▂▃▃▄▅▆▆▇█</td></tr><tr><td>train_accuracy</td><td>▁▅▇▇██████</td></tr><tr><td>train_loss</td><td>█▄▃▂▂▁▁▁▁▁</td></tr><tr><td>val_accuracy</td><td>▁▅▇▇▇█████</td></tr><tr><td>val_loss</td><td>█▄▃▂▂▁▁▁▁▁</td></tr></table><br/></div><div class=\"wandb-col\"><h3>Run summary:</h3><br/><table class=\"wandb\"><tr><td>epoch</td><td>9</td></tr><tr><td>train_accuracy</td><td>0.84413</td></tr><tr><td>train_loss</td><td>0.54704</td></tr><tr><td>val_accuracy</td><td>0.83837</td></tr><tr><td>val_loss</td><td>0.59975</td></tr></table><br/></div></div>"
            ]
          },
          "metadata": {}
        },
        {
          "output_type": "display_data",
          "data": {
            "text/plain": [
              "<IPython.core.display.HTML object>"
            ],
            "text/html": [
              " View run <strong style=\"color:#cdcd00\">ed_32_hs_16_enc_1_dec_1_cell_GRU_drop_0.2</strong> at: <a href='https://wandb.ai/vinyk-sd-indian-institute-of-technology-madras/Assignment3_Attempt1/runs/7cyuj9t3' target=\"_blank\">https://wandb.ai/vinyk-sd-indian-institute-of-technology-madras/Assignment3_Attempt1/runs/7cyuj9t3</a><br> View project at: <a href='https://wandb.ai/vinyk-sd-indian-institute-of-technology-madras/Assignment3_Attempt1' target=\"_blank\">https://wandb.ai/vinyk-sd-indian-institute-of-technology-madras/Assignment3_Attempt1</a><br>Synced 5 W&B file(s), 0 media file(s), 0 artifact file(s) and 0 other file(s)"
            ]
          },
          "metadata": {}
        },
        {
          "output_type": "display_data",
          "data": {
            "text/plain": [
              "<IPython.core.display.HTML object>"
            ],
            "text/html": [
              "Find logs at: <code>./wandb/run-20250519_145106-7cyuj9t3/logs</code>"
            ]
          },
          "metadata": {}
        },
        {
          "output_type": "stream",
          "name": "stderr",
          "text": [
            "\u001b[34m\u001b[1mwandb\u001b[0m: Agent Starting Run: 1c8p394d with config:\n",
            "\u001b[34m\u001b[1mwandb\u001b[0m: \tcell_type: RNN\n",
            "\u001b[34m\u001b[1mwandb\u001b[0m: \tdropout: 0.2\n",
            "\u001b[34m\u001b[1mwandb\u001b[0m: \tembedding_size: 16\n",
            "\u001b[34m\u001b[1mwandb\u001b[0m: \thidden_size: 256\n",
            "\u001b[34m\u001b[1mwandb\u001b[0m: \tnum_decoder_layers: 1\n",
            "\u001b[34m\u001b[1mwandb\u001b[0m: \tnum_encoder_layers: 1\n"
          ]
        },
        {
          "output_type": "display_data",
          "data": {
            "text/plain": [
              "<IPython.core.display.HTML object>"
            ],
            "text/html": [
              "Tracking run with wandb version 0.19.11"
            ]
          },
          "metadata": {}
        },
        {
          "output_type": "display_data",
          "data": {
            "text/plain": [
              "<IPython.core.display.HTML object>"
            ],
            "text/html": [
              "Run data is saved locally in <code>/content/wandb/run-20250519_145514-1c8p394d</code>"
            ]
          },
          "metadata": {}
        },
        {
          "output_type": "display_data",
          "data": {
            "text/plain": [
              "<IPython.core.display.HTML object>"
            ],
            "text/html": [
              "Syncing run <strong><a href='https://wandb.ai/vinyk-sd-indian-institute-of-technology-madras/Assignment3_Attempt1/runs/1c8p394d' target=\"_blank\">smooth-sweep-7</a></strong> to <a href='https://wandb.ai/vinyk-sd-indian-institute-of-technology-madras/Assignment3_Attempt1' target=\"_blank\">Weights & Biases</a> (<a href='https://wandb.me/developer-guide' target=\"_blank\">docs</a>)<br>Sweep page: <a href='https://wandb.ai/vinyk-sd-indian-institute-of-technology-madras/Assignment3_Attempt1/sweeps/n6e7axcm' target=\"_blank\">https://wandb.ai/vinyk-sd-indian-institute-of-technology-madras/Assignment3_Attempt1/sweeps/n6e7axcm</a>"
            ]
          },
          "metadata": {}
        },
        {
          "output_type": "display_data",
          "data": {
            "text/plain": [
              "<IPython.core.display.HTML object>"
            ],
            "text/html": [
              " View project at <a href='https://wandb.ai/vinyk-sd-indian-institute-of-technology-madras/Assignment3_Attempt1' target=\"_blank\">https://wandb.ai/vinyk-sd-indian-institute-of-technology-madras/Assignment3_Attempt1</a>"
            ]
          },
          "metadata": {}
        },
        {
          "output_type": "display_data",
          "data": {
            "text/plain": [
              "<IPython.core.display.HTML object>"
            ],
            "text/html": [
              " View sweep at <a href='https://wandb.ai/vinyk-sd-indian-institute-of-technology-madras/Assignment3_Attempt1/sweeps/n6e7axcm' target=\"_blank\">https://wandb.ai/vinyk-sd-indian-institute-of-technology-madras/Assignment3_Attempt1/sweeps/n6e7axcm</a>"
            ]
          },
          "metadata": {}
        },
        {
          "output_type": "display_data",
          "data": {
            "text/plain": [
              "<IPython.core.display.HTML object>"
            ],
            "text/html": [
              " View run at <a href='https://wandb.ai/vinyk-sd-indian-institute-of-technology-madras/Assignment3_Attempt1/runs/1c8p394d' target=\"_blank\">https://wandb.ai/vinyk-sd-indian-institute-of-technology-madras/Assignment3_Attempt1/runs/1c8p394d</a>"
            ]
          },
          "metadata": {}
        },
        {
          "output_type": "stream",
          "name": "stdout",
          "text": [
            "\n",
            "Final Run Metrics for ed_16_hs_256_enc_1_dec_1_cell_RNN_drop_0.2:\n",
            "Train Loss: 0.3470 | Train Accuracy: 0.8868\n",
            "Val   Loss: 0.4491 | Val   Accuracy: 0.8685\n",
            "\n"
          ]
        },
        {
          "output_type": "display_data",
          "data": {
            "text/plain": [
              "<IPython.core.display.HTML object>"
            ],
            "text/html": []
          },
          "metadata": {}
        },
        {
          "output_type": "display_data",
          "data": {
            "text/plain": [
              "<IPython.core.display.HTML object>"
            ],
            "text/html": [
              "<br>    <style><br>        .wandb-row {<br>            display: flex;<br>            flex-direction: row;<br>            flex-wrap: wrap;<br>            justify-content: flex-start;<br>            width: 100%;<br>        }<br>        .wandb-col {<br>            display: flex;<br>            flex-direction: column;<br>            flex-basis: 100%;<br>            flex: 1;<br>            padding: 10px;<br>        }<br>    </style><br><div class=\"wandb-row\"><div class=\"wandb-col\"><h3>Run history:</h3><br/><table class=\"wandb\"><tr><td>epoch</td><td>▁▂▃▃▄▅▆▆▇█</td></tr><tr><td>train_accuracy</td><td>▁▆▇▇██████</td></tr><tr><td>train_loss</td><td>█▃▂▂▂▁▁▁▁▁</td></tr><tr><td>val_accuracy</td><td>▁▅▆▆▇█▇█▇█</td></tr><tr><td>val_loss</td><td>█▄▄▃▂▁▂▁▂▁</td></tr></table><br/></div><div class=\"wandb-col\"><h3>Run summary:</h3><br/><table class=\"wandb\"><tr><td>epoch</td><td>9</td></tr><tr><td>train_accuracy</td><td>0.88678</td></tr><tr><td>train_loss</td><td>0.34699</td></tr><tr><td>val_accuracy</td><td>0.86849</td></tr><tr><td>val_loss</td><td>0.44908</td></tr></table><br/></div></div>"
            ]
          },
          "metadata": {}
        },
        {
          "output_type": "display_data",
          "data": {
            "text/plain": [
              "<IPython.core.display.HTML object>"
            ],
            "text/html": [
              " View run <strong style=\"color:#cdcd00\">ed_16_hs_256_enc_1_dec_1_cell_RNN_drop_0.2</strong> at: <a href='https://wandb.ai/vinyk-sd-indian-institute-of-technology-madras/Assignment3_Attempt1/runs/1c8p394d' target=\"_blank\">https://wandb.ai/vinyk-sd-indian-institute-of-technology-madras/Assignment3_Attempt1/runs/1c8p394d</a><br> View project at: <a href='https://wandb.ai/vinyk-sd-indian-institute-of-technology-madras/Assignment3_Attempt1' target=\"_blank\">https://wandb.ai/vinyk-sd-indian-institute-of-technology-madras/Assignment3_Attempt1</a><br>Synced 5 W&B file(s), 0 media file(s), 0 artifact file(s) and 0 other file(s)"
            ]
          },
          "metadata": {}
        },
        {
          "output_type": "display_data",
          "data": {
            "text/plain": [
              "<IPython.core.display.HTML object>"
            ],
            "text/html": [
              "Find logs at: <code>./wandb/run-20250519_145514-1c8p394d/logs</code>"
            ]
          },
          "metadata": {}
        },
        {
          "output_type": "stream",
          "name": "stderr",
          "text": [
            "\u001b[34m\u001b[1mwandb\u001b[0m: Agent Starting Run: k88ccrc8 with config:\n",
            "\u001b[34m\u001b[1mwandb\u001b[0m: \tcell_type: RNN\n",
            "\u001b[34m\u001b[1mwandb\u001b[0m: \tdropout: 0.3\n",
            "\u001b[34m\u001b[1mwandb\u001b[0m: \tembedding_size: 32\n",
            "\u001b[34m\u001b[1mwandb\u001b[0m: \thidden_size: 256\n",
            "\u001b[34m\u001b[1mwandb\u001b[0m: \tnum_decoder_layers: 1\n",
            "\u001b[34m\u001b[1mwandb\u001b[0m: \tnum_encoder_layers: 1\n"
          ]
        },
        {
          "output_type": "display_data",
          "data": {
            "text/plain": [
              "<IPython.core.display.HTML object>"
            ],
            "text/html": [
              "Tracking run with wandb version 0.19.11"
            ]
          },
          "metadata": {}
        },
        {
          "output_type": "display_data",
          "data": {
            "text/plain": [
              "<IPython.core.display.HTML object>"
            ],
            "text/html": [
              "Run data is saved locally in <code>/content/wandb/run-20250519_145913-k88ccrc8</code>"
            ]
          },
          "metadata": {}
        },
        {
          "output_type": "display_data",
          "data": {
            "text/plain": [
              "<IPython.core.display.HTML object>"
            ],
            "text/html": [
              "Syncing run <strong><a href='https://wandb.ai/vinyk-sd-indian-institute-of-technology-madras/Assignment3_Attempt1/runs/k88ccrc8' target=\"_blank\">fresh-sweep-8</a></strong> to <a href='https://wandb.ai/vinyk-sd-indian-institute-of-technology-madras/Assignment3_Attempt1' target=\"_blank\">Weights & Biases</a> (<a href='https://wandb.me/developer-guide' target=\"_blank\">docs</a>)<br>Sweep page: <a href='https://wandb.ai/vinyk-sd-indian-institute-of-technology-madras/Assignment3_Attempt1/sweeps/n6e7axcm' target=\"_blank\">https://wandb.ai/vinyk-sd-indian-institute-of-technology-madras/Assignment3_Attempt1/sweeps/n6e7axcm</a>"
            ]
          },
          "metadata": {}
        },
        {
          "output_type": "display_data",
          "data": {
            "text/plain": [
              "<IPython.core.display.HTML object>"
            ],
            "text/html": [
              " View project at <a href='https://wandb.ai/vinyk-sd-indian-institute-of-technology-madras/Assignment3_Attempt1' target=\"_blank\">https://wandb.ai/vinyk-sd-indian-institute-of-technology-madras/Assignment3_Attempt1</a>"
            ]
          },
          "metadata": {}
        },
        {
          "output_type": "display_data",
          "data": {
            "text/plain": [
              "<IPython.core.display.HTML object>"
            ],
            "text/html": [
              " View sweep at <a href='https://wandb.ai/vinyk-sd-indian-institute-of-technology-madras/Assignment3_Attempt1/sweeps/n6e7axcm' target=\"_blank\">https://wandb.ai/vinyk-sd-indian-institute-of-technology-madras/Assignment3_Attempt1/sweeps/n6e7axcm</a>"
            ]
          },
          "metadata": {}
        },
        {
          "output_type": "display_data",
          "data": {
            "text/plain": [
              "<IPython.core.display.HTML object>"
            ],
            "text/html": [
              " View run at <a href='https://wandb.ai/vinyk-sd-indian-institute-of-technology-madras/Assignment3_Attempt1/runs/k88ccrc8' target=\"_blank\">https://wandb.ai/vinyk-sd-indian-institute-of-technology-madras/Assignment3_Attempt1/runs/k88ccrc8</a>"
            ]
          },
          "metadata": {}
        },
        {
          "output_type": "stream",
          "name": "stdout",
          "text": [
            "\n",
            "Final Run Metrics for ed_32_hs_256_enc_1_dec_1_cell_RNN_drop_0.3:\n",
            "Train Loss: 0.2953 | Train Accuracy: 0.8983\n",
            "Val   Loss: 0.4093 | Val   Accuracy: 0.8780\n",
            "\n"
          ]
        },
        {
          "output_type": "display_data",
          "data": {
            "text/plain": [
              "<IPython.core.display.HTML object>"
            ],
            "text/html": []
          },
          "metadata": {}
        },
        {
          "output_type": "display_data",
          "data": {
            "text/plain": [
              "<IPython.core.display.HTML object>"
            ],
            "text/html": [
              "<br>    <style><br>        .wandb-row {<br>            display: flex;<br>            flex-direction: row;<br>            flex-wrap: wrap;<br>            justify-content: flex-start;<br>            width: 100%;<br>        }<br>        .wandb-col {<br>            display: flex;<br>            flex-direction: column;<br>            flex-basis: 100%;<br>            flex: 1;<br>            padding: 10px;<br>        }<br>    </style><br><div class=\"wandb-row\"><div class=\"wandb-col\"><h3>Run history:</h3><br/><table class=\"wandb\"><tr><td>epoch</td><td>▁▂▃▃▄▅▆▆▇█</td></tr><tr><td>train_accuracy</td><td>▁▆▇▇▇█████</td></tr><tr><td>train_loss</td><td>█▃▂▂▂▁▁▁▁▁</td></tr><tr><td>val_accuracy</td><td>▂▄▁▇▆█▇▇██</td></tr><tr><td>val_loss</td><td>█▆█▃▃▁▁▂▁▂</td></tr></table><br/></div><div class=\"wandb-col\"><h3>Run summary:</h3><br/><table class=\"wandb\"><tr><td>epoch</td><td>9</td></tr><tr><td>train_accuracy</td><td>0.89832</td></tr><tr><td>train_loss</td><td>0.29528</td></tr><tr><td>val_accuracy</td><td>0.87795</td></tr><tr><td>val_loss</td><td>0.40935</td></tr></table><br/></div></div>"
            ]
          },
          "metadata": {}
        },
        {
          "output_type": "display_data",
          "data": {
            "text/plain": [
              "<IPython.core.display.HTML object>"
            ],
            "text/html": [
              " View run <strong style=\"color:#cdcd00\">ed_32_hs_256_enc_1_dec_1_cell_RNN_drop_0.3</strong> at: <a href='https://wandb.ai/vinyk-sd-indian-institute-of-technology-madras/Assignment3_Attempt1/runs/k88ccrc8' target=\"_blank\">https://wandb.ai/vinyk-sd-indian-institute-of-technology-madras/Assignment3_Attempt1/runs/k88ccrc8</a><br> View project at: <a href='https://wandb.ai/vinyk-sd-indian-institute-of-technology-madras/Assignment3_Attempt1' target=\"_blank\">https://wandb.ai/vinyk-sd-indian-institute-of-technology-madras/Assignment3_Attempt1</a><br>Synced 5 W&B file(s), 0 media file(s), 0 artifact file(s) and 0 other file(s)"
            ]
          },
          "metadata": {}
        },
        {
          "output_type": "display_data",
          "data": {
            "text/plain": [
              "<IPython.core.display.HTML object>"
            ],
            "text/html": [
              "Find logs at: <code>./wandb/run-20250519_145913-k88ccrc8/logs</code>"
            ]
          },
          "metadata": {}
        },
        {
          "output_type": "stream",
          "name": "stderr",
          "text": [
            "\u001b[34m\u001b[1mwandb\u001b[0m: Agent Starting Run: m9tkmr3m with config:\n",
            "\u001b[34m\u001b[1mwandb\u001b[0m: \tcell_type: RNN\n",
            "\u001b[34m\u001b[1mwandb\u001b[0m: \tdropout: 0.3\n",
            "\u001b[34m\u001b[1mwandb\u001b[0m: \tembedding_size: 16\n",
            "\u001b[34m\u001b[1mwandb\u001b[0m: \thidden_size: 256\n",
            "\u001b[34m\u001b[1mwandb\u001b[0m: \tnum_decoder_layers: 1\n",
            "\u001b[34m\u001b[1mwandb\u001b[0m: \tnum_encoder_layers: 1\n"
          ]
        },
        {
          "output_type": "display_data",
          "data": {
            "text/plain": [
              "<IPython.core.display.HTML object>"
            ],
            "text/html": [
              "Tracking run with wandb version 0.19.11"
            ]
          },
          "metadata": {}
        },
        {
          "output_type": "display_data",
          "data": {
            "text/plain": [
              "<IPython.core.display.HTML object>"
            ],
            "text/html": [
              "Run data is saved locally in <code>/content/wandb/run-20250519_150311-m9tkmr3m</code>"
            ]
          },
          "metadata": {}
        },
        {
          "output_type": "display_data",
          "data": {
            "text/plain": [
              "<IPython.core.display.HTML object>"
            ],
            "text/html": [
              "Syncing run <strong><a href='https://wandb.ai/vinyk-sd-indian-institute-of-technology-madras/Assignment3_Attempt1/runs/m9tkmr3m' target=\"_blank\">desert-sweep-9</a></strong> to <a href='https://wandb.ai/vinyk-sd-indian-institute-of-technology-madras/Assignment3_Attempt1' target=\"_blank\">Weights & Biases</a> (<a href='https://wandb.me/developer-guide' target=\"_blank\">docs</a>)<br>Sweep page: <a href='https://wandb.ai/vinyk-sd-indian-institute-of-technology-madras/Assignment3_Attempt1/sweeps/n6e7axcm' target=\"_blank\">https://wandb.ai/vinyk-sd-indian-institute-of-technology-madras/Assignment3_Attempt1/sweeps/n6e7axcm</a>"
            ]
          },
          "metadata": {}
        },
        {
          "output_type": "display_data",
          "data": {
            "text/plain": [
              "<IPython.core.display.HTML object>"
            ],
            "text/html": [
              " View project at <a href='https://wandb.ai/vinyk-sd-indian-institute-of-technology-madras/Assignment3_Attempt1' target=\"_blank\">https://wandb.ai/vinyk-sd-indian-institute-of-technology-madras/Assignment3_Attempt1</a>"
            ]
          },
          "metadata": {}
        },
        {
          "output_type": "display_data",
          "data": {
            "text/plain": [
              "<IPython.core.display.HTML object>"
            ],
            "text/html": [
              " View sweep at <a href='https://wandb.ai/vinyk-sd-indian-institute-of-technology-madras/Assignment3_Attempt1/sweeps/n6e7axcm' target=\"_blank\">https://wandb.ai/vinyk-sd-indian-institute-of-technology-madras/Assignment3_Attempt1/sweeps/n6e7axcm</a>"
            ]
          },
          "metadata": {}
        },
        {
          "output_type": "display_data",
          "data": {
            "text/plain": [
              "<IPython.core.display.HTML object>"
            ],
            "text/html": [
              " View run at <a href='https://wandb.ai/vinyk-sd-indian-institute-of-technology-madras/Assignment3_Attempt1/runs/m9tkmr3m' target=\"_blank\">https://wandb.ai/vinyk-sd-indian-institute-of-technology-madras/Assignment3_Attempt1/runs/m9tkmr3m</a>"
            ]
          },
          "metadata": {}
        },
        {
          "output_type": "stream",
          "name": "stdout",
          "text": [
            "\n",
            "Final Run Metrics for ed_16_hs_256_enc_1_dec_1_cell_RNN_drop_0.3:\n",
            "Train Loss: 0.3228 | Train Accuracy: 0.8922\n",
            "Val   Loss: 0.4302 | Val   Accuracy: 0.8711\n",
            "\n"
          ]
        },
        {
          "output_type": "display_data",
          "data": {
            "text/plain": [
              "<IPython.core.display.HTML object>"
            ],
            "text/html": []
          },
          "metadata": {}
        },
        {
          "output_type": "display_data",
          "data": {
            "text/plain": [
              "<IPython.core.display.HTML object>"
            ],
            "text/html": [
              "<br>    <style><br>        .wandb-row {<br>            display: flex;<br>            flex-direction: row;<br>            flex-wrap: wrap;<br>            justify-content: flex-start;<br>            width: 100%;<br>        }<br>        .wandb-col {<br>            display: flex;<br>            flex-direction: column;<br>            flex-basis: 100%;<br>            flex: 1;<br>            padding: 10px;<br>        }<br>    </style><br><div class=\"wandb-row\"><div class=\"wandb-col\"><h3>Run history:</h3><br/><table class=\"wandb\"><tr><td>epoch</td><td>▁▂▃▃▄▅▆▆▇█</td></tr><tr><td>train_accuracy</td><td>▁▆▇▇██████</td></tr><tr><td>train_loss</td><td>█▃▂▂▂▁▁▁▁▁</td></tr><tr><td>val_accuracy</td><td>▁▄▃▇▇██▇█▇</td></tr><tr><td>val_loss</td><td>█▅▆▂▂▂▁▁▁▁</td></tr></table><br/></div><div class=\"wandb-col\"><h3>Run summary:</h3><br/><table class=\"wandb\"><tr><td>epoch</td><td>9</td></tr><tr><td>train_accuracy</td><td>0.89224</td></tr><tr><td>train_loss</td><td>0.32277</td></tr><tr><td>val_accuracy</td><td>0.8711</td></tr><tr><td>val_loss</td><td>0.43025</td></tr></table><br/></div></div>"
            ]
          },
          "metadata": {}
        },
        {
          "output_type": "display_data",
          "data": {
            "text/plain": [
              "<IPython.core.display.HTML object>"
            ],
            "text/html": [
              " View run <strong style=\"color:#cdcd00\">ed_16_hs_256_enc_1_dec_1_cell_RNN_drop_0.3</strong> at: <a href='https://wandb.ai/vinyk-sd-indian-institute-of-technology-madras/Assignment3_Attempt1/runs/m9tkmr3m' target=\"_blank\">https://wandb.ai/vinyk-sd-indian-institute-of-technology-madras/Assignment3_Attempt1/runs/m9tkmr3m</a><br> View project at: <a href='https://wandb.ai/vinyk-sd-indian-institute-of-technology-madras/Assignment3_Attempt1' target=\"_blank\">https://wandb.ai/vinyk-sd-indian-institute-of-technology-madras/Assignment3_Attempt1</a><br>Synced 5 W&B file(s), 0 media file(s), 0 artifact file(s) and 0 other file(s)"
            ]
          },
          "metadata": {}
        },
        {
          "output_type": "display_data",
          "data": {
            "text/plain": [
              "<IPython.core.display.HTML object>"
            ],
            "text/html": [
              "Find logs at: <code>./wandb/run-20250519_150311-m9tkmr3m/logs</code>"
            ]
          },
          "metadata": {}
        },
        {
          "output_type": "stream",
          "name": "stderr",
          "text": [
            "\u001b[34m\u001b[1mwandb\u001b[0m: Agent Starting Run: ev9zfezu with config:\n",
            "\u001b[34m\u001b[1mwandb\u001b[0m: \tcell_type: RNN\n",
            "\u001b[34m\u001b[1mwandb\u001b[0m: \tdropout: 0.3\n",
            "\u001b[34m\u001b[1mwandb\u001b[0m: \tembedding_size: 32\n",
            "\u001b[34m\u001b[1mwandb\u001b[0m: \thidden_size: 256\n",
            "\u001b[34m\u001b[1mwandb\u001b[0m: \tnum_decoder_layers: 1\n",
            "\u001b[34m\u001b[1mwandb\u001b[0m: \tnum_encoder_layers: 1\n"
          ]
        },
        {
          "output_type": "display_data",
          "data": {
            "text/plain": [
              "<IPython.core.display.HTML object>"
            ],
            "text/html": [
              "Tracking run with wandb version 0.19.11"
            ]
          },
          "metadata": {}
        },
        {
          "output_type": "display_data",
          "data": {
            "text/plain": [
              "<IPython.core.display.HTML object>"
            ],
            "text/html": [
              "Run data is saved locally in <code>/content/wandb/run-20250519_150710-ev9zfezu</code>"
            ]
          },
          "metadata": {}
        },
        {
          "output_type": "display_data",
          "data": {
            "text/plain": [
              "<IPython.core.display.HTML object>"
            ],
            "text/html": [
              "Syncing run <strong><a href='https://wandb.ai/vinyk-sd-indian-institute-of-technology-madras/Assignment3_Attempt1/runs/ev9zfezu' target=\"_blank\">exalted-sweep-10</a></strong> to <a href='https://wandb.ai/vinyk-sd-indian-institute-of-technology-madras/Assignment3_Attempt1' target=\"_blank\">Weights & Biases</a> (<a href='https://wandb.me/developer-guide' target=\"_blank\">docs</a>)<br>Sweep page: <a href='https://wandb.ai/vinyk-sd-indian-institute-of-technology-madras/Assignment3_Attempt1/sweeps/n6e7axcm' target=\"_blank\">https://wandb.ai/vinyk-sd-indian-institute-of-technology-madras/Assignment3_Attempt1/sweeps/n6e7axcm</a>"
            ]
          },
          "metadata": {}
        },
        {
          "output_type": "display_data",
          "data": {
            "text/plain": [
              "<IPython.core.display.HTML object>"
            ],
            "text/html": [
              " View project at <a href='https://wandb.ai/vinyk-sd-indian-institute-of-technology-madras/Assignment3_Attempt1' target=\"_blank\">https://wandb.ai/vinyk-sd-indian-institute-of-technology-madras/Assignment3_Attempt1</a>"
            ]
          },
          "metadata": {}
        },
        {
          "output_type": "display_data",
          "data": {
            "text/plain": [
              "<IPython.core.display.HTML object>"
            ],
            "text/html": [
              " View sweep at <a href='https://wandb.ai/vinyk-sd-indian-institute-of-technology-madras/Assignment3_Attempt1/sweeps/n6e7axcm' target=\"_blank\">https://wandb.ai/vinyk-sd-indian-institute-of-technology-madras/Assignment3_Attempt1/sweeps/n6e7axcm</a>"
            ]
          },
          "metadata": {}
        },
        {
          "output_type": "display_data",
          "data": {
            "text/plain": [
              "<IPython.core.display.HTML object>"
            ],
            "text/html": [
              " View run at <a href='https://wandb.ai/vinyk-sd-indian-institute-of-technology-madras/Assignment3_Attempt1/runs/ev9zfezu' target=\"_blank\">https://wandb.ai/vinyk-sd-indian-institute-of-technology-madras/Assignment3_Attempt1/runs/ev9zfezu</a>"
            ]
          },
          "metadata": {}
        },
        {
          "output_type": "stream",
          "name": "stdout",
          "text": [
            "\n",
            "Final Run Metrics for ed_32_hs_256_enc_1_dec_1_cell_RNN_drop_0.3:\n",
            "Train Loss: 0.3009 | Train Accuracy: 0.8975\n",
            "Val   Loss: 0.3845 | Val   Accuracy: 0.8846\n",
            "\n"
          ]
        },
        {
          "output_type": "display_data",
          "data": {
            "text/plain": [
              "<IPython.core.display.HTML object>"
            ],
            "text/html": []
          },
          "metadata": {}
        },
        {
          "output_type": "display_data",
          "data": {
            "text/plain": [
              "<IPython.core.display.HTML object>"
            ],
            "text/html": [
              "<br>    <style><br>        .wandb-row {<br>            display: flex;<br>            flex-direction: row;<br>            flex-wrap: wrap;<br>            justify-content: flex-start;<br>            width: 100%;<br>        }<br>        .wandb-col {<br>            display: flex;<br>            flex-direction: column;<br>            flex-basis: 100%;<br>            flex: 1;<br>            padding: 10px;<br>        }<br>    </style><br><div class=\"wandb-row\"><div class=\"wandb-col\"><h3>Run history:</h3><br/><table class=\"wandb\"><tr><td>epoch</td><td>▁▂▃▃▄▅▆▆▇█</td></tr><tr><td>train_accuracy</td><td>▁▇▇▇▇▇████</td></tr><tr><td>train_loss</td><td>█▃▂▂▂▂▁▁▁▁</td></tr><tr><td>val_accuracy</td><td>▁▅▅▆▆▇▇▇██</td></tr><tr><td>val_loss</td><td>█▄▃▃▂▂▂▂▁▁</td></tr></table><br/></div><div class=\"wandb-col\"><h3>Run summary:</h3><br/><table class=\"wandb\"><tr><td>epoch</td><td>9</td></tr><tr><td>train_accuracy</td><td>0.89749</td></tr><tr><td>train_loss</td><td>0.3009</td></tr><tr><td>val_accuracy</td><td>0.88464</td></tr><tr><td>val_loss</td><td>0.38449</td></tr></table><br/></div></div>"
            ]
          },
          "metadata": {}
        },
        {
          "output_type": "display_data",
          "data": {
            "text/plain": [
              "<IPython.core.display.HTML object>"
            ],
            "text/html": [
              " View run <strong style=\"color:#cdcd00\">ed_32_hs_256_enc_1_dec_1_cell_RNN_drop_0.3</strong> at: <a href='https://wandb.ai/vinyk-sd-indian-institute-of-technology-madras/Assignment3_Attempt1/runs/ev9zfezu' target=\"_blank\">https://wandb.ai/vinyk-sd-indian-institute-of-technology-madras/Assignment3_Attempt1/runs/ev9zfezu</a><br> View project at: <a href='https://wandb.ai/vinyk-sd-indian-institute-of-technology-madras/Assignment3_Attempt1' target=\"_blank\">https://wandb.ai/vinyk-sd-indian-institute-of-technology-madras/Assignment3_Attempt1</a><br>Synced 5 W&B file(s), 0 media file(s), 0 artifact file(s) and 0 other file(s)"
            ]
          },
          "metadata": {}
        },
        {
          "output_type": "display_data",
          "data": {
            "text/plain": [
              "<IPython.core.display.HTML object>"
            ],
            "text/html": [
              "Find logs at: <code>./wandb/run-20250519_150710-ev9zfezu/logs</code>"
            ]
          },
          "metadata": {}
        },
        {
          "output_type": "stream",
          "name": "stderr",
          "text": [
            "\u001b[34m\u001b[1mwandb\u001b[0m: Agent Starting Run: 6s0h4xbk with config:\n",
            "\u001b[34m\u001b[1mwandb\u001b[0m: \tcell_type: RNN\n",
            "\u001b[34m\u001b[1mwandb\u001b[0m: \tdropout: 0.3\n",
            "\u001b[34m\u001b[1mwandb\u001b[0m: \tembedding_size: 64\n",
            "\u001b[34m\u001b[1mwandb\u001b[0m: \thidden_size: 256\n",
            "\u001b[34m\u001b[1mwandb\u001b[0m: \tnum_decoder_layers: 1\n",
            "\u001b[34m\u001b[1mwandb\u001b[0m: \tnum_encoder_layers: 1\n"
          ]
        },
        {
          "output_type": "display_data",
          "data": {
            "text/plain": [
              "<IPython.core.display.HTML object>"
            ],
            "text/html": [
              "Tracking run with wandb version 0.19.11"
            ]
          },
          "metadata": {}
        },
        {
          "output_type": "display_data",
          "data": {
            "text/plain": [
              "<IPython.core.display.HTML object>"
            ],
            "text/html": [
              "Run data is saved locally in <code>/content/wandb/run-20250519_151108-6s0h4xbk</code>"
            ]
          },
          "metadata": {}
        },
        {
          "output_type": "display_data",
          "data": {
            "text/plain": [
              "<IPython.core.display.HTML object>"
            ],
            "text/html": [
              "Syncing run <strong><a href='https://wandb.ai/vinyk-sd-indian-institute-of-technology-madras/Assignment3_Attempt1/runs/6s0h4xbk' target=\"_blank\">clear-sweep-11</a></strong> to <a href='https://wandb.ai/vinyk-sd-indian-institute-of-technology-madras/Assignment3_Attempt1' target=\"_blank\">Weights & Biases</a> (<a href='https://wandb.me/developer-guide' target=\"_blank\">docs</a>)<br>Sweep page: <a href='https://wandb.ai/vinyk-sd-indian-institute-of-technology-madras/Assignment3_Attempt1/sweeps/n6e7axcm' target=\"_blank\">https://wandb.ai/vinyk-sd-indian-institute-of-technology-madras/Assignment3_Attempt1/sweeps/n6e7axcm</a>"
            ]
          },
          "metadata": {}
        },
        {
          "output_type": "display_data",
          "data": {
            "text/plain": [
              "<IPython.core.display.HTML object>"
            ],
            "text/html": [
              " View project at <a href='https://wandb.ai/vinyk-sd-indian-institute-of-technology-madras/Assignment3_Attempt1' target=\"_blank\">https://wandb.ai/vinyk-sd-indian-institute-of-technology-madras/Assignment3_Attempt1</a>"
            ]
          },
          "metadata": {}
        },
        {
          "output_type": "display_data",
          "data": {
            "text/plain": [
              "<IPython.core.display.HTML object>"
            ],
            "text/html": [
              " View sweep at <a href='https://wandb.ai/vinyk-sd-indian-institute-of-technology-madras/Assignment3_Attempt1/sweeps/n6e7axcm' target=\"_blank\">https://wandb.ai/vinyk-sd-indian-institute-of-technology-madras/Assignment3_Attempt1/sweeps/n6e7axcm</a>"
            ]
          },
          "metadata": {}
        },
        {
          "output_type": "display_data",
          "data": {
            "text/plain": [
              "<IPython.core.display.HTML object>"
            ],
            "text/html": [
              " View run at <a href='https://wandb.ai/vinyk-sd-indian-institute-of-technology-madras/Assignment3_Attempt1/runs/6s0h4xbk' target=\"_blank\">https://wandb.ai/vinyk-sd-indian-institute-of-technology-madras/Assignment3_Attempt1/runs/6s0h4xbk</a>"
            ]
          },
          "metadata": {}
        },
        {
          "output_type": "stream",
          "name": "stdout",
          "text": [
            "\n",
            "Final Run Metrics for ed_64_hs_256_enc_1_dec_1_cell_RNN_drop_0.3:\n",
            "Train Loss: 0.2976 | Train Accuracy: 0.8972\n",
            "Val   Loss: 0.3791 | Val   Accuracy: 0.8846\n",
            "\n"
          ]
        },
        {
          "output_type": "display_data",
          "data": {
            "text/plain": [
              "<IPython.core.display.HTML object>"
            ],
            "text/html": []
          },
          "metadata": {}
        },
        {
          "output_type": "display_data",
          "data": {
            "text/plain": [
              "<IPython.core.display.HTML object>"
            ],
            "text/html": [
              "<br>    <style><br>        .wandb-row {<br>            display: flex;<br>            flex-direction: row;<br>            flex-wrap: wrap;<br>            justify-content: flex-start;<br>            width: 100%;<br>        }<br>        .wandb-col {<br>            display: flex;<br>            flex-direction: column;<br>            flex-basis: 100%;<br>            flex: 1;<br>            padding: 10px;<br>        }<br>    </style><br><div class=\"wandb-row\"><div class=\"wandb-col\"><h3>Run history:</h3><br/><table class=\"wandb\"><tr><td>epoch</td><td>▁▂▃▃▄▅▆▆▇█</td></tr><tr><td>train_accuracy</td><td>▁▆▇▇▇█████</td></tr><tr><td>train_loss</td><td>█▃▂▂▂▁▁▁▁▁</td></tr><tr><td>val_accuracy</td><td>▁▄▇▆▇▇▇███</td></tr><tr><td>val_loss</td><td>█▅▂▂▁▂▁▁▂▁</td></tr></table><br/></div><div class=\"wandb-col\"><h3>Run summary:</h3><br/><table class=\"wandb\"><tr><td>epoch</td><td>9</td></tr><tr><td>train_accuracy</td><td>0.89723</td></tr><tr><td>train_loss</td><td>0.29764</td></tr><tr><td>val_accuracy</td><td>0.88455</td></tr><tr><td>val_loss</td><td>0.37912</td></tr></table><br/></div></div>"
            ]
          },
          "metadata": {}
        },
        {
          "output_type": "display_data",
          "data": {
            "text/plain": [
              "<IPython.core.display.HTML object>"
            ],
            "text/html": [
              " View run <strong style=\"color:#cdcd00\">ed_64_hs_256_enc_1_dec_1_cell_RNN_drop_0.3</strong> at: <a href='https://wandb.ai/vinyk-sd-indian-institute-of-technology-madras/Assignment3_Attempt1/runs/6s0h4xbk' target=\"_blank\">https://wandb.ai/vinyk-sd-indian-institute-of-technology-madras/Assignment3_Attempt1/runs/6s0h4xbk</a><br> View project at: <a href='https://wandb.ai/vinyk-sd-indian-institute-of-technology-madras/Assignment3_Attempt1' target=\"_blank\">https://wandb.ai/vinyk-sd-indian-institute-of-technology-madras/Assignment3_Attempt1</a><br>Synced 5 W&B file(s), 0 media file(s), 0 artifact file(s) and 0 other file(s)"
            ]
          },
          "metadata": {}
        },
        {
          "output_type": "display_data",
          "data": {
            "text/plain": [
              "<IPython.core.display.HTML object>"
            ],
            "text/html": [
              "Find logs at: <code>./wandb/run-20250519_151108-6s0h4xbk/logs</code>"
            ]
          },
          "metadata": {}
        },
        {
          "output_type": "stream",
          "name": "stderr",
          "text": [
            "\u001b[34m\u001b[1mwandb\u001b[0m: Agent Starting Run: nj7mk5tr with config:\n",
            "\u001b[34m\u001b[1mwandb\u001b[0m: \tcell_type: RNN\n",
            "\u001b[34m\u001b[1mwandb\u001b[0m: \tdropout: 0.3\n",
            "\u001b[34m\u001b[1mwandb\u001b[0m: \tembedding_size: 32\n",
            "\u001b[34m\u001b[1mwandb\u001b[0m: \thidden_size: 256\n",
            "\u001b[34m\u001b[1mwandb\u001b[0m: \tnum_decoder_layers: 1\n",
            "\u001b[34m\u001b[1mwandb\u001b[0m: \tnum_encoder_layers: 1\n"
          ]
        },
        {
          "output_type": "display_data",
          "data": {
            "text/plain": [
              "<IPython.core.display.HTML object>"
            ],
            "text/html": [
              "Tracking run with wandb version 0.19.11"
            ]
          },
          "metadata": {}
        },
        {
          "output_type": "display_data",
          "data": {
            "text/plain": [
              "<IPython.core.display.HTML object>"
            ],
            "text/html": [
              "Run data is saved locally in <code>/content/wandb/run-20250519_151507-nj7mk5tr</code>"
            ]
          },
          "metadata": {}
        },
        {
          "output_type": "display_data",
          "data": {
            "text/plain": [
              "<IPython.core.display.HTML object>"
            ],
            "text/html": [
              "Syncing run <strong><a href='https://wandb.ai/vinyk-sd-indian-institute-of-technology-madras/Assignment3_Attempt1/runs/nj7mk5tr' target=\"_blank\">misty-sweep-12</a></strong> to <a href='https://wandb.ai/vinyk-sd-indian-institute-of-technology-madras/Assignment3_Attempt1' target=\"_blank\">Weights & Biases</a> (<a href='https://wandb.me/developer-guide' target=\"_blank\">docs</a>)<br>Sweep page: <a href='https://wandb.ai/vinyk-sd-indian-institute-of-technology-madras/Assignment3_Attempt1/sweeps/n6e7axcm' target=\"_blank\">https://wandb.ai/vinyk-sd-indian-institute-of-technology-madras/Assignment3_Attempt1/sweeps/n6e7axcm</a>"
            ]
          },
          "metadata": {}
        },
        {
          "output_type": "display_data",
          "data": {
            "text/plain": [
              "<IPython.core.display.HTML object>"
            ],
            "text/html": [
              " View project at <a href='https://wandb.ai/vinyk-sd-indian-institute-of-technology-madras/Assignment3_Attempt1' target=\"_blank\">https://wandb.ai/vinyk-sd-indian-institute-of-technology-madras/Assignment3_Attempt1</a>"
            ]
          },
          "metadata": {}
        },
        {
          "output_type": "display_data",
          "data": {
            "text/plain": [
              "<IPython.core.display.HTML object>"
            ],
            "text/html": [
              " View sweep at <a href='https://wandb.ai/vinyk-sd-indian-institute-of-technology-madras/Assignment3_Attempt1/sweeps/n6e7axcm' target=\"_blank\">https://wandb.ai/vinyk-sd-indian-institute-of-technology-madras/Assignment3_Attempt1/sweeps/n6e7axcm</a>"
            ]
          },
          "metadata": {}
        },
        {
          "output_type": "display_data",
          "data": {
            "text/plain": [
              "<IPython.core.display.HTML object>"
            ],
            "text/html": [
              " View run at <a href='https://wandb.ai/vinyk-sd-indian-institute-of-technology-madras/Assignment3_Attempt1/runs/nj7mk5tr' target=\"_blank\">https://wandb.ai/vinyk-sd-indian-institute-of-technology-madras/Assignment3_Attempt1/runs/nj7mk5tr</a>"
            ]
          },
          "metadata": {}
        },
        {
          "output_type": "stream",
          "name": "stdout",
          "text": [
            "\n",
            "Final Run Metrics for ed_32_hs_256_enc_1_dec_1_cell_RNN_drop_0.3:\n",
            "Train Loss: 0.3083 | Train Accuracy: 0.8952\n",
            "Val   Loss: 0.3825 | Val   Accuracy: 0.8832\n",
            "\n"
          ]
        },
        {
          "output_type": "display_data",
          "data": {
            "text/plain": [
              "<IPython.core.display.HTML object>"
            ],
            "text/html": []
          },
          "metadata": {}
        },
        {
          "output_type": "display_data",
          "data": {
            "text/plain": [
              "<IPython.core.display.HTML object>"
            ],
            "text/html": [
              "<br>    <style><br>        .wandb-row {<br>            display: flex;<br>            flex-direction: row;<br>            flex-wrap: wrap;<br>            justify-content: flex-start;<br>            width: 100%;<br>        }<br>        .wandb-col {<br>            display: flex;<br>            flex-direction: column;<br>            flex-basis: 100%;<br>            flex: 1;<br>            padding: 10px;<br>        }<br>    </style><br><div class=\"wandb-row\"><div class=\"wandb-col\"><h3>Run history:</h3><br/><table class=\"wandb\"><tr><td>epoch</td><td>▁▂▃▃▄▅▆▆▇█</td></tr><tr><td>train_accuracy</td><td>▁▇▇▇██████</td></tr><tr><td>train_loss</td><td>█▃▂▂▂▁▁▁▁▁</td></tr><tr><td>val_accuracy</td><td>▁▅▄▅▇▇▇▇▇█</td></tr><tr><td>val_loss</td><td>█▄▅▃▂▂▂▂▂▁</td></tr></table><br/></div><div class=\"wandb-col\"><h3>Run summary:</h3><br/><table class=\"wandb\"><tr><td>epoch</td><td>9</td></tr><tr><td>train_accuracy</td><td>0.89519</td></tr><tr><td>train_loss</td><td>0.3083</td></tr><tr><td>val_accuracy</td><td>0.88325</td></tr><tr><td>val_loss</td><td>0.38246</td></tr></table><br/></div></div>"
            ]
          },
          "metadata": {}
        },
        {
          "output_type": "display_data",
          "data": {
            "text/plain": [
              "<IPython.core.display.HTML object>"
            ],
            "text/html": [
              " View run <strong style=\"color:#cdcd00\">ed_32_hs_256_enc_1_dec_1_cell_RNN_drop_0.3</strong> at: <a href='https://wandb.ai/vinyk-sd-indian-institute-of-technology-madras/Assignment3_Attempt1/runs/nj7mk5tr' target=\"_blank\">https://wandb.ai/vinyk-sd-indian-institute-of-technology-madras/Assignment3_Attempt1/runs/nj7mk5tr</a><br> View project at: <a href='https://wandb.ai/vinyk-sd-indian-institute-of-technology-madras/Assignment3_Attempt1' target=\"_blank\">https://wandb.ai/vinyk-sd-indian-institute-of-technology-madras/Assignment3_Attempt1</a><br>Synced 5 W&B file(s), 0 media file(s), 0 artifact file(s) and 0 other file(s)"
            ]
          },
          "metadata": {}
        },
        {
          "output_type": "display_data",
          "data": {
            "text/plain": [
              "<IPython.core.display.HTML object>"
            ],
            "text/html": [
              "Find logs at: <code>./wandb/run-20250519_151507-nj7mk5tr/logs</code>"
            ]
          },
          "metadata": {}
        },
        {
          "output_type": "stream",
          "name": "stderr",
          "text": [
            "\u001b[34m\u001b[1mwandb\u001b[0m: Agent Starting Run: w4dp1vg8 with config:\n",
            "\u001b[34m\u001b[1mwandb\u001b[0m: \tcell_type: RNN\n",
            "\u001b[34m\u001b[1mwandb\u001b[0m: \tdropout: 0.3\n",
            "\u001b[34m\u001b[1mwandb\u001b[0m: \tembedding_size: 64\n",
            "\u001b[34m\u001b[1mwandb\u001b[0m: \thidden_size: 256\n",
            "\u001b[34m\u001b[1mwandb\u001b[0m: \tnum_decoder_layers: 1\n",
            "\u001b[34m\u001b[1mwandb\u001b[0m: \tnum_encoder_layers: 1\n"
          ]
        },
        {
          "output_type": "display_data",
          "data": {
            "text/plain": [
              "<IPython.core.display.HTML object>"
            ],
            "text/html": [
              "Tracking run with wandb version 0.19.11"
            ]
          },
          "metadata": {}
        },
        {
          "output_type": "display_data",
          "data": {
            "text/plain": [
              "<IPython.core.display.HTML object>"
            ],
            "text/html": [
              "Run data is saved locally in <code>/content/wandb/run-20250519_151905-w4dp1vg8</code>"
            ]
          },
          "metadata": {}
        },
        {
          "output_type": "display_data",
          "data": {
            "text/plain": [
              "<IPython.core.display.HTML object>"
            ],
            "text/html": [
              "Syncing run <strong><a href='https://wandb.ai/vinyk-sd-indian-institute-of-technology-madras/Assignment3_Attempt1/runs/w4dp1vg8' target=\"_blank\">divine-sweep-13</a></strong> to <a href='https://wandb.ai/vinyk-sd-indian-institute-of-technology-madras/Assignment3_Attempt1' target=\"_blank\">Weights & Biases</a> (<a href='https://wandb.me/developer-guide' target=\"_blank\">docs</a>)<br>Sweep page: <a href='https://wandb.ai/vinyk-sd-indian-institute-of-technology-madras/Assignment3_Attempt1/sweeps/n6e7axcm' target=\"_blank\">https://wandb.ai/vinyk-sd-indian-institute-of-technology-madras/Assignment3_Attempt1/sweeps/n6e7axcm</a>"
            ]
          },
          "metadata": {}
        },
        {
          "output_type": "display_data",
          "data": {
            "text/plain": [
              "<IPython.core.display.HTML object>"
            ],
            "text/html": [
              " View project at <a href='https://wandb.ai/vinyk-sd-indian-institute-of-technology-madras/Assignment3_Attempt1' target=\"_blank\">https://wandb.ai/vinyk-sd-indian-institute-of-technology-madras/Assignment3_Attempt1</a>"
            ]
          },
          "metadata": {}
        },
        {
          "output_type": "display_data",
          "data": {
            "text/plain": [
              "<IPython.core.display.HTML object>"
            ],
            "text/html": [
              " View sweep at <a href='https://wandb.ai/vinyk-sd-indian-institute-of-technology-madras/Assignment3_Attempt1/sweeps/n6e7axcm' target=\"_blank\">https://wandb.ai/vinyk-sd-indian-institute-of-technology-madras/Assignment3_Attempt1/sweeps/n6e7axcm</a>"
            ]
          },
          "metadata": {}
        },
        {
          "output_type": "display_data",
          "data": {
            "text/plain": [
              "<IPython.core.display.HTML object>"
            ],
            "text/html": [
              " View run at <a href='https://wandb.ai/vinyk-sd-indian-institute-of-technology-madras/Assignment3_Attempt1/runs/w4dp1vg8' target=\"_blank\">https://wandb.ai/vinyk-sd-indian-institute-of-technology-madras/Assignment3_Attempt1/runs/w4dp1vg8</a>"
            ]
          },
          "metadata": {}
        },
        {
          "output_type": "stream",
          "name": "stdout",
          "text": [
            "\n",
            "Final Run Metrics for ed_64_hs_256_enc_1_dec_1_cell_RNN_drop_0.3:\n",
            "Train Loss: 0.2978 | Train Accuracy: 0.8973\n",
            "Val   Loss: 0.3682 | Val   Accuracy: 0.8851\n",
            "\n"
          ]
        },
        {
          "output_type": "display_data",
          "data": {
            "text/plain": [
              "<IPython.core.display.HTML object>"
            ],
            "text/html": []
          },
          "metadata": {}
        },
        {
          "output_type": "display_data",
          "data": {
            "text/plain": [
              "<IPython.core.display.HTML object>"
            ],
            "text/html": [
              "<br>    <style><br>        .wandb-row {<br>            display: flex;<br>            flex-direction: row;<br>            flex-wrap: wrap;<br>            justify-content: flex-start;<br>            width: 100%;<br>        }<br>        .wandb-col {<br>            display: flex;<br>            flex-direction: column;<br>            flex-basis: 100%;<br>            flex: 1;<br>            padding: 10px;<br>        }<br>    </style><br><div class=\"wandb-row\"><div class=\"wandb-col\"><h3>Run history:</h3><br/><table class=\"wandb\"><tr><td>epoch</td><td>▁▂▃▃▄▅▆▆▇█</td></tr><tr><td>train_accuracy</td><td>▁▆▇▇██████</td></tr><tr><td>train_loss</td><td>█▃▂▂▁▁▁▁▁▁</td></tr><tr><td>val_accuracy</td><td>▁▄▅▇▇█▇█▅█</td></tr><tr><td>val_loss</td><td>█▅▃▂▂▂▂▂▄▁</td></tr></table><br/></div><div class=\"wandb-col\"><h3>Run summary:</h3><br/><table class=\"wandb\"><tr><td>epoch</td><td>9</td></tr><tr><td>train_accuracy</td><td>0.89731</td></tr><tr><td>train_loss</td><td>0.29781</td></tr><tr><td>val_accuracy</td><td>0.88513</td></tr><tr><td>val_loss</td><td>0.36816</td></tr></table><br/></div></div>"
            ]
          },
          "metadata": {}
        },
        {
          "output_type": "display_data",
          "data": {
            "text/plain": [
              "<IPython.core.display.HTML object>"
            ],
            "text/html": [
              " View run <strong style=\"color:#cdcd00\">ed_64_hs_256_enc_1_dec_1_cell_RNN_drop_0.3</strong> at: <a href='https://wandb.ai/vinyk-sd-indian-institute-of-technology-madras/Assignment3_Attempt1/runs/w4dp1vg8' target=\"_blank\">https://wandb.ai/vinyk-sd-indian-institute-of-technology-madras/Assignment3_Attempt1/runs/w4dp1vg8</a><br> View project at: <a href='https://wandb.ai/vinyk-sd-indian-institute-of-technology-madras/Assignment3_Attempt1' target=\"_blank\">https://wandb.ai/vinyk-sd-indian-institute-of-technology-madras/Assignment3_Attempt1</a><br>Synced 5 W&B file(s), 0 media file(s), 0 artifact file(s) and 0 other file(s)"
            ]
          },
          "metadata": {}
        },
        {
          "output_type": "display_data",
          "data": {
            "text/plain": [
              "<IPython.core.display.HTML object>"
            ],
            "text/html": [
              "Find logs at: <code>./wandb/run-20250519_151905-w4dp1vg8/logs</code>"
            ]
          },
          "metadata": {}
        },
        {
          "output_type": "stream",
          "name": "stderr",
          "text": [
            "\u001b[34m\u001b[1mwandb\u001b[0m: Agent Starting Run: xi1iyxxs with config:\n",
            "\u001b[34m\u001b[1mwandb\u001b[0m: \tcell_type: RNN\n",
            "\u001b[34m\u001b[1mwandb\u001b[0m: \tdropout: 0.3\n",
            "\u001b[34m\u001b[1mwandb\u001b[0m: \tembedding_size: 256\n",
            "\u001b[34m\u001b[1mwandb\u001b[0m: \thidden_size: 256\n",
            "\u001b[34m\u001b[1mwandb\u001b[0m: \tnum_decoder_layers: 1\n",
            "\u001b[34m\u001b[1mwandb\u001b[0m: \tnum_encoder_layers: 1\n"
          ]
        },
        {
          "output_type": "display_data",
          "data": {
            "text/plain": [
              "<IPython.core.display.HTML object>"
            ],
            "text/html": [
              "Tracking run with wandb version 0.19.11"
            ]
          },
          "metadata": {}
        },
        {
          "output_type": "display_data",
          "data": {
            "text/plain": [
              "<IPython.core.display.HTML object>"
            ],
            "text/html": [
              "Run data is saved locally in <code>/content/wandb/run-20250519_152303-xi1iyxxs</code>"
            ]
          },
          "metadata": {}
        },
        {
          "output_type": "display_data",
          "data": {
            "text/plain": [
              "<IPython.core.display.HTML object>"
            ],
            "text/html": [
              "Syncing run <strong><a href='https://wandb.ai/vinyk-sd-indian-institute-of-technology-madras/Assignment3_Attempt1/runs/xi1iyxxs' target=\"_blank\">vague-sweep-14</a></strong> to <a href='https://wandb.ai/vinyk-sd-indian-institute-of-technology-madras/Assignment3_Attempt1' target=\"_blank\">Weights & Biases</a> (<a href='https://wandb.me/developer-guide' target=\"_blank\">docs</a>)<br>Sweep page: <a href='https://wandb.ai/vinyk-sd-indian-institute-of-technology-madras/Assignment3_Attempt1/sweeps/n6e7axcm' target=\"_blank\">https://wandb.ai/vinyk-sd-indian-institute-of-technology-madras/Assignment3_Attempt1/sweeps/n6e7axcm</a>"
            ]
          },
          "metadata": {}
        },
        {
          "output_type": "display_data",
          "data": {
            "text/plain": [
              "<IPython.core.display.HTML object>"
            ],
            "text/html": [
              " View project at <a href='https://wandb.ai/vinyk-sd-indian-institute-of-technology-madras/Assignment3_Attempt1' target=\"_blank\">https://wandb.ai/vinyk-sd-indian-institute-of-technology-madras/Assignment3_Attempt1</a>"
            ]
          },
          "metadata": {}
        },
        {
          "output_type": "display_data",
          "data": {
            "text/plain": [
              "<IPython.core.display.HTML object>"
            ],
            "text/html": [
              " View sweep at <a href='https://wandb.ai/vinyk-sd-indian-institute-of-technology-madras/Assignment3_Attempt1/sweeps/n6e7axcm' target=\"_blank\">https://wandb.ai/vinyk-sd-indian-institute-of-technology-madras/Assignment3_Attempt1/sweeps/n6e7axcm</a>"
            ]
          },
          "metadata": {}
        },
        {
          "output_type": "display_data",
          "data": {
            "text/plain": [
              "<IPython.core.display.HTML object>"
            ],
            "text/html": [
              " View run at <a href='https://wandb.ai/vinyk-sd-indian-institute-of-technology-madras/Assignment3_Attempt1/runs/xi1iyxxs' target=\"_blank\">https://wandb.ai/vinyk-sd-indian-institute-of-technology-madras/Assignment3_Attempt1/runs/xi1iyxxs</a>"
            ]
          },
          "metadata": {}
        },
        {
          "output_type": "stream",
          "name": "stdout",
          "text": [
            "\n",
            "Final Run Metrics for ed_256_hs_256_enc_1_dec_1_cell_RNN_drop_0.3:\n",
            "Train Loss: 0.3212 | Train Accuracy: 0.8907\n",
            "Val   Loss: 0.3886 | Val   Accuracy: 0.8780\n",
            "\n"
          ]
        },
        {
          "output_type": "display_data",
          "data": {
            "text/plain": [
              "<IPython.core.display.HTML object>"
            ],
            "text/html": []
          },
          "metadata": {}
        },
        {
          "output_type": "display_data",
          "data": {
            "text/plain": [
              "<IPython.core.display.HTML object>"
            ],
            "text/html": [
              "<br>    <style><br>        .wandb-row {<br>            display: flex;<br>            flex-direction: row;<br>            flex-wrap: wrap;<br>            justify-content: flex-start;<br>            width: 100%;<br>        }<br>        .wandb-col {<br>            display: flex;<br>            flex-direction: column;<br>            flex-basis: 100%;<br>            flex: 1;<br>            padding: 10px;<br>        }<br>    </style><br><div class=\"wandb-row\"><div class=\"wandb-col\"><h3>Run history:</h3><br/><table class=\"wandb\"><tr><td>epoch</td><td>▁▂▃▃▄▅▆▆▇█</td></tr><tr><td>train_accuracy</td><td>▁▆▇█▇█████</td></tr><tr><td>train_loss</td><td>█▃▂▂▂▁▁▁▁▁</td></tr><tr><td>val_accuracy</td><td>▁▄▅▇▇▇█▇█▇</td></tr><tr><td>val_loss</td><td>█▅▃▂▂▂▂▂▁▂</td></tr></table><br/></div><div class=\"wandb-col\"><h3>Run summary:</h3><br/><table class=\"wandb\"><tr><td>epoch</td><td>9</td></tr><tr><td>train_accuracy</td><td>0.89071</td></tr><tr><td>train_loss</td><td>0.32125</td></tr><tr><td>val_accuracy</td><td>0.87795</td></tr><tr><td>val_loss</td><td>0.38856</td></tr></table><br/></div></div>"
            ]
          },
          "metadata": {}
        },
        {
          "output_type": "display_data",
          "data": {
            "text/plain": [
              "<IPython.core.display.HTML object>"
            ],
            "text/html": [
              " View run <strong style=\"color:#cdcd00\">ed_256_hs_256_enc_1_dec_1_cell_RNN_drop_0.3</strong> at: <a href='https://wandb.ai/vinyk-sd-indian-institute-of-technology-madras/Assignment3_Attempt1/runs/xi1iyxxs' target=\"_blank\">https://wandb.ai/vinyk-sd-indian-institute-of-technology-madras/Assignment3_Attempt1/runs/xi1iyxxs</a><br> View project at: <a href='https://wandb.ai/vinyk-sd-indian-institute-of-technology-madras/Assignment3_Attempt1' target=\"_blank\">https://wandb.ai/vinyk-sd-indian-institute-of-technology-madras/Assignment3_Attempt1</a><br>Synced 5 W&B file(s), 0 media file(s), 0 artifact file(s) and 0 other file(s)"
            ]
          },
          "metadata": {}
        },
        {
          "output_type": "display_data",
          "data": {
            "text/plain": [
              "<IPython.core.display.HTML object>"
            ],
            "text/html": [
              "Find logs at: <code>./wandb/run-20250519_152303-xi1iyxxs/logs</code>"
            ]
          },
          "metadata": {}
        },
        {
          "output_type": "stream",
          "name": "stderr",
          "text": [
            "\u001b[34m\u001b[1mwandb\u001b[0m: Agent Starting Run: pciz0dnf with config:\n",
            "\u001b[34m\u001b[1mwandb\u001b[0m: \tcell_type: GRU\n",
            "\u001b[34m\u001b[1mwandb\u001b[0m: \tdropout: 0.3\n",
            "\u001b[34m\u001b[1mwandb\u001b[0m: \tembedding_size: 256\n",
            "\u001b[34m\u001b[1mwandb\u001b[0m: \thidden_size: 256\n",
            "\u001b[34m\u001b[1mwandb\u001b[0m: \tnum_decoder_layers: 1\n",
            "\u001b[34m\u001b[1mwandb\u001b[0m: \tnum_encoder_layers: 1\n"
          ]
        },
        {
          "output_type": "display_data",
          "data": {
            "text/plain": [
              "<IPython.core.display.HTML object>"
            ],
            "text/html": [
              "Tracking run with wandb version 0.19.11"
            ]
          },
          "metadata": {}
        },
        {
          "output_type": "display_data",
          "data": {
            "text/plain": [
              "<IPython.core.display.HTML object>"
            ],
            "text/html": [
              "Run data is saved locally in <code>/content/wandb/run-20250519_152702-pciz0dnf</code>"
            ]
          },
          "metadata": {}
        },
        {
          "output_type": "display_data",
          "data": {
            "text/plain": [
              "<IPython.core.display.HTML object>"
            ],
            "text/html": [
              "Syncing run <strong><a href='https://wandb.ai/vinyk-sd-indian-institute-of-technology-madras/Assignment3_Attempt1/runs/pciz0dnf' target=\"_blank\">revived-sweep-15</a></strong> to <a href='https://wandb.ai/vinyk-sd-indian-institute-of-technology-madras/Assignment3_Attempt1' target=\"_blank\">Weights & Biases</a> (<a href='https://wandb.me/developer-guide' target=\"_blank\">docs</a>)<br>Sweep page: <a href='https://wandb.ai/vinyk-sd-indian-institute-of-technology-madras/Assignment3_Attempt1/sweeps/n6e7axcm' target=\"_blank\">https://wandb.ai/vinyk-sd-indian-institute-of-technology-madras/Assignment3_Attempt1/sweeps/n6e7axcm</a>"
            ]
          },
          "metadata": {}
        },
        {
          "output_type": "display_data",
          "data": {
            "text/plain": [
              "<IPython.core.display.HTML object>"
            ],
            "text/html": [
              " View project at <a href='https://wandb.ai/vinyk-sd-indian-institute-of-technology-madras/Assignment3_Attempt1' target=\"_blank\">https://wandb.ai/vinyk-sd-indian-institute-of-technology-madras/Assignment3_Attempt1</a>"
            ]
          },
          "metadata": {}
        },
        {
          "output_type": "display_data",
          "data": {
            "text/plain": [
              "<IPython.core.display.HTML object>"
            ],
            "text/html": [
              " View sweep at <a href='https://wandb.ai/vinyk-sd-indian-institute-of-technology-madras/Assignment3_Attempt1/sweeps/n6e7axcm' target=\"_blank\">https://wandb.ai/vinyk-sd-indian-institute-of-technology-madras/Assignment3_Attempt1/sweeps/n6e7axcm</a>"
            ]
          },
          "metadata": {}
        },
        {
          "output_type": "display_data",
          "data": {
            "text/plain": [
              "<IPython.core.display.HTML object>"
            ],
            "text/html": [
              " View run at <a href='https://wandb.ai/vinyk-sd-indian-institute-of-technology-madras/Assignment3_Attempt1/runs/pciz0dnf' target=\"_blank\">https://wandb.ai/vinyk-sd-indian-institute-of-technology-madras/Assignment3_Attempt1/runs/pciz0dnf</a>"
            ]
          },
          "metadata": {}
        },
        {
          "output_type": "stream",
          "name": "stdout",
          "text": [
            "\n",
            "Final Run Metrics for ed_256_hs_256_enc_1_dec_1_cell_GRU_drop_0.3:\n",
            "Train Loss: 0.2405 | Train Accuracy: 0.9102\n",
            "Val   Loss: 0.3411 | Val   Accuracy: 0.8916\n",
            "\n"
          ]
        },
        {
          "output_type": "display_data",
          "data": {
            "text/plain": [
              "<IPython.core.display.HTML object>"
            ],
            "text/html": []
          },
          "metadata": {}
        },
        {
          "output_type": "display_data",
          "data": {
            "text/plain": [
              "<IPython.core.display.HTML object>"
            ],
            "text/html": [
              "<br>    <style><br>        .wandb-row {<br>            display: flex;<br>            flex-direction: row;<br>            flex-wrap: wrap;<br>            justify-content: flex-start;<br>            width: 100%;<br>        }<br>        .wandb-col {<br>            display: flex;<br>            flex-direction: column;<br>            flex-basis: 100%;<br>            flex: 1;<br>            padding: 10px;<br>        }<br>    </style><br><div class=\"wandb-row\"><div class=\"wandb-col\"><h3>Run history:</h3><br/><table class=\"wandb\"><tr><td>epoch</td><td>▁▂▃▃▄▅▆▆▇█</td></tr><tr><td>train_accuracy</td><td>▁▆▇▇▇▇████</td></tr><tr><td>train_loss</td><td>█▃▂▂▂▂▁▁▁▁</td></tr><tr><td>val_accuracy</td><td>▁▂▇▆▇▆█▇██</td></tr><tr><td>val_loss</td><td>█▆▂▂▂▂▁▁▁▁</td></tr></table><br/></div><div class=\"wandb-col\"><h3>Run summary:</h3><br/><table class=\"wandb\"><tr><td>epoch</td><td>9</td></tr><tr><td>train_accuracy</td><td>0.91025</td></tr><tr><td>train_loss</td><td>0.24045</td></tr><tr><td>val_accuracy</td><td>0.89164</td></tr><tr><td>val_loss</td><td>0.34108</td></tr></table><br/></div></div>"
            ]
          },
          "metadata": {}
        },
        {
          "output_type": "display_data",
          "data": {
            "text/plain": [
              "<IPython.core.display.HTML object>"
            ],
            "text/html": [
              " View run <strong style=\"color:#cdcd00\">ed_256_hs_256_enc_1_dec_1_cell_GRU_drop_0.3</strong> at: <a href='https://wandb.ai/vinyk-sd-indian-institute-of-technology-madras/Assignment3_Attempt1/runs/pciz0dnf' target=\"_blank\">https://wandb.ai/vinyk-sd-indian-institute-of-technology-madras/Assignment3_Attempt1/runs/pciz0dnf</a><br> View project at: <a href='https://wandb.ai/vinyk-sd-indian-institute-of-technology-madras/Assignment3_Attempt1' target=\"_blank\">https://wandb.ai/vinyk-sd-indian-institute-of-technology-madras/Assignment3_Attempt1</a><br>Synced 5 W&B file(s), 0 media file(s), 0 artifact file(s) and 0 other file(s)"
            ]
          },
          "metadata": {}
        },
        {
          "output_type": "display_data",
          "data": {
            "text/plain": [
              "<IPython.core.display.HTML object>"
            ],
            "text/html": [
              "Find logs at: <code>./wandb/run-20250519_152702-pciz0dnf/logs</code>"
            ]
          },
          "metadata": {}
        },
        {
          "output_type": "stream",
          "name": "stderr",
          "text": [
            "\u001b[34m\u001b[1mwandb\u001b[0m: Agent Starting Run: 2g4dgpz8 with config:\n",
            "\u001b[34m\u001b[1mwandb\u001b[0m: \tcell_type: GRU\n",
            "\u001b[34m\u001b[1mwandb\u001b[0m: \tdropout: 0.3\n",
            "\u001b[34m\u001b[1mwandb\u001b[0m: \tembedding_size: 64\n",
            "\u001b[34m\u001b[1mwandb\u001b[0m: \thidden_size: 256\n",
            "\u001b[34m\u001b[1mwandb\u001b[0m: \tnum_decoder_layers: 1\n",
            "\u001b[34m\u001b[1mwandb\u001b[0m: \tnum_encoder_layers: 1\n"
          ]
        },
        {
          "output_type": "display_data",
          "data": {
            "text/plain": [
              "<IPython.core.display.HTML object>"
            ],
            "text/html": [
              "Tracking run with wandb version 0.19.11"
            ]
          },
          "metadata": {}
        },
        {
          "output_type": "display_data",
          "data": {
            "text/plain": [
              "<IPython.core.display.HTML object>"
            ],
            "text/html": [
              "Run data is saved locally in <code>/content/wandb/run-20250519_153125-2g4dgpz8</code>"
            ]
          },
          "metadata": {}
        },
        {
          "output_type": "display_data",
          "data": {
            "text/plain": [
              "<IPython.core.display.HTML object>"
            ],
            "text/html": [
              "Syncing run <strong><a href='https://wandb.ai/vinyk-sd-indian-institute-of-technology-madras/Assignment3_Attempt1/runs/2g4dgpz8' target=\"_blank\">eager-sweep-16</a></strong> to <a href='https://wandb.ai/vinyk-sd-indian-institute-of-technology-madras/Assignment3_Attempt1' target=\"_blank\">Weights & Biases</a> (<a href='https://wandb.me/developer-guide' target=\"_blank\">docs</a>)<br>Sweep page: <a href='https://wandb.ai/vinyk-sd-indian-institute-of-technology-madras/Assignment3_Attempt1/sweeps/n6e7axcm' target=\"_blank\">https://wandb.ai/vinyk-sd-indian-institute-of-technology-madras/Assignment3_Attempt1/sweeps/n6e7axcm</a>"
            ]
          },
          "metadata": {}
        },
        {
          "output_type": "display_data",
          "data": {
            "text/plain": [
              "<IPython.core.display.HTML object>"
            ],
            "text/html": [
              " View project at <a href='https://wandb.ai/vinyk-sd-indian-institute-of-technology-madras/Assignment3_Attempt1' target=\"_blank\">https://wandb.ai/vinyk-sd-indian-institute-of-technology-madras/Assignment3_Attempt1</a>"
            ]
          },
          "metadata": {}
        },
        {
          "output_type": "display_data",
          "data": {
            "text/plain": [
              "<IPython.core.display.HTML object>"
            ],
            "text/html": [
              " View sweep at <a href='https://wandb.ai/vinyk-sd-indian-institute-of-technology-madras/Assignment3_Attempt1/sweeps/n6e7axcm' target=\"_blank\">https://wandb.ai/vinyk-sd-indian-institute-of-technology-madras/Assignment3_Attempt1/sweeps/n6e7axcm</a>"
            ]
          },
          "metadata": {}
        },
        {
          "output_type": "display_data",
          "data": {
            "text/plain": [
              "<IPython.core.display.HTML object>"
            ],
            "text/html": [
              " View run at <a href='https://wandb.ai/vinyk-sd-indian-institute-of-technology-madras/Assignment3_Attempt1/runs/2g4dgpz8' target=\"_blank\">https://wandb.ai/vinyk-sd-indian-institute-of-technology-madras/Assignment3_Attempt1/runs/2g4dgpz8</a>"
            ]
          },
          "metadata": {}
        },
        {
          "output_type": "stream",
          "name": "stdout",
          "text": [
            "\n",
            "Final Run Metrics for ed_64_hs_256_enc_1_dec_1_cell_GRU_drop_0.3:\n",
            "Train Loss: 0.2440 | Train Accuracy: 0.9099\n",
            "Val   Loss: 0.3440 | Val   Accuracy: 0.8893\n",
            "\n"
          ]
        },
        {
          "output_type": "display_data",
          "data": {
            "text/plain": [
              "<IPython.core.display.HTML object>"
            ],
            "text/html": []
          },
          "metadata": {}
        },
        {
          "output_type": "display_data",
          "data": {
            "text/plain": [
              "<IPython.core.display.HTML object>"
            ],
            "text/html": [
              "<br>    <style><br>        .wandb-row {<br>            display: flex;<br>            flex-direction: row;<br>            flex-wrap: wrap;<br>            justify-content: flex-start;<br>            width: 100%;<br>        }<br>        .wandb-col {<br>            display: flex;<br>            flex-direction: column;<br>            flex-basis: 100%;<br>            flex: 1;<br>            padding: 10px;<br>        }<br>    </style><br><div class=\"wandb-row\"><div class=\"wandb-col\"><h3>Run history:</h3><br/><table class=\"wandb\"><tr><td>epoch</td><td>▁▂▃▃▄▅▆▆▇█</td></tr><tr><td>train_accuracy</td><td>▁▇▇▇██████</td></tr><tr><td>train_loss</td><td>█▃▂▂▂▁▁▁▁▁</td></tr><tr><td>val_accuracy</td><td>▁▄▆▇▇▆███▇</td></tr><tr><td>val_loss</td><td>█▄▃▃▃▃▂▁▁▂</td></tr></table><br/></div><div class=\"wandb-col\"><h3>Run summary:</h3><br/><table class=\"wandb\"><tr><td>epoch</td><td>9</td></tr><tr><td>train_accuracy</td><td>0.90987</td></tr><tr><td>train_loss</td><td>0.24404</td></tr><tr><td>val_accuracy</td><td>0.88933</td></tr><tr><td>val_loss</td><td>0.34396</td></tr></table><br/></div></div>"
            ]
          },
          "metadata": {}
        },
        {
          "output_type": "display_data",
          "data": {
            "text/plain": [
              "<IPython.core.display.HTML object>"
            ],
            "text/html": [
              " View run <strong style=\"color:#cdcd00\">ed_64_hs_256_enc_1_dec_1_cell_GRU_drop_0.3</strong> at: <a href='https://wandb.ai/vinyk-sd-indian-institute-of-technology-madras/Assignment3_Attempt1/runs/2g4dgpz8' target=\"_blank\">https://wandb.ai/vinyk-sd-indian-institute-of-technology-madras/Assignment3_Attempt1/runs/2g4dgpz8</a><br> View project at: <a href='https://wandb.ai/vinyk-sd-indian-institute-of-technology-madras/Assignment3_Attempt1' target=\"_blank\">https://wandb.ai/vinyk-sd-indian-institute-of-technology-madras/Assignment3_Attempt1</a><br>Synced 5 W&B file(s), 0 media file(s), 0 artifact file(s) and 0 other file(s)"
            ]
          },
          "metadata": {}
        },
        {
          "output_type": "display_data",
          "data": {
            "text/plain": [
              "<IPython.core.display.HTML object>"
            ],
            "text/html": [
              "Find logs at: <code>./wandb/run-20250519_153125-2g4dgpz8/logs</code>"
            ]
          },
          "metadata": {}
        },
        {
          "output_type": "stream",
          "name": "stderr",
          "text": [
            "\u001b[34m\u001b[1mwandb\u001b[0m: Agent Starting Run: vsmqgobd with config:\n",
            "\u001b[34m\u001b[1mwandb\u001b[0m: \tcell_type: RNN\n",
            "\u001b[34m\u001b[1mwandb\u001b[0m: \tdropout: 0.3\n",
            "\u001b[34m\u001b[1mwandb\u001b[0m: \tembedding_size: 32\n",
            "\u001b[34m\u001b[1mwandb\u001b[0m: \thidden_size: 256\n",
            "\u001b[34m\u001b[1mwandb\u001b[0m: \tnum_decoder_layers: 1\n",
            "\u001b[34m\u001b[1mwandb\u001b[0m: \tnum_encoder_layers: 1\n"
          ]
        },
        {
          "output_type": "display_data",
          "data": {
            "text/plain": [
              "<IPython.core.display.HTML object>"
            ],
            "text/html": [
              "Tracking run with wandb version 0.19.11"
            ]
          },
          "metadata": {}
        },
        {
          "output_type": "display_data",
          "data": {
            "text/plain": [
              "<IPython.core.display.HTML object>"
            ],
            "text/html": [
              "Run data is saved locally in <code>/content/wandb/run-20250519_153549-vsmqgobd</code>"
            ]
          },
          "metadata": {}
        },
        {
          "output_type": "display_data",
          "data": {
            "text/plain": [
              "<IPython.core.display.HTML object>"
            ],
            "text/html": [
              "Syncing run <strong><a href='https://wandb.ai/vinyk-sd-indian-institute-of-technology-madras/Assignment3_Attempt1/runs/vsmqgobd' target=\"_blank\">avid-sweep-17</a></strong> to <a href='https://wandb.ai/vinyk-sd-indian-institute-of-technology-madras/Assignment3_Attempt1' target=\"_blank\">Weights & Biases</a> (<a href='https://wandb.me/developer-guide' target=\"_blank\">docs</a>)<br>Sweep page: <a href='https://wandb.ai/vinyk-sd-indian-institute-of-technology-madras/Assignment3_Attempt1/sweeps/n6e7axcm' target=\"_blank\">https://wandb.ai/vinyk-sd-indian-institute-of-technology-madras/Assignment3_Attempt1/sweeps/n6e7axcm</a>"
            ]
          },
          "metadata": {}
        },
        {
          "output_type": "display_data",
          "data": {
            "text/plain": [
              "<IPython.core.display.HTML object>"
            ],
            "text/html": [
              " View project at <a href='https://wandb.ai/vinyk-sd-indian-institute-of-technology-madras/Assignment3_Attempt1' target=\"_blank\">https://wandb.ai/vinyk-sd-indian-institute-of-technology-madras/Assignment3_Attempt1</a>"
            ]
          },
          "metadata": {}
        },
        {
          "output_type": "display_data",
          "data": {
            "text/plain": [
              "<IPython.core.display.HTML object>"
            ],
            "text/html": [
              " View sweep at <a href='https://wandb.ai/vinyk-sd-indian-institute-of-technology-madras/Assignment3_Attempt1/sweeps/n6e7axcm' target=\"_blank\">https://wandb.ai/vinyk-sd-indian-institute-of-technology-madras/Assignment3_Attempt1/sweeps/n6e7axcm</a>"
            ]
          },
          "metadata": {}
        },
        {
          "output_type": "display_data",
          "data": {
            "text/plain": [
              "<IPython.core.display.HTML object>"
            ],
            "text/html": [
              " View run at <a href='https://wandb.ai/vinyk-sd-indian-institute-of-technology-madras/Assignment3_Attempt1/runs/vsmqgobd' target=\"_blank\">https://wandb.ai/vinyk-sd-indian-institute-of-technology-madras/Assignment3_Attempt1/runs/vsmqgobd</a>"
            ]
          },
          "metadata": {}
        },
        {
          "output_type": "stream",
          "name": "stdout",
          "text": [
            "\n",
            "Final Run Metrics for ed_32_hs_256_enc_1_dec_1_cell_RNN_drop_0.3:\n",
            "Train Loss: 0.3281 | Train Accuracy: 0.8903\n",
            "Val   Loss: 0.4007 | Val   Accuracy: 0.8783\n",
            "\n"
          ]
        },
        {
          "output_type": "display_data",
          "data": {
            "text/plain": [
              "<IPython.core.display.HTML object>"
            ],
            "text/html": []
          },
          "metadata": {}
        },
        {
          "output_type": "display_data",
          "data": {
            "text/plain": [
              "<IPython.core.display.HTML object>"
            ],
            "text/html": [
              "<br>    <style><br>        .wandb-row {<br>            display: flex;<br>            flex-direction: row;<br>            flex-wrap: wrap;<br>            justify-content: flex-start;<br>            width: 100%;<br>        }<br>        .wandb-col {<br>            display: flex;<br>            flex-direction: column;<br>            flex-basis: 100%;<br>            flex: 1;<br>            padding: 10px;<br>        }<br>    </style><br><div class=\"wandb-row\"><div class=\"wandb-col\"><h3>Run history:</h3><br/><table class=\"wandb\"><tr><td>epoch</td><td>▁▂▃▃▄▅▆▆▇█</td></tr><tr><td>train_accuracy</td><td>▁▆▇▇▇█████</td></tr><tr><td>train_loss</td><td>█▃▂▂▂▁▁▁▁▁</td></tr><tr><td>val_accuracy</td><td>▁▄▅▇▆▇▇███</td></tr><tr><td>val_loss</td><td>█▅▄▂▂▃▂▁▂▁</td></tr></table><br/></div><div class=\"wandb-col\"><h3>Run summary:</h3><br/><table class=\"wandb\"><tr><td>epoch</td><td>9</td></tr><tr><td>train_accuracy</td><td>0.89026</td></tr><tr><td>train_loss</td><td>0.32805</td></tr><tr><td>val_accuracy</td><td>0.87833</td></tr><tr><td>val_loss</td><td>0.40071</td></tr></table><br/></div></div>"
            ]
          },
          "metadata": {}
        },
        {
          "output_type": "display_data",
          "data": {
            "text/plain": [
              "<IPython.core.display.HTML object>"
            ],
            "text/html": [
              " View run <strong style=\"color:#cdcd00\">ed_32_hs_256_enc_1_dec_1_cell_RNN_drop_0.3</strong> at: <a href='https://wandb.ai/vinyk-sd-indian-institute-of-technology-madras/Assignment3_Attempt1/runs/vsmqgobd' target=\"_blank\">https://wandb.ai/vinyk-sd-indian-institute-of-technology-madras/Assignment3_Attempt1/runs/vsmqgobd</a><br> View project at: <a href='https://wandb.ai/vinyk-sd-indian-institute-of-technology-madras/Assignment3_Attempt1' target=\"_blank\">https://wandb.ai/vinyk-sd-indian-institute-of-technology-madras/Assignment3_Attempt1</a><br>Synced 5 W&B file(s), 0 media file(s), 0 artifact file(s) and 0 other file(s)"
            ]
          },
          "metadata": {}
        },
        {
          "output_type": "display_data",
          "data": {
            "text/plain": [
              "<IPython.core.display.HTML object>"
            ],
            "text/html": [
              "Find logs at: <code>./wandb/run-20250519_153549-vsmqgobd/logs</code>"
            ]
          },
          "metadata": {}
        },
        {
          "output_type": "stream",
          "name": "stderr",
          "text": [
            "\u001b[34m\u001b[1mwandb\u001b[0m: Agent Starting Run: tarvjkjn with config:\n",
            "\u001b[34m\u001b[1mwandb\u001b[0m: \tcell_type: LSTM\n",
            "\u001b[34m\u001b[1mwandb\u001b[0m: \tdropout: 0.3\n",
            "\u001b[34m\u001b[1mwandb\u001b[0m: \tembedding_size: 256\n",
            "\u001b[34m\u001b[1mwandb\u001b[0m: \thidden_size: 256\n",
            "\u001b[34m\u001b[1mwandb\u001b[0m: \tnum_decoder_layers: 1\n",
            "\u001b[34m\u001b[1mwandb\u001b[0m: \tnum_encoder_layers: 1\n"
          ]
        },
        {
          "output_type": "display_data",
          "data": {
            "text/plain": [
              "<IPython.core.display.HTML object>"
            ],
            "text/html": [
              "Tracking run with wandb version 0.19.11"
            ]
          },
          "metadata": {}
        },
        {
          "output_type": "display_data",
          "data": {
            "text/plain": [
              "<IPython.core.display.HTML object>"
            ],
            "text/html": [
              "Run data is saved locally in <code>/content/wandb/run-20250519_153947-tarvjkjn</code>"
            ]
          },
          "metadata": {}
        },
        {
          "output_type": "display_data",
          "data": {
            "text/plain": [
              "<IPython.core.display.HTML object>"
            ],
            "text/html": [
              "Syncing run <strong><a href='https://wandb.ai/vinyk-sd-indian-institute-of-technology-madras/Assignment3_Attempt1/runs/tarvjkjn' target=\"_blank\">helpful-sweep-18</a></strong> to <a href='https://wandb.ai/vinyk-sd-indian-institute-of-technology-madras/Assignment3_Attempt1' target=\"_blank\">Weights & Biases</a> (<a href='https://wandb.me/developer-guide' target=\"_blank\">docs</a>)<br>Sweep page: <a href='https://wandb.ai/vinyk-sd-indian-institute-of-technology-madras/Assignment3_Attempt1/sweeps/n6e7axcm' target=\"_blank\">https://wandb.ai/vinyk-sd-indian-institute-of-technology-madras/Assignment3_Attempt1/sweeps/n6e7axcm</a>"
            ]
          },
          "metadata": {}
        },
        {
          "output_type": "display_data",
          "data": {
            "text/plain": [
              "<IPython.core.display.HTML object>"
            ],
            "text/html": [
              " View project at <a href='https://wandb.ai/vinyk-sd-indian-institute-of-technology-madras/Assignment3_Attempt1' target=\"_blank\">https://wandb.ai/vinyk-sd-indian-institute-of-technology-madras/Assignment3_Attempt1</a>"
            ]
          },
          "metadata": {}
        },
        {
          "output_type": "display_data",
          "data": {
            "text/plain": [
              "<IPython.core.display.HTML object>"
            ],
            "text/html": [
              " View sweep at <a href='https://wandb.ai/vinyk-sd-indian-institute-of-technology-madras/Assignment3_Attempt1/sweeps/n6e7axcm' target=\"_blank\">https://wandb.ai/vinyk-sd-indian-institute-of-technology-madras/Assignment3_Attempt1/sweeps/n6e7axcm</a>"
            ]
          },
          "metadata": {}
        },
        {
          "output_type": "display_data",
          "data": {
            "text/plain": [
              "<IPython.core.display.HTML object>"
            ],
            "text/html": [
              " View run at <a href='https://wandb.ai/vinyk-sd-indian-institute-of-technology-madras/Assignment3_Attempt1/runs/tarvjkjn' target=\"_blank\">https://wandb.ai/vinyk-sd-indian-institute-of-technology-madras/Assignment3_Attempt1/runs/tarvjkjn</a>"
            ]
          },
          "metadata": {}
        },
        {
          "output_type": "stream",
          "name": "stdout",
          "text": [
            "\n",
            "Final Run Metrics for ed_256_hs_256_enc_1_dec_1_cell_LSTM_drop_0.3:\n",
            "Train Loss: 0.2332 | Train Accuracy: 0.9121\n",
            "Val   Loss: 0.3259 | Val   Accuracy: 0.8931\n",
            "\n"
          ]
        },
        {
          "output_type": "display_data",
          "data": {
            "text/plain": [
              "<IPython.core.display.HTML object>"
            ],
            "text/html": []
          },
          "metadata": {}
        },
        {
          "output_type": "display_data",
          "data": {
            "text/plain": [
              "<IPython.core.display.HTML object>"
            ],
            "text/html": [
              "<br>    <style><br>        .wandb-row {<br>            display: flex;<br>            flex-direction: row;<br>            flex-wrap: wrap;<br>            justify-content: flex-start;<br>            width: 100%;<br>        }<br>        .wandb-col {<br>            display: flex;<br>            flex-direction: column;<br>            flex-basis: 100%;<br>            flex: 1;<br>            padding: 10px;<br>        }<br>    </style><br><div class=\"wandb-row\"><div class=\"wandb-col\"><h3>Run history:</h3><br/><table class=\"wandb\"><tr><td>epoch</td><td>▁▂▃▃▄▅▆▆▇█</td></tr><tr><td>train_accuracy</td><td>▁▆▇▇▇▇████</td></tr><tr><td>train_loss</td><td>█▃▂▂▂▂▁▁▁▁</td></tr><tr><td>val_accuracy</td><td>▁▃▆▇█▇▇███</td></tr><tr><td>val_loss</td><td>█▆▃▃▂▂▂▂▁▁</td></tr></table><br/></div><div class=\"wandb-col\"><h3>Run summary:</h3><br/><table class=\"wandb\"><tr><td>epoch</td><td>9</td></tr><tr><td>train_accuracy</td><td>0.91209</td></tr><tr><td>train_loss</td><td>0.23321</td></tr><tr><td>val_accuracy</td><td>0.89315</td></tr><tr><td>val_loss</td><td>0.32587</td></tr></table><br/></div></div>"
            ]
          },
          "metadata": {}
        },
        {
          "output_type": "display_data",
          "data": {
            "text/plain": [
              "<IPython.core.display.HTML object>"
            ],
            "text/html": [
              " View run <strong style=\"color:#cdcd00\">ed_256_hs_256_enc_1_dec_1_cell_LSTM_drop_0.3</strong> at: <a href='https://wandb.ai/vinyk-sd-indian-institute-of-technology-madras/Assignment3_Attempt1/runs/tarvjkjn' target=\"_blank\">https://wandb.ai/vinyk-sd-indian-institute-of-technology-madras/Assignment3_Attempt1/runs/tarvjkjn</a><br> View project at: <a href='https://wandb.ai/vinyk-sd-indian-institute-of-technology-madras/Assignment3_Attempt1' target=\"_blank\">https://wandb.ai/vinyk-sd-indian-institute-of-technology-madras/Assignment3_Attempt1</a><br>Synced 5 W&B file(s), 0 media file(s), 0 artifact file(s) and 0 other file(s)"
            ]
          },
          "metadata": {}
        },
        {
          "output_type": "display_data",
          "data": {
            "text/plain": [
              "<IPython.core.display.HTML object>"
            ],
            "text/html": [
              "Find logs at: <code>./wandb/run-20250519_153947-tarvjkjn/logs</code>"
            ]
          },
          "metadata": {}
        },
        {
          "output_type": "stream",
          "name": "stderr",
          "text": [
            "\u001b[34m\u001b[1mwandb\u001b[0m: Agent Starting Run: z5n8ee1n with config:\n",
            "\u001b[34m\u001b[1mwandb\u001b[0m: \tcell_type: RNN\n",
            "\u001b[34m\u001b[1mwandb\u001b[0m: \tdropout: 0.3\n",
            "\u001b[34m\u001b[1mwandb\u001b[0m: \tembedding_size: 256\n",
            "\u001b[34m\u001b[1mwandb\u001b[0m: \thidden_size: 256\n",
            "\u001b[34m\u001b[1mwandb\u001b[0m: \tnum_decoder_layers: 1\n",
            "\u001b[34m\u001b[1mwandb\u001b[0m: \tnum_encoder_layers: 1\n"
          ]
        },
        {
          "output_type": "display_data",
          "data": {
            "text/plain": [
              "<IPython.core.display.HTML object>"
            ],
            "text/html": [
              "Tracking run with wandb version 0.19.11"
            ]
          },
          "metadata": {}
        },
        {
          "output_type": "display_data",
          "data": {
            "text/plain": [
              "<IPython.core.display.HTML object>"
            ],
            "text/html": [
              "Run data is saved locally in <code>/content/wandb/run-20250519_154421-z5n8ee1n</code>"
            ]
          },
          "metadata": {}
        },
        {
          "output_type": "display_data",
          "data": {
            "text/plain": [
              "<IPython.core.display.HTML object>"
            ],
            "text/html": [
              "Syncing run <strong><a href='https://wandb.ai/vinyk-sd-indian-institute-of-technology-madras/Assignment3_Attempt1/runs/z5n8ee1n' target=\"_blank\">serene-sweep-19</a></strong> to <a href='https://wandb.ai/vinyk-sd-indian-institute-of-technology-madras/Assignment3_Attempt1' target=\"_blank\">Weights & Biases</a> (<a href='https://wandb.me/developer-guide' target=\"_blank\">docs</a>)<br>Sweep page: <a href='https://wandb.ai/vinyk-sd-indian-institute-of-technology-madras/Assignment3_Attempt1/sweeps/n6e7axcm' target=\"_blank\">https://wandb.ai/vinyk-sd-indian-institute-of-technology-madras/Assignment3_Attempt1/sweeps/n6e7axcm</a>"
            ]
          },
          "metadata": {}
        },
        {
          "output_type": "display_data",
          "data": {
            "text/plain": [
              "<IPython.core.display.HTML object>"
            ],
            "text/html": [
              " View project at <a href='https://wandb.ai/vinyk-sd-indian-institute-of-technology-madras/Assignment3_Attempt1' target=\"_blank\">https://wandb.ai/vinyk-sd-indian-institute-of-technology-madras/Assignment3_Attempt1</a>"
            ]
          },
          "metadata": {}
        },
        {
          "output_type": "display_data",
          "data": {
            "text/plain": [
              "<IPython.core.display.HTML object>"
            ],
            "text/html": [
              " View sweep at <a href='https://wandb.ai/vinyk-sd-indian-institute-of-technology-madras/Assignment3_Attempt1/sweeps/n6e7axcm' target=\"_blank\">https://wandb.ai/vinyk-sd-indian-institute-of-technology-madras/Assignment3_Attempt1/sweeps/n6e7axcm</a>"
            ]
          },
          "metadata": {}
        },
        {
          "output_type": "display_data",
          "data": {
            "text/plain": [
              "<IPython.core.display.HTML object>"
            ],
            "text/html": [
              " View run at <a href='https://wandb.ai/vinyk-sd-indian-institute-of-technology-madras/Assignment3_Attempt1/runs/z5n8ee1n' target=\"_blank\">https://wandb.ai/vinyk-sd-indian-institute-of-technology-madras/Assignment3_Attempt1/runs/z5n8ee1n</a>"
            ]
          },
          "metadata": {}
        },
        {
          "output_type": "stream",
          "name": "stdout",
          "text": [
            "\n",
            "Final Run Metrics for ed_256_hs_256_enc_1_dec_1_cell_RNN_drop_0.3:\n",
            "Train Loss: 0.3269 | Train Accuracy: 0.8906\n",
            "Val   Loss: 0.4251 | Val   Accuracy: 0.8718\n",
            "\n"
          ]
        },
        {
          "output_type": "display_data",
          "data": {
            "text/plain": [
              "<IPython.core.display.HTML object>"
            ],
            "text/html": []
          },
          "metadata": {}
        },
        {
          "output_type": "display_data",
          "data": {
            "text/plain": [
              "<IPython.core.display.HTML object>"
            ],
            "text/html": [
              "<br>    <style><br>        .wandb-row {<br>            display: flex;<br>            flex-direction: row;<br>            flex-wrap: wrap;<br>            justify-content: flex-start;<br>            width: 100%;<br>        }<br>        .wandb-col {<br>            display: flex;<br>            flex-direction: column;<br>            flex-basis: 100%;<br>            flex: 1;<br>            padding: 10px;<br>        }<br>    </style><br><div class=\"wandb-row\"><div class=\"wandb-col\"><h3>Run history:</h3><br/><table class=\"wandb\"><tr><td>epoch</td><td>▁▂▃▃▄▅▆▆▇█</td></tr><tr><td>train_accuracy</td><td>▁▇▇▇▇█████</td></tr><tr><td>train_loss</td><td>█▃▂▂▂▁▁▁▁▁</td></tr><tr><td>val_accuracy</td><td>▁▆▇▆▇▄██▇▇</td></tr><tr><td>val_loss</td><td>█▃▂▄▂▅▂▁▂▃</td></tr></table><br/></div><div class=\"wandb-col\"><h3>Run summary:</h3><br/><table class=\"wandb\"><tr><td>epoch</td><td>9</td></tr><tr><td>train_accuracy</td><td>0.89062</td></tr><tr><td>train_loss</td><td>0.32686</td></tr><tr><td>val_accuracy</td><td>0.87185</td></tr><tr><td>val_loss</td><td>0.42512</td></tr></table><br/></div></div>"
            ]
          },
          "metadata": {}
        },
        {
          "output_type": "display_data",
          "data": {
            "text/plain": [
              "<IPython.core.display.HTML object>"
            ],
            "text/html": [
              " View run <strong style=\"color:#cdcd00\">ed_256_hs_256_enc_1_dec_1_cell_RNN_drop_0.3</strong> at: <a href='https://wandb.ai/vinyk-sd-indian-institute-of-technology-madras/Assignment3_Attempt1/runs/z5n8ee1n' target=\"_blank\">https://wandb.ai/vinyk-sd-indian-institute-of-technology-madras/Assignment3_Attempt1/runs/z5n8ee1n</a><br> View project at: <a href='https://wandb.ai/vinyk-sd-indian-institute-of-technology-madras/Assignment3_Attempt1' target=\"_blank\">https://wandb.ai/vinyk-sd-indian-institute-of-technology-madras/Assignment3_Attempt1</a><br>Synced 5 W&B file(s), 0 media file(s), 0 artifact file(s) and 0 other file(s)"
            ]
          },
          "metadata": {}
        },
        {
          "output_type": "display_data",
          "data": {
            "text/plain": [
              "<IPython.core.display.HTML object>"
            ],
            "text/html": [
              "Find logs at: <code>./wandb/run-20250519_154421-z5n8ee1n/logs</code>"
            ]
          },
          "metadata": {}
        },
        {
          "output_type": "stream",
          "name": "stderr",
          "text": [
            "\u001b[34m\u001b[1mwandb\u001b[0m: Agent Starting Run: h3g3ffi9 with config:\n",
            "\u001b[34m\u001b[1mwandb\u001b[0m: \tcell_type: RNN\n",
            "\u001b[34m\u001b[1mwandb\u001b[0m: \tdropout: 0.3\n",
            "\u001b[34m\u001b[1mwandb\u001b[0m: \tembedding_size: 16\n",
            "\u001b[34m\u001b[1mwandb\u001b[0m: \thidden_size: 256\n",
            "\u001b[34m\u001b[1mwandb\u001b[0m: \tnum_decoder_layers: 1\n",
            "\u001b[34m\u001b[1mwandb\u001b[0m: \tnum_encoder_layers: 1\n"
          ]
        },
        {
          "output_type": "display_data",
          "data": {
            "text/plain": [
              "<IPython.core.display.HTML object>"
            ],
            "text/html": [
              "Tracking run with wandb version 0.19.11"
            ]
          },
          "metadata": {}
        },
        {
          "output_type": "display_data",
          "data": {
            "text/plain": [
              "<IPython.core.display.HTML object>"
            ],
            "text/html": [
              "Run data is saved locally in <code>/content/wandb/run-20250519_154820-h3g3ffi9</code>"
            ]
          },
          "metadata": {}
        },
        {
          "output_type": "display_data",
          "data": {
            "text/plain": [
              "<IPython.core.display.HTML object>"
            ],
            "text/html": [
              "Syncing run <strong><a href='https://wandb.ai/vinyk-sd-indian-institute-of-technology-madras/Assignment3_Attempt1/runs/h3g3ffi9' target=\"_blank\">sandy-sweep-20</a></strong> to <a href='https://wandb.ai/vinyk-sd-indian-institute-of-technology-madras/Assignment3_Attempt1' target=\"_blank\">Weights & Biases</a> (<a href='https://wandb.me/developer-guide' target=\"_blank\">docs</a>)<br>Sweep page: <a href='https://wandb.ai/vinyk-sd-indian-institute-of-technology-madras/Assignment3_Attempt1/sweeps/n6e7axcm' target=\"_blank\">https://wandb.ai/vinyk-sd-indian-institute-of-technology-madras/Assignment3_Attempt1/sweeps/n6e7axcm</a>"
            ]
          },
          "metadata": {}
        },
        {
          "output_type": "display_data",
          "data": {
            "text/plain": [
              "<IPython.core.display.HTML object>"
            ],
            "text/html": [
              " View project at <a href='https://wandb.ai/vinyk-sd-indian-institute-of-technology-madras/Assignment3_Attempt1' target=\"_blank\">https://wandb.ai/vinyk-sd-indian-institute-of-technology-madras/Assignment3_Attempt1</a>"
            ]
          },
          "metadata": {}
        },
        {
          "output_type": "display_data",
          "data": {
            "text/plain": [
              "<IPython.core.display.HTML object>"
            ],
            "text/html": [
              " View sweep at <a href='https://wandb.ai/vinyk-sd-indian-institute-of-technology-madras/Assignment3_Attempt1/sweeps/n6e7axcm' target=\"_blank\">https://wandb.ai/vinyk-sd-indian-institute-of-technology-madras/Assignment3_Attempt1/sweeps/n6e7axcm</a>"
            ]
          },
          "metadata": {}
        },
        {
          "output_type": "display_data",
          "data": {
            "text/plain": [
              "<IPython.core.display.HTML object>"
            ],
            "text/html": [
              " View run at <a href='https://wandb.ai/vinyk-sd-indian-institute-of-technology-madras/Assignment3_Attempt1/runs/h3g3ffi9' target=\"_blank\">https://wandb.ai/vinyk-sd-indian-institute-of-technology-madras/Assignment3_Attempt1/runs/h3g3ffi9</a>"
            ]
          },
          "metadata": {}
        },
        {
          "output_type": "stream",
          "name": "stdout",
          "text": [
            "\n",
            "Final Run Metrics for ed_16_hs_256_enc_1_dec_1_cell_RNN_drop_0.3:\n",
            "Train Loss: 0.3240 | Train Accuracy: 0.8920\n",
            "Val   Loss: 0.4122 | Val   Accuracy: 0.8774\n",
            "\n"
          ]
        },
        {
          "output_type": "display_data",
          "data": {
            "text/plain": [
              "<IPython.core.display.HTML object>"
            ],
            "text/html": []
          },
          "metadata": {}
        },
        {
          "output_type": "display_data",
          "data": {
            "text/plain": [
              "<IPython.core.display.HTML object>"
            ],
            "text/html": [
              "<br>    <style><br>        .wandb-row {<br>            display: flex;<br>            flex-direction: row;<br>            flex-wrap: wrap;<br>            justify-content: flex-start;<br>            width: 100%;<br>        }<br>        .wandb-col {<br>            display: flex;<br>            flex-direction: column;<br>            flex-basis: 100%;<br>            flex: 1;<br>            padding: 10px;<br>        }<br>    </style><br><div class=\"wandb-row\"><div class=\"wandb-col\"><h3>Run history:</h3><br/><table class=\"wandb\"><tr><td>epoch</td><td>▁▂▃▃▄▅▆▆▇█</td></tr><tr><td>train_accuracy</td><td>▁▆▇▇▇█████</td></tr><tr><td>train_loss</td><td>█▃▂▂▂▁▁▁▁▁</td></tr><tr><td>val_accuracy</td><td>▁▄▆▇▇▇████</td></tr><tr><td>val_loss</td><td>█▅▃▂▂▂▁▁▁▁</td></tr></table><br/></div><div class=\"wandb-col\"><h3>Run summary:</h3><br/><table class=\"wandb\"><tr><td>epoch</td><td>9</td></tr><tr><td>train_accuracy</td><td>0.89202</td></tr><tr><td>train_loss</td><td>0.32403</td></tr><tr><td>val_accuracy</td><td>0.87738</td></tr><tr><td>val_loss</td><td>0.41224</td></tr></table><br/></div></div>"
            ]
          },
          "metadata": {}
        },
        {
          "output_type": "display_data",
          "data": {
            "text/plain": [
              "<IPython.core.display.HTML object>"
            ],
            "text/html": [
              " View run <strong style=\"color:#cdcd00\">ed_16_hs_256_enc_1_dec_1_cell_RNN_drop_0.3</strong> at: <a href='https://wandb.ai/vinyk-sd-indian-institute-of-technology-madras/Assignment3_Attempt1/runs/h3g3ffi9' target=\"_blank\">https://wandb.ai/vinyk-sd-indian-institute-of-technology-madras/Assignment3_Attempt1/runs/h3g3ffi9</a><br> View project at: <a href='https://wandb.ai/vinyk-sd-indian-institute-of-technology-madras/Assignment3_Attempt1' target=\"_blank\">https://wandb.ai/vinyk-sd-indian-institute-of-technology-madras/Assignment3_Attempt1</a><br>Synced 5 W&B file(s), 0 media file(s), 0 artifact file(s) and 0 other file(s)"
            ]
          },
          "metadata": {}
        },
        {
          "output_type": "display_data",
          "data": {
            "text/plain": [
              "<IPython.core.display.HTML object>"
            ],
            "text/html": [
              "Find logs at: <code>./wandb/run-20250519_154820-h3g3ffi9/logs</code>"
            ]
          },
          "metadata": {}
        },
        {
          "output_type": "stream",
          "name": "stderr",
          "text": [
            "\u001b[34m\u001b[1mwandb\u001b[0m: Agent Starting Run: uzs1167p with config:\n",
            "\u001b[34m\u001b[1mwandb\u001b[0m: \tcell_type: LSTM\n",
            "\u001b[34m\u001b[1mwandb\u001b[0m: \tdropout: 0.3\n",
            "\u001b[34m\u001b[1mwandb\u001b[0m: \tembedding_size: 32\n",
            "\u001b[34m\u001b[1mwandb\u001b[0m: \thidden_size: 32\n",
            "\u001b[34m\u001b[1mwandb\u001b[0m: \tnum_decoder_layers: 1\n",
            "\u001b[34m\u001b[1mwandb\u001b[0m: \tnum_encoder_layers: 1\n"
          ]
        },
        {
          "output_type": "display_data",
          "data": {
            "text/plain": [
              "<IPython.core.display.HTML object>"
            ],
            "text/html": [
              "Tracking run with wandb version 0.19.11"
            ]
          },
          "metadata": {}
        },
        {
          "output_type": "display_data",
          "data": {
            "text/plain": [
              "<IPython.core.display.HTML object>"
            ],
            "text/html": [
              "Run data is saved locally in <code>/content/wandb/run-20250519_155218-uzs1167p</code>"
            ]
          },
          "metadata": {}
        },
        {
          "output_type": "display_data",
          "data": {
            "text/plain": [
              "<IPython.core.display.HTML object>"
            ],
            "text/html": [
              "Syncing run <strong><a href='https://wandb.ai/vinyk-sd-indian-institute-of-technology-madras/Assignment3_Attempt1/runs/uzs1167p' target=\"_blank\">hopeful-sweep-5</a></strong> to <a href='https://wandb.ai/vinyk-sd-indian-institute-of-technology-madras/Assignment3_Attempt1' target=\"_blank\">Weights & Biases</a> (<a href='https://wandb.me/developer-guide' target=\"_blank\">docs</a>)<br>Sweep page: <a href='https://wandb.ai/vinyk-sd-indian-institute-of-technology-madras/Assignment3_Attempt1/sweeps/n6e7axcm' target=\"_blank\">https://wandb.ai/vinyk-sd-indian-institute-of-technology-madras/Assignment3_Attempt1/sweeps/n6e7axcm</a>"
            ]
          },
          "metadata": {}
        },
        {
          "output_type": "display_data",
          "data": {
            "text/plain": [
              "<IPython.core.display.HTML object>"
            ],
            "text/html": [
              " View project at <a href='https://wandb.ai/vinyk-sd-indian-institute-of-technology-madras/Assignment3_Attempt1' target=\"_blank\">https://wandb.ai/vinyk-sd-indian-institute-of-technology-madras/Assignment3_Attempt1</a>"
            ]
          },
          "metadata": {}
        },
        {
          "output_type": "display_data",
          "data": {
            "text/plain": [
              "<IPython.core.display.HTML object>"
            ],
            "text/html": [
              " View sweep at <a href='https://wandb.ai/vinyk-sd-indian-institute-of-technology-madras/Assignment3_Attempt1/sweeps/n6e7axcm' target=\"_blank\">https://wandb.ai/vinyk-sd-indian-institute-of-technology-madras/Assignment3_Attempt1/sweeps/n6e7axcm</a>"
            ]
          },
          "metadata": {}
        },
        {
          "output_type": "display_data",
          "data": {
            "text/plain": [
              "<IPython.core.display.HTML object>"
            ],
            "text/html": [
              " View run at <a href='https://wandb.ai/vinyk-sd-indian-institute-of-technology-madras/Assignment3_Attempt1/runs/uzs1167p' target=\"_blank\">https://wandb.ai/vinyk-sd-indian-institute-of-technology-madras/Assignment3_Attempt1/runs/uzs1167p</a>"
            ]
          },
          "metadata": {}
        },
        {
          "output_type": "stream",
          "name": "stdout",
          "text": [
            "\n",
            "Final Run Metrics for ed_32_hs_32_enc_1_dec_1_cell_LSTM_drop_0.3:\n",
            "Train Loss: 0.3863 | Train Accuracy: 0.8795\n",
            "Val   Loss: 0.4226 | Val   Accuracy: 0.8743\n",
            "\n"
          ]
        },
        {
          "output_type": "display_data",
          "data": {
            "text/plain": [
              "<IPython.core.display.HTML object>"
            ],
            "text/html": []
          },
          "metadata": {}
        },
        {
          "output_type": "display_data",
          "data": {
            "text/plain": [
              "<IPython.core.display.HTML object>"
            ],
            "text/html": [
              "<br>    <style><br>        .wandb-row {<br>            display: flex;<br>            flex-direction: row;<br>            flex-wrap: wrap;<br>            justify-content: flex-start;<br>            width: 100%;<br>        }<br>        .wandb-col {<br>            display: flex;<br>            flex-direction: column;<br>            flex-basis: 100%;<br>            flex: 1;<br>            padding: 10px;<br>        }<br>    </style><br><div class=\"wandb-row\"><div class=\"wandb-col\"><h3>Run history:</h3><br/><table class=\"wandb\"><tr><td>epoch</td><td>▁▂▃▃▄▅▆▆▇█</td></tr><tr><td>train_accuracy</td><td>▁▆▇███████</td></tr><tr><td>train_loss</td><td>█▃▂▁▁▁▁▁▁▁</td></tr><tr><td>val_accuracy</td><td>▁▆▇▇██████</td></tr><tr><td>val_loss</td><td>█▃▂▂▂▁▁▁▁▁</td></tr></table><br/></div><div class=\"wandb-col\"><h3>Run summary:</h3><br/><table class=\"wandb\"><tr><td>epoch</td><td>9</td></tr><tr><td>train_accuracy</td><td>0.87947</td></tr><tr><td>train_loss</td><td>0.38632</td></tr><tr><td>val_accuracy</td><td>0.87428</td></tr><tr><td>val_loss</td><td>0.42263</td></tr></table><br/></div></div>"
            ]
          },
          "metadata": {}
        },
        {
          "output_type": "display_data",
          "data": {
            "text/plain": [
              "<IPython.core.display.HTML object>"
            ],
            "text/html": [
              " View run <strong style=\"color:#cdcd00\">ed_32_hs_32_enc_1_dec_1_cell_LSTM_drop_0.3</strong> at: <a href='https://wandb.ai/vinyk-sd-indian-institute-of-technology-madras/Assignment3_Attempt1/runs/uzs1167p' target=\"_blank\">https://wandb.ai/vinyk-sd-indian-institute-of-technology-madras/Assignment3_Attempt1/runs/uzs1167p</a><br> View project at: <a href='https://wandb.ai/vinyk-sd-indian-institute-of-technology-madras/Assignment3_Attempt1' target=\"_blank\">https://wandb.ai/vinyk-sd-indian-institute-of-technology-madras/Assignment3_Attempt1</a><br>Synced 5 W&B file(s), 0 media file(s), 0 artifact file(s) and 0 other file(s)"
            ]
          },
          "metadata": {}
        },
        {
          "output_type": "display_data",
          "data": {
            "text/plain": [
              "<IPython.core.display.HTML object>"
            ],
            "text/html": [
              "Find logs at: <code>./wandb/run-20250519_155218-uzs1167p/logs</code>"
            ]
          },
          "metadata": {}
        },
        {
          "output_type": "stream",
          "name": "stderr",
          "text": [
            "\u001b[34m\u001b[1mwandb\u001b[0m: Agent Starting Run: pfxc3e5u with config:\n",
            "\u001b[34m\u001b[1mwandb\u001b[0m: \tcell_type: LSTM\n",
            "\u001b[34m\u001b[1mwandb\u001b[0m: \tdropout: 0.3\n",
            "\u001b[34m\u001b[1mwandb\u001b[0m: \tembedding_size: 256\n",
            "\u001b[34m\u001b[1mwandb\u001b[0m: \thidden_size: 256\n",
            "\u001b[34m\u001b[1mwandb\u001b[0m: \tnum_decoder_layers: 1\n",
            "\u001b[34m\u001b[1mwandb\u001b[0m: \tnum_encoder_layers: 1\n"
          ]
        },
        {
          "output_type": "display_data",
          "data": {
            "text/plain": [
              "<IPython.core.display.HTML object>"
            ],
            "text/html": [
              "Tracking run with wandb version 0.19.11"
            ]
          },
          "metadata": {}
        },
        {
          "output_type": "display_data",
          "data": {
            "text/plain": [
              "<IPython.core.display.HTML object>"
            ],
            "text/html": [
              "Run data is saved locally in <code>/content/wandb/run-20250519_155631-pfxc3e5u</code>"
            ]
          },
          "metadata": {}
        },
        {
          "output_type": "display_data",
          "data": {
            "text/plain": [
              "<IPython.core.display.HTML object>"
            ],
            "text/html": [
              "Syncing run <strong><a href='https://wandb.ai/vinyk-sd-indian-institute-of-technology-madras/Assignment3_Attempt1/runs/pfxc3e5u' target=\"_blank\">iconic-sweep-21</a></strong> to <a href='https://wandb.ai/vinyk-sd-indian-institute-of-technology-madras/Assignment3_Attempt1' target=\"_blank\">Weights & Biases</a> (<a href='https://wandb.me/developer-guide' target=\"_blank\">docs</a>)<br>Sweep page: <a href='https://wandb.ai/vinyk-sd-indian-institute-of-technology-madras/Assignment3_Attempt1/sweeps/n6e7axcm' target=\"_blank\">https://wandb.ai/vinyk-sd-indian-institute-of-technology-madras/Assignment3_Attempt1/sweeps/n6e7axcm</a>"
            ]
          },
          "metadata": {}
        },
        {
          "output_type": "display_data",
          "data": {
            "text/plain": [
              "<IPython.core.display.HTML object>"
            ],
            "text/html": [
              " View project at <a href='https://wandb.ai/vinyk-sd-indian-institute-of-technology-madras/Assignment3_Attempt1' target=\"_blank\">https://wandb.ai/vinyk-sd-indian-institute-of-technology-madras/Assignment3_Attempt1</a>"
            ]
          },
          "metadata": {}
        },
        {
          "output_type": "display_data",
          "data": {
            "text/plain": [
              "<IPython.core.display.HTML object>"
            ],
            "text/html": [
              " View sweep at <a href='https://wandb.ai/vinyk-sd-indian-institute-of-technology-madras/Assignment3_Attempt1/sweeps/n6e7axcm' target=\"_blank\">https://wandb.ai/vinyk-sd-indian-institute-of-technology-madras/Assignment3_Attempt1/sweeps/n6e7axcm</a>"
            ]
          },
          "metadata": {}
        },
        {
          "output_type": "display_data",
          "data": {
            "text/plain": [
              "<IPython.core.display.HTML object>"
            ],
            "text/html": [
              " View run at <a href='https://wandb.ai/vinyk-sd-indian-institute-of-technology-madras/Assignment3_Attempt1/runs/pfxc3e5u' target=\"_blank\">https://wandb.ai/vinyk-sd-indian-institute-of-technology-madras/Assignment3_Attempt1/runs/pfxc3e5u</a>"
            ]
          },
          "metadata": {}
        },
        {
          "output_type": "stream",
          "name": "stdout",
          "text": [
            "\n",
            "Final Run Metrics for ed_256_hs_256_enc_1_dec_1_cell_LSTM_drop_0.3:\n",
            "Train Loss: 0.2332 | Train Accuracy: 0.9121\n",
            "Val   Loss: 0.3359 | Val   Accuracy: 0.8921\n",
            "\n"
          ]
        },
        {
          "output_type": "display_data",
          "data": {
            "text/plain": [
              "<IPython.core.display.HTML object>"
            ],
            "text/html": []
          },
          "metadata": {}
        },
        {
          "output_type": "display_data",
          "data": {
            "text/plain": [
              "<IPython.core.display.HTML object>"
            ],
            "text/html": [
              "<br>    <style><br>        .wandb-row {<br>            display: flex;<br>            flex-direction: row;<br>            flex-wrap: wrap;<br>            justify-content: flex-start;<br>            width: 100%;<br>        }<br>        .wandb-col {<br>            display: flex;<br>            flex-direction: column;<br>            flex-basis: 100%;<br>            flex: 1;<br>            padding: 10px;<br>        }<br>    </style><br><div class=\"wandb-row\"><div class=\"wandb-col\"><h3>Run history:</h3><br/><table class=\"wandb\"><tr><td>epoch</td><td>▁▂▃▃▄▅▆▆▇█</td></tr><tr><td>train_accuracy</td><td>▁▆▇▇▇▇████</td></tr><tr><td>train_loss</td><td>█▃▂▂▂▂▁▁▁▁</td></tr><tr><td>val_accuracy</td><td>▁▅▆▆▇█▇▇██</td></tr><tr><td>val_loss</td><td>█▄▃▂▁▁▁▁▁▁</td></tr></table><br/></div><div class=\"wandb-col\"><h3>Run summary:</h3><br/><table class=\"wandb\"><tr><td>epoch</td><td>9</td></tr><tr><td>train_accuracy</td><td>0.91207</td></tr><tr><td>train_loss</td><td>0.23318</td></tr><tr><td>val_accuracy</td><td>0.8921</td></tr><tr><td>val_loss</td><td>0.33593</td></tr></table><br/></div></div>"
            ]
          },
          "metadata": {}
        },
        {
          "output_type": "display_data",
          "data": {
            "text/plain": [
              "<IPython.core.display.HTML object>"
            ],
            "text/html": [
              " View run <strong style=\"color:#cdcd00\">ed_256_hs_256_enc_1_dec_1_cell_LSTM_drop_0.3</strong> at: <a href='https://wandb.ai/vinyk-sd-indian-institute-of-technology-madras/Assignment3_Attempt1/runs/pfxc3e5u' target=\"_blank\">https://wandb.ai/vinyk-sd-indian-institute-of-technology-madras/Assignment3_Attempt1/runs/pfxc3e5u</a><br> View project at: <a href='https://wandb.ai/vinyk-sd-indian-institute-of-technology-madras/Assignment3_Attempt1' target=\"_blank\">https://wandb.ai/vinyk-sd-indian-institute-of-technology-madras/Assignment3_Attempt1</a><br>Synced 5 W&B file(s), 0 media file(s), 0 artifact file(s) and 0 other file(s)"
            ]
          },
          "metadata": {}
        },
        {
          "output_type": "display_data",
          "data": {
            "text/plain": [
              "<IPython.core.display.HTML object>"
            ],
            "text/html": [
              "Find logs at: <code>./wandb/run-20250519_155631-pfxc3e5u/logs</code>"
            ]
          },
          "metadata": {}
        },
        {
          "output_type": "stream",
          "name": "stderr",
          "text": [
            "\u001b[34m\u001b[1mwandb\u001b[0m: Agent Starting Run: 4f8s1nhl with config:\n",
            "\u001b[34m\u001b[1mwandb\u001b[0m: \tcell_type: LSTM\n",
            "\u001b[34m\u001b[1mwandb\u001b[0m: \tdropout: 0.3\n",
            "\u001b[34m\u001b[1mwandb\u001b[0m: \tembedding_size: 256\n",
            "\u001b[34m\u001b[1mwandb\u001b[0m: \thidden_size: 256\n",
            "\u001b[34m\u001b[1mwandb\u001b[0m: \tnum_decoder_layers: 1\n",
            "\u001b[34m\u001b[1mwandb\u001b[0m: \tnum_encoder_layers: 1\n"
          ]
        },
        {
          "output_type": "display_data",
          "data": {
            "text/plain": [
              "<IPython.core.display.HTML object>"
            ],
            "text/html": [
              "Tracking run with wandb version 0.19.11"
            ]
          },
          "metadata": {}
        },
        {
          "output_type": "display_data",
          "data": {
            "text/plain": [
              "<IPython.core.display.HTML object>"
            ],
            "text/html": [
              "Run data is saved locally in <code>/content/wandb/run-20250519_160105-4f8s1nhl</code>"
            ]
          },
          "metadata": {}
        },
        {
          "output_type": "display_data",
          "data": {
            "text/plain": [
              "<IPython.core.display.HTML object>"
            ],
            "text/html": [
              "Syncing run <strong><a href='https://wandb.ai/vinyk-sd-indian-institute-of-technology-madras/Assignment3_Attempt1/runs/4f8s1nhl' target=\"_blank\">fallen-sweep-22</a></strong> to <a href='https://wandb.ai/vinyk-sd-indian-institute-of-technology-madras/Assignment3_Attempt1' target=\"_blank\">Weights & Biases</a> (<a href='https://wandb.me/developer-guide' target=\"_blank\">docs</a>)<br>Sweep page: <a href='https://wandb.ai/vinyk-sd-indian-institute-of-technology-madras/Assignment3_Attempt1/sweeps/n6e7axcm' target=\"_blank\">https://wandb.ai/vinyk-sd-indian-institute-of-technology-madras/Assignment3_Attempt1/sweeps/n6e7axcm</a>"
            ]
          },
          "metadata": {}
        },
        {
          "output_type": "display_data",
          "data": {
            "text/plain": [
              "<IPython.core.display.HTML object>"
            ],
            "text/html": [
              " View project at <a href='https://wandb.ai/vinyk-sd-indian-institute-of-technology-madras/Assignment3_Attempt1' target=\"_blank\">https://wandb.ai/vinyk-sd-indian-institute-of-technology-madras/Assignment3_Attempt1</a>"
            ]
          },
          "metadata": {}
        },
        {
          "output_type": "display_data",
          "data": {
            "text/plain": [
              "<IPython.core.display.HTML object>"
            ],
            "text/html": [
              " View sweep at <a href='https://wandb.ai/vinyk-sd-indian-institute-of-technology-madras/Assignment3_Attempt1/sweeps/n6e7axcm' target=\"_blank\">https://wandb.ai/vinyk-sd-indian-institute-of-technology-madras/Assignment3_Attempt1/sweeps/n6e7axcm</a>"
            ]
          },
          "metadata": {}
        },
        {
          "output_type": "display_data",
          "data": {
            "text/plain": [
              "<IPython.core.display.HTML object>"
            ],
            "text/html": [
              " View run at <a href='https://wandb.ai/vinyk-sd-indian-institute-of-technology-madras/Assignment3_Attempt1/runs/4f8s1nhl' target=\"_blank\">https://wandb.ai/vinyk-sd-indian-institute-of-technology-madras/Assignment3_Attempt1/runs/4f8s1nhl</a>"
            ]
          },
          "metadata": {}
        },
        {
          "output_type": "stream",
          "name": "stdout",
          "text": [
            "\n",
            "Final Run Metrics for ed_256_hs_256_enc_1_dec_1_cell_LSTM_drop_0.3:\n",
            "Train Loss: 0.2346 | Train Accuracy: 0.9116\n",
            "Val   Loss: 0.3413 | Val   Accuracy: 0.8921\n",
            "\n"
          ]
        },
        {
          "output_type": "display_data",
          "data": {
            "text/plain": [
              "<IPython.core.display.HTML object>"
            ],
            "text/html": []
          },
          "metadata": {}
        },
        {
          "output_type": "display_data",
          "data": {
            "text/plain": [
              "<IPython.core.display.HTML object>"
            ],
            "text/html": [
              "<br>    <style><br>        .wandb-row {<br>            display: flex;<br>            flex-direction: row;<br>            flex-wrap: wrap;<br>            justify-content: flex-start;<br>            width: 100%;<br>        }<br>        .wandb-col {<br>            display: flex;<br>            flex-direction: column;<br>            flex-basis: 100%;<br>            flex: 1;<br>            padding: 10px;<br>        }<br>    </style><br><div class=\"wandb-row\"><div class=\"wandb-col\"><h3>Run history:</h3><br/><table class=\"wandb\"><tr><td>epoch</td><td>▁▂▃▃▄▅▆▆▇█</td></tr><tr><td>train_accuracy</td><td>▁▆▇▇▇█████</td></tr><tr><td>train_loss</td><td>█▃▂▂▂▂▁▁▁▁</td></tr><tr><td>val_accuracy</td><td>▁▅▆▇▇▇█▇█▇</td></tr><tr><td>val_loss</td><td>█▄▃▂▁▁▁▁▁▂</td></tr></table><br/></div><div class=\"wandb-col\"><h3>Run summary:</h3><br/><table class=\"wandb\"><tr><td>epoch</td><td>9</td></tr><tr><td>train_accuracy</td><td>0.91163</td></tr><tr><td>train_loss</td><td>0.23464</td></tr><tr><td>val_accuracy</td><td>0.89213</td></tr><tr><td>val_loss</td><td>0.34131</td></tr></table><br/></div></div>"
            ]
          },
          "metadata": {}
        },
        {
          "output_type": "display_data",
          "data": {
            "text/plain": [
              "<IPython.core.display.HTML object>"
            ],
            "text/html": [
              " View run <strong style=\"color:#cdcd00\">ed_256_hs_256_enc_1_dec_1_cell_LSTM_drop_0.3</strong> at: <a href='https://wandb.ai/vinyk-sd-indian-institute-of-technology-madras/Assignment3_Attempt1/runs/4f8s1nhl' target=\"_blank\">https://wandb.ai/vinyk-sd-indian-institute-of-technology-madras/Assignment3_Attempt1/runs/4f8s1nhl</a><br> View project at: <a href='https://wandb.ai/vinyk-sd-indian-institute-of-technology-madras/Assignment3_Attempt1' target=\"_blank\">https://wandb.ai/vinyk-sd-indian-institute-of-technology-madras/Assignment3_Attempt1</a><br>Synced 5 W&B file(s), 0 media file(s), 0 artifact file(s) and 0 other file(s)"
            ]
          },
          "metadata": {}
        },
        {
          "output_type": "display_data",
          "data": {
            "text/plain": [
              "<IPython.core.display.HTML object>"
            ],
            "text/html": [
              "Find logs at: <code>./wandb/run-20250519_160105-4f8s1nhl/logs</code>"
            ]
          },
          "metadata": {}
        },
        {
          "output_type": "stream",
          "name": "stderr",
          "text": [
            "\u001b[34m\u001b[1mwandb\u001b[0m: Agent Starting Run: 1ghi93ei with config:\n",
            "\u001b[34m\u001b[1mwandb\u001b[0m: \tcell_type: LSTM\n",
            "\u001b[34m\u001b[1mwandb\u001b[0m: \tdropout: 0.3\n",
            "\u001b[34m\u001b[1mwandb\u001b[0m: \tembedding_size: 256\n",
            "\u001b[34m\u001b[1mwandb\u001b[0m: \thidden_size: 256\n",
            "\u001b[34m\u001b[1mwandb\u001b[0m: \tnum_decoder_layers: 1\n",
            "\u001b[34m\u001b[1mwandb\u001b[0m: \tnum_encoder_layers: 1\n"
          ]
        },
        {
          "output_type": "display_data",
          "data": {
            "text/plain": [
              "<IPython.core.display.HTML object>"
            ],
            "text/html": [
              "Tracking run with wandb version 0.19.11"
            ]
          },
          "metadata": {}
        },
        {
          "output_type": "display_data",
          "data": {
            "text/plain": [
              "<IPython.core.display.HTML object>"
            ],
            "text/html": [
              "Run data is saved locally in <code>/content/wandb/run-20250519_160539-1ghi93ei</code>"
            ]
          },
          "metadata": {}
        },
        {
          "output_type": "display_data",
          "data": {
            "text/plain": [
              "<IPython.core.display.HTML object>"
            ],
            "text/html": [
              "Syncing run <strong><a href='https://wandb.ai/vinyk-sd-indian-institute-of-technology-madras/Assignment3_Attempt1/runs/1ghi93ei' target=\"_blank\">blooming-sweep-23</a></strong> to <a href='https://wandb.ai/vinyk-sd-indian-institute-of-technology-madras/Assignment3_Attempt1' target=\"_blank\">Weights & Biases</a> (<a href='https://wandb.me/developer-guide' target=\"_blank\">docs</a>)<br>Sweep page: <a href='https://wandb.ai/vinyk-sd-indian-institute-of-technology-madras/Assignment3_Attempt1/sweeps/n6e7axcm' target=\"_blank\">https://wandb.ai/vinyk-sd-indian-institute-of-technology-madras/Assignment3_Attempt1/sweeps/n6e7axcm</a>"
            ]
          },
          "metadata": {}
        },
        {
          "output_type": "display_data",
          "data": {
            "text/plain": [
              "<IPython.core.display.HTML object>"
            ],
            "text/html": [
              " View project at <a href='https://wandb.ai/vinyk-sd-indian-institute-of-technology-madras/Assignment3_Attempt1' target=\"_blank\">https://wandb.ai/vinyk-sd-indian-institute-of-technology-madras/Assignment3_Attempt1</a>"
            ]
          },
          "metadata": {}
        },
        {
          "output_type": "display_data",
          "data": {
            "text/plain": [
              "<IPython.core.display.HTML object>"
            ],
            "text/html": [
              " View sweep at <a href='https://wandb.ai/vinyk-sd-indian-institute-of-technology-madras/Assignment3_Attempt1/sweeps/n6e7axcm' target=\"_blank\">https://wandb.ai/vinyk-sd-indian-institute-of-technology-madras/Assignment3_Attempt1/sweeps/n6e7axcm</a>"
            ]
          },
          "metadata": {}
        },
        {
          "output_type": "display_data",
          "data": {
            "text/plain": [
              "<IPython.core.display.HTML object>"
            ],
            "text/html": [
              " View run at <a href='https://wandb.ai/vinyk-sd-indian-institute-of-technology-madras/Assignment3_Attempt1/runs/1ghi93ei' target=\"_blank\">https://wandb.ai/vinyk-sd-indian-institute-of-technology-madras/Assignment3_Attempt1/runs/1ghi93ei</a>"
            ]
          },
          "metadata": {}
        },
        {
          "output_type": "stream",
          "name": "stdout",
          "text": [
            "\n",
            "Final Run Metrics for ed_256_hs_256_enc_1_dec_1_cell_LSTM_drop_0.3:\n",
            "Train Loss: 0.2276 | Train Accuracy: 0.9130\n",
            "Val   Loss: 0.3341 | Val   Accuracy: 0.8941\n",
            "\n"
          ]
        },
        {
          "output_type": "display_data",
          "data": {
            "text/plain": [
              "<IPython.core.display.HTML object>"
            ],
            "text/html": []
          },
          "metadata": {}
        },
        {
          "output_type": "display_data",
          "data": {
            "text/plain": [
              "<IPython.core.display.HTML object>"
            ],
            "text/html": [
              "<br>    <style><br>        .wandb-row {<br>            display: flex;<br>            flex-direction: row;<br>            flex-wrap: wrap;<br>            justify-content: flex-start;<br>            width: 100%;<br>        }<br>        .wandb-col {<br>            display: flex;<br>            flex-direction: column;<br>            flex-basis: 100%;<br>            flex: 1;<br>            padding: 10px;<br>        }<br>    </style><br><div class=\"wandb-row\"><div class=\"wandb-col\"><h3>Run history:</h3><br/><table class=\"wandb\"><tr><td>epoch</td><td>▁▂▃▃▄▅▆▆▇█</td></tr><tr><td>train_accuracy</td><td>▁▇▇▇▇█████</td></tr><tr><td>train_loss</td><td>█▃▂▂▂▁▁▁▁▁</td></tr><tr><td>val_accuracy</td><td>▁▅▆▇▇▇▇▇██</td></tr><tr><td>val_loss</td><td>█▄▃▂▁▁▁▁▁▁</td></tr></table><br/></div><div class=\"wandb-col\"><h3>Run summary:</h3><br/><table class=\"wandb\"><tr><td>epoch</td><td>9</td></tr><tr><td>train_accuracy</td><td>0.91305</td></tr><tr><td>train_loss</td><td>0.22758</td></tr><tr><td>val_accuracy</td><td>0.89413</td></tr><tr><td>val_loss</td><td>0.33406</td></tr></table><br/></div></div>"
            ]
          },
          "metadata": {}
        },
        {
          "output_type": "display_data",
          "data": {
            "text/plain": [
              "<IPython.core.display.HTML object>"
            ],
            "text/html": [
              " View run <strong style=\"color:#cdcd00\">ed_256_hs_256_enc_1_dec_1_cell_LSTM_drop_0.3</strong> at: <a href='https://wandb.ai/vinyk-sd-indian-institute-of-technology-madras/Assignment3_Attempt1/runs/1ghi93ei' target=\"_blank\">https://wandb.ai/vinyk-sd-indian-institute-of-technology-madras/Assignment3_Attempt1/runs/1ghi93ei</a><br> View project at: <a href='https://wandb.ai/vinyk-sd-indian-institute-of-technology-madras/Assignment3_Attempt1' target=\"_blank\">https://wandb.ai/vinyk-sd-indian-institute-of-technology-madras/Assignment3_Attempt1</a><br>Synced 5 W&B file(s), 0 media file(s), 0 artifact file(s) and 0 other file(s)"
            ]
          },
          "metadata": {}
        },
        {
          "output_type": "display_data",
          "data": {
            "text/plain": [
              "<IPython.core.display.HTML object>"
            ],
            "text/html": [
              "Find logs at: <code>./wandb/run-20250519_160539-1ghi93ei/logs</code>"
            ]
          },
          "metadata": {}
        },
        {
          "output_type": "stream",
          "name": "stderr",
          "text": [
            "\u001b[34m\u001b[1mwandb\u001b[0m: Agent Starting Run: fc9v2kmx with config:\n",
            "\u001b[34m\u001b[1mwandb\u001b[0m: \tcell_type: GRU\n",
            "\u001b[34m\u001b[1mwandb\u001b[0m: \tdropout: 0.3\n",
            "\u001b[34m\u001b[1mwandb\u001b[0m: \tembedding_size: 256\n",
            "\u001b[34m\u001b[1mwandb\u001b[0m: \thidden_size: 256\n",
            "\u001b[34m\u001b[1mwandb\u001b[0m: \tnum_decoder_layers: 1\n",
            "\u001b[34m\u001b[1mwandb\u001b[0m: \tnum_encoder_layers: 1\n"
          ]
        },
        {
          "output_type": "display_data",
          "data": {
            "text/plain": [
              "<IPython.core.display.HTML object>"
            ],
            "text/html": [
              "Tracking run with wandb version 0.19.11"
            ]
          },
          "metadata": {}
        },
        {
          "output_type": "display_data",
          "data": {
            "text/plain": [
              "<IPython.core.display.HTML object>"
            ],
            "text/html": [
              "Run data is saved locally in <code>/content/wandb/run-20250519_161013-fc9v2kmx</code>"
            ]
          },
          "metadata": {}
        },
        {
          "output_type": "display_data",
          "data": {
            "text/plain": [
              "<IPython.core.display.HTML object>"
            ],
            "text/html": [
              "Syncing run <strong><a href='https://wandb.ai/vinyk-sd-indian-institute-of-technology-madras/Assignment3_Attempt1/runs/fc9v2kmx' target=\"_blank\">absurd-sweep-24</a></strong> to <a href='https://wandb.ai/vinyk-sd-indian-institute-of-technology-madras/Assignment3_Attempt1' target=\"_blank\">Weights & Biases</a> (<a href='https://wandb.me/developer-guide' target=\"_blank\">docs</a>)<br>Sweep page: <a href='https://wandb.ai/vinyk-sd-indian-institute-of-technology-madras/Assignment3_Attempt1/sweeps/n6e7axcm' target=\"_blank\">https://wandb.ai/vinyk-sd-indian-institute-of-technology-madras/Assignment3_Attempt1/sweeps/n6e7axcm</a>"
            ]
          },
          "metadata": {}
        },
        {
          "output_type": "display_data",
          "data": {
            "text/plain": [
              "<IPython.core.display.HTML object>"
            ],
            "text/html": [
              " View project at <a href='https://wandb.ai/vinyk-sd-indian-institute-of-technology-madras/Assignment3_Attempt1' target=\"_blank\">https://wandb.ai/vinyk-sd-indian-institute-of-technology-madras/Assignment3_Attempt1</a>"
            ]
          },
          "metadata": {}
        },
        {
          "output_type": "display_data",
          "data": {
            "text/plain": [
              "<IPython.core.display.HTML object>"
            ],
            "text/html": [
              " View sweep at <a href='https://wandb.ai/vinyk-sd-indian-institute-of-technology-madras/Assignment3_Attempt1/sweeps/n6e7axcm' target=\"_blank\">https://wandb.ai/vinyk-sd-indian-institute-of-technology-madras/Assignment3_Attempt1/sweeps/n6e7axcm</a>"
            ]
          },
          "metadata": {}
        },
        {
          "output_type": "display_data",
          "data": {
            "text/plain": [
              "<IPython.core.display.HTML object>"
            ],
            "text/html": [
              " View run at <a href='https://wandb.ai/vinyk-sd-indian-institute-of-technology-madras/Assignment3_Attempt1/runs/fc9v2kmx' target=\"_blank\">https://wandb.ai/vinyk-sd-indian-institute-of-technology-madras/Assignment3_Attempt1/runs/fc9v2kmx</a>"
            ]
          },
          "metadata": {}
        },
        {
          "output_type": "stream",
          "name": "stdout",
          "text": [
            "\n",
            "Final Run Metrics for ed_256_hs_256_enc_1_dec_1_cell_GRU_drop_0.3:\n",
            "Train Loss: 0.2417 | Train Accuracy: 0.9096\n",
            "Val   Loss: 0.3483 | Val   Accuracy: 0.8929\n",
            "\n"
          ]
        },
        {
          "output_type": "display_data",
          "data": {
            "text/plain": [
              "<IPython.core.display.HTML object>"
            ],
            "text/html": []
          },
          "metadata": {}
        },
        {
          "output_type": "display_data",
          "data": {
            "text/plain": [
              "<IPython.core.display.HTML object>"
            ],
            "text/html": [
              "<br>    <style><br>        .wandb-row {<br>            display: flex;<br>            flex-direction: row;<br>            flex-wrap: wrap;<br>            justify-content: flex-start;<br>            width: 100%;<br>        }<br>        .wandb-col {<br>            display: flex;<br>            flex-direction: column;<br>            flex-basis: 100%;<br>            flex: 1;<br>            padding: 10px;<br>        }<br>    </style><br><div class=\"wandb-row\"><div class=\"wandb-col\"><h3>Run history:</h3><br/><table class=\"wandb\"><tr><td>epoch</td><td>▁▂▃▃▄▅▆▆▇█</td></tr><tr><td>train_accuracy</td><td>▁▆▇▇▇▇████</td></tr><tr><td>train_loss</td><td>█▃▂▂▂▂▁▁▁▁</td></tr><tr><td>val_accuracy</td><td>▁▄▂▆▇█▇█▇█</td></tr><tr><td>val_loss</td><td>█▄▆▂▂▁▁▂▂▂</td></tr></table><br/></div><div class=\"wandb-col\"><h3>Run summary:</h3><br/><table class=\"wandb\"><tr><td>epoch</td><td>9</td></tr><tr><td>train_accuracy</td><td>0.9096</td></tr><tr><td>train_loss</td><td>0.24167</td></tr><tr><td>val_accuracy</td><td>0.89294</td></tr><tr><td>val_loss</td><td>0.34831</td></tr></table><br/></div></div>"
            ]
          },
          "metadata": {}
        },
        {
          "output_type": "display_data",
          "data": {
            "text/plain": [
              "<IPython.core.display.HTML object>"
            ],
            "text/html": [
              " View run <strong style=\"color:#cdcd00\">ed_256_hs_256_enc_1_dec_1_cell_GRU_drop_0.3</strong> at: <a href='https://wandb.ai/vinyk-sd-indian-institute-of-technology-madras/Assignment3_Attempt1/runs/fc9v2kmx' target=\"_blank\">https://wandb.ai/vinyk-sd-indian-institute-of-technology-madras/Assignment3_Attempt1/runs/fc9v2kmx</a><br> View project at: <a href='https://wandb.ai/vinyk-sd-indian-institute-of-technology-madras/Assignment3_Attempt1' target=\"_blank\">https://wandb.ai/vinyk-sd-indian-institute-of-technology-madras/Assignment3_Attempt1</a><br>Synced 5 W&B file(s), 0 media file(s), 0 artifact file(s) and 0 other file(s)"
            ]
          },
          "metadata": {}
        },
        {
          "output_type": "display_data",
          "data": {
            "text/plain": [
              "<IPython.core.display.HTML object>"
            ],
            "text/html": [
              "Find logs at: <code>./wandb/run-20250519_161013-fc9v2kmx/logs</code>"
            ]
          },
          "metadata": {}
        },
        {
          "output_type": "stream",
          "name": "stderr",
          "text": [
            "\u001b[34m\u001b[1mwandb\u001b[0m: Agent Starting Run: my7zko1q with config:\n",
            "\u001b[34m\u001b[1mwandb\u001b[0m: \tcell_type: LSTM\n",
            "\u001b[34m\u001b[1mwandb\u001b[0m: \tdropout: 0.3\n",
            "\u001b[34m\u001b[1mwandb\u001b[0m: \tembedding_size: 256\n",
            "\u001b[34m\u001b[1mwandb\u001b[0m: \thidden_size: 256\n",
            "\u001b[34m\u001b[1mwandb\u001b[0m: \tnum_decoder_layers: 1\n",
            "\u001b[34m\u001b[1mwandb\u001b[0m: \tnum_encoder_layers: 1\n"
          ]
        },
        {
          "output_type": "display_data",
          "data": {
            "text/plain": [
              "<IPython.core.display.HTML object>"
            ],
            "text/html": [
              "Tracking run with wandb version 0.19.11"
            ]
          },
          "metadata": {}
        },
        {
          "output_type": "display_data",
          "data": {
            "text/plain": [
              "<IPython.core.display.HTML object>"
            ],
            "text/html": [
              "Run data is saved locally in <code>/content/wandb/run-20250519_161437-my7zko1q</code>"
            ]
          },
          "metadata": {}
        },
        {
          "output_type": "display_data",
          "data": {
            "text/plain": [
              "<IPython.core.display.HTML object>"
            ],
            "text/html": [
              "Syncing run <strong><a href='https://wandb.ai/vinyk-sd-indian-institute-of-technology-madras/Assignment3_Attempt1/runs/my7zko1q' target=\"_blank\">playful-sweep-25</a></strong> to <a href='https://wandb.ai/vinyk-sd-indian-institute-of-technology-madras/Assignment3_Attempt1' target=\"_blank\">Weights & Biases</a> (<a href='https://wandb.me/developer-guide' target=\"_blank\">docs</a>)<br>Sweep page: <a href='https://wandb.ai/vinyk-sd-indian-institute-of-technology-madras/Assignment3_Attempt1/sweeps/n6e7axcm' target=\"_blank\">https://wandb.ai/vinyk-sd-indian-institute-of-technology-madras/Assignment3_Attempt1/sweeps/n6e7axcm</a>"
            ]
          },
          "metadata": {}
        },
        {
          "output_type": "display_data",
          "data": {
            "text/plain": [
              "<IPython.core.display.HTML object>"
            ],
            "text/html": [
              " View project at <a href='https://wandb.ai/vinyk-sd-indian-institute-of-technology-madras/Assignment3_Attempt1' target=\"_blank\">https://wandb.ai/vinyk-sd-indian-institute-of-technology-madras/Assignment3_Attempt1</a>"
            ]
          },
          "metadata": {}
        },
        {
          "output_type": "display_data",
          "data": {
            "text/plain": [
              "<IPython.core.display.HTML object>"
            ],
            "text/html": [
              " View sweep at <a href='https://wandb.ai/vinyk-sd-indian-institute-of-technology-madras/Assignment3_Attempt1/sweeps/n6e7axcm' target=\"_blank\">https://wandb.ai/vinyk-sd-indian-institute-of-technology-madras/Assignment3_Attempt1/sweeps/n6e7axcm</a>"
            ]
          },
          "metadata": {}
        },
        {
          "output_type": "display_data",
          "data": {
            "text/plain": [
              "<IPython.core.display.HTML object>"
            ],
            "text/html": [
              " View run at <a href='https://wandb.ai/vinyk-sd-indian-institute-of-technology-madras/Assignment3_Attempt1/runs/my7zko1q' target=\"_blank\">https://wandb.ai/vinyk-sd-indian-institute-of-technology-madras/Assignment3_Attempt1/runs/my7zko1q</a>"
            ]
          },
          "metadata": {}
        },
        {
          "output_type": "stream",
          "name": "stdout",
          "text": [
            "\n",
            "Final Run Metrics for ed_256_hs_256_enc_1_dec_1_cell_LSTM_drop_0.3:\n",
            "Train Loss: 0.2314 | Train Accuracy: 0.9117\n",
            "Val   Loss: 0.3310 | Val   Accuracy: 0.8936\n",
            "\n"
          ]
        },
        {
          "output_type": "display_data",
          "data": {
            "text/plain": [
              "<IPython.core.display.HTML object>"
            ],
            "text/html": []
          },
          "metadata": {}
        },
        {
          "output_type": "display_data",
          "data": {
            "text/plain": [
              "<IPython.core.display.HTML object>"
            ],
            "text/html": [
              "<br>    <style><br>        .wandb-row {<br>            display: flex;<br>            flex-direction: row;<br>            flex-wrap: wrap;<br>            justify-content: flex-start;<br>            width: 100%;<br>        }<br>        .wandb-col {<br>            display: flex;<br>            flex-direction: column;<br>            flex-basis: 100%;<br>            flex: 1;<br>            padding: 10px;<br>        }<br>    </style><br><div class=\"wandb-row\"><div class=\"wandb-col\"><h3>Run history:</h3><br/><table class=\"wandb\"><tr><td>epoch</td><td>▁▂▃▃▄▅▆▆▇█</td></tr><tr><td>train_accuracy</td><td>▁▆▇▇▇█████</td></tr><tr><td>train_loss</td><td>█▃▂▂▂▂▁▁▁▁</td></tr><tr><td>val_accuracy</td><td>▁▄▄▆▇▇▇▇██</td></tr><tr><td>val_loss</td><td>█▅▄▂▂▁▁▁▂▁</td></tr></table><br/></div><div class=\"wandb-col\"><h3>Run summary:</h3><br/><table class=\"wandb\"><tr><td>epoch</td><td>9</td></tr><tr><td>train_accuracy</td><td>0.91171</td></tr><tr><td>train_loss</td><td>0.23141</td></tr><tr><td>val_accuracy</td><td>0.89361</td></tr><tr><td>val_loss</td><td>0.33096</td></tr></table><br/></div></div>"
            ]
          },
          "metadata": {}
        },
        {
          "output_type": "display_data",
          "data": {
            "text/plain": [
              "<IPython.core.display.HTML object>"
            ],
            "text/html": [
              " View run <strong style=\"color:#cdcd00\">ed_256_hs_256_enc_1_dec_1_cell_LSTM_drop_0.3</strong> at: <a href='https://wandb.ai/vinyk-sd-indian-institute-of-technology-madras/Assignment3_Attempt1/runs/my7zko1q' target=\"_blank\">https://wandb.ai/vinyk-sd-indian-institute-of-technology-madras/Assignment3_Attempt1/runs/my7zko1q</a><br> View project at: <a href='https://wandb.ai/vinyk-sd-indian-institute-of-technology-madras/Assignment3_Attempt1' target=\"_blank\">https://wandb.ai/vinyk-sd-indian-institute-of-technology-madras/Assignment3_Attempt1</a><br>Synced 5 W&B file(s), 0 media file(s), 0 artifact file(s) and 0 other file(s)"
            ]
          },
          "metadata": {}
        },
        {
          "output_type": "display_data",
          "data": {
            "text/plain": [
              "<IPython.core.display.HTML object>"
            ],
            "text/html": [
              "Find logs at: <code>./wandb/run-20250519_161437-my7zko1q/logs</code>"
            ]
          },
          "metadata": {}
        },
        {
          "output_type": "stream",
          "name": "stderr",
          "text": [
            "\u001b[34m\u001b[1mwandb\u001b[0m: Agent Starting Run: 78961nic with config:\n",
            "\u001b[34m\u001b[1mwandb\u001b[0m: \tcell_type: GRU\n",
            "\u001b[34m\u001b[1mwandb\u001b[0m: \tdropout: 0.3\n",
            "\u001b[34m\u001b[1mwandb\u001b[0m: \tembedding_size: 256\n",
            "\u001b[34m\u001b[1mwandb\u001b[0m: \thidden_size: 256\n",
            "\u001b[34m\u001b[1mwandb\u001b[0m: \tnum_decoder_layers: 1\n",
            "\u001b[34m\u001b[1mwandb\u001b[0m: \tnum_encoder_layers: 1\n"
          ]
        },
        {
          "output_type": "display_data",
          "data": {
            "text/plain": [
              "<IPython.core.display.HTML object>"
            ],
            "text/html": [
              "Tracking run with wandb version 0.19.11"
            ]
          },
          "metadata": {}
        },
        {
          "output_type": "display_data",
          "data": {
            "text/plain": [
              "<IPython.core.display.HTML object>"
            ],
            "text/html": [
              "Run data is saved locally in <code>/content/wandb/run-20250519_161911-78961nic</code>"
            ]
          },
          "metadata": {}
        },
        {
          "output_type": "display_data",
          "data": {
            "text/plain": [
              "<IPython.core.display.HTML object>"
            ],
            "text/html": [
              "Syncing run <strong><a href='https://wandb.ai/vinyk-sd-indian-institute-of-technology-madras/Assignment3_Attempt1/runs/78961nic' target=\"_blank\">misty-sweep-26</a></strong> to <a href='https://wandb.ai/vinyk-sd-indian-institute-of-technology-madras/Assignment3_Attempt1' target=\"_blank\">Weights & Biases</a> (<a href='https://wandb.me/developer-guide' target=\"_blank\">docs</a>)<br>Sweep page: <a href='https://wandb.ai/vinyk-sd-indian-institute-of-technology-madras/Assignment3_Attempt1/sweeps/n6e7axcm' target=\"_blank\">https://wandb.ai/vinyk-sd-indian-institute-of-technology-madras/Assignment3_Attempt1/sweeps/n6e7axcm</a>"
            ]
          },
          "metadata": {}
        },
        {
          "output_type": "display_data",
          "data": {
            "text/plain": [
              "<IPython.core.display.HTML object>"
            ],
            "text/html": [
              " View project at <a href='https://wandb.ai/vinyk-sd-indian-institute-of-technology-madras/Assignment3_Attempt1' target=\"_blank\">https://wandb.ai/vinyk-sd-indian-institute-of-technology-madras/Assignment3_Attempt1</a>"
            ]
          },
          "metadata": {}
        },
        {
          "output_type": "display_data",
          "data": {
            "text/plain": [
              "<IPython.core.display.HTML object>"
            ],
            "text/html": [
              " View sweep at <a href='https://wandb.ai/vinyk-sd-indian-institute-of-technology-madras/Assignment3_Attempt1/sweeps/n6e7axcm' target=\"_blank\">https://wandb.ai/vinyk-sd-indian-institute-of-technology-madras/Assignment3_Attempt1/sweeps/n6e7axcm</a>"
            ]
          },
          "metadata": {}
        },
        {
          "output_type": "display_data",
          "data": {
            "text/plain": [
              "<IPython.core.display.HTML object>"
            ],
            "text/html": [
              " View run at <a href='https://wandb.ai/vinyk-sd-indian-institute-of-technology-madras/Assignment3_Attempt1/runs/78961nic' target=\"_blank\">https://wandb.ai/vinyk-sd-indian-institute-of-technology-madras/Assignment3_Attempt1/runs/78961nic</a>"
            ]
          },
          "metadata": {}
        },
        {
          "output_type": "stream",
          "name": "stdout",
          "text": [
            "\n",
            "Final Run Metrics for ed_256_hs_256_enc_1_dec_1_cell_GRU_drop_0.3:\n",
            "Train Loss: 0.2427 | Train Accuracy: 0.9099\n",
            "Val   Loss: 0.3327 | Val   Accuracy: 0.8924\n",
            "\n"
          ]
        },
        {
          "output_type": "display_data",
          "data": {
            "text/plain": [
              "<IPython.core.display.HTML object>"
            ],
            "text/html": []
          },
          "metadata": {}
        },
        {
          "output_type": "display_data",
          "data": {
            "text/plain": [
              "<IPython.core.display.HTML object>"
            ],
            "text/html": [
              "<br>    <style><br>        .wandb-row {<br>            display: flex;<br>            flex-direction: row;<br>            flex-wrap: wrap;<br>            justify-content: flex-start;<br>            width: 100%;<br>        }<br>        .wandb-col {<br>            display: flex;<br>            flex-direction: column;<br>            flex-basis: 100%;<br>            flex: 1;<br>            padding: 10px;<br>        }<br>    </style><br><div class=\"wandb-row\"><div class=\"wandb-col\"><h3>Run history:</h3><br/><table class=\"wandb\"><tr><td>epoch</td><td>▁▂▃▃▄▅▆▆▇█</td></tr><tr><td>train_accuracy</td><td>▁▆▇▇▇▇████</td></tr><tr><td>train_loss</td><td>█▃▂▂▂▂▁▁▁▁</td></tr><tr><td>val_accuracy</td><td>▁▄▆▆▇█▇▇██</td></tr><tr><td>val_loss</td><td>█▆▃▃▂▂▂▂▁▁</td></tr></table><br/></div><div class=\"wandb-col\"><h3>Run summary:</h3><br/><table class=\"wandb\"><tr><td>epoch</td><td>9</td></tr><tr><td>train_accuracy</td><td>0.90991</td></tr><tr><td>train_loss</td><td>0.24265</td></tr><tr><td>val_accuracy</td><td>0.89239</td></tr><tr><td>val_loss</td><td>0.33274</td></tr></table><br/></div></div>"
            ]
          },
          "metadata": {}
        },
        {
          "output_type": "display_data",
          "data": {
            "text/plain": [
              "<IPython.core.display.HTML object>"
            ],
            "text/html": [
              " View run <strong style=\"color:#cdcd00\">ed_256_hs_256_enc_1_dec_1_cell_GRU_drop_0.3</strong> at: <a href='https://wandb.ai/vinyk-sd-indian-institute-of-technology-madras/Assignment3_Attempt1/runs/78961nic' target=\"_blank\">https://wandb.ai/vinyk-sd-indian-institute-of-technology-madras/Assignment3_Attempt1/runs/78961nic</a><br> View project at: <a href='https://wandb.ai/vinyk-sd-indian-institute-of-technology-madras/Assignment3_Attempt1' target=\"_blank\">https://wandb.ai/vinyk-sd-indian-institute-of-technology-madras/Assignment3_Attempt1</a><br>Synced 5 W&B file(s), 0 media file(s), 0 artifact file(s) and 0 other file(s)"
            ]
          },
          "metadata": {}
        },
        {
          "output_type": "display_data",
          "data": {
            "text/plain": [
              "<IPython.core.display.HTML object>"
            ],
            "text/html": [
              "Find logs at: <code>./wandb/run-20250519_161911-78961nic/logs</code>"
            ]
          },
          "metadata": {}
        },
        {
          "output_type": "stream",
          "name": "stderr",
          "text": [
            "\u001b[34m\u001b[1mwandb\u001b[0m: Agent Starting Run: t72svme2 with config:\n",
            "\u001b[34m\u001b[1mwandb\u001b[0m: \tcell_type: LSTM\n",
            "\u001b[34m\u001b[1mwandb\u001b[0m: \tdropout: 0.3\n",
            "\u001b[34m\u001b[1mwandb\u001b[0m: \tembedding_size: 256\n",
            "\u001b[34m\u001b[1mwandb\u001b[0m: \thidden_size: 256\n",
            "\u001b[34m\u001b[1mwandb\u001b[0m: \tnum_decoder_layers: 1\n",
            "\u001b[34m\u001b[1mwandb\u001b[0m: \tnum_encoder_layers: 1\n"
          ]
        },
        {
          "output_type": "display_data",
          "data": {
            "text/plain": [
              "<IPython.core.display.HTML object>"
            ],
            "text/html": [
              "Tracking run with wandb version 0.19.11"
            ]
          },
          "metadata": {}
        },
        {
          "output_type": "display_data",
          "data": {
            "text/plain": [
              "<IPython.core.display.HTML object>"
            ],
            "text/html": [
              "Run data is saved locally in <code>/content/wandb/run-20250519_162334-t72svme2</code>"
            ]
          },
          "metadata": {}
        },
        {
          "output_type": "display_data",
          "data": {
            "text/plain": [
              "<IPython.core.display.HTML object>"
            ],
            "text/html": [
              "Syncing run <strong><a href='https://wandb.ai/vinyk-sd-indian-institute-of-technology-madras/Assignment3_Attempt1/runs/t72svme2' target=\"_blank\">swift-sweep-27</a></strong> to <a href='https://wandb.ai/vinyk-sd-indian-institute-of-technology-madras/Assignment3_Attempt1' target=\"_blank\">Weights & Biases</a> (<a href='https://wandb.me/developer-guide' target=\"_blank\">docs</a>)<br>Sweep page: <a href='https://wandb.ai/vinyk-sd-indian-institute-of-technology-madras/Assignment3_Attempt1/sweeps/n6e7axcm' target=\"_blank\">https://wandb.ai/vinyk-sd-indian-institute-of-technology-madras/Assignment3_Attempt1/sweeps/n6e7axcm</a>"
            ]
          },
          "metadata": {}
        },
        {
          "output_type": "display_data",
          "data": {
            "text/plain": [
              "<IPython.core.display.HTML object>"
            ],
            "text/html": [
              " View project at <a href='https://wandb.ai/vinyk-sd-indian-institute-of-technology-madras/Assignment3_Attempt1' target=\"_blank\">https://wandb.ai/vinyk-sd-indian-institute-of-technology-madras/Assignment3_Attempt1</a>"
            ]
          },
          "metadata": {}
        },
        {
          "output_type": "display_data",
          "data": {
            "text/plain": [
              "<IPython.core.display.HTML object>"
            ],
            "text/html": [
              " View sweep at <a href='https://wandb.ai/vinyk-sd-indian-institute-of-technology-madras/Assignment3_Attempt1/sweeps/n6e7axcm' target=\"_blank\">https://wandb.ai/vinyk-sd-indian-institute-of-technology-madras/Assignment3_Attempt1/sweeps/n6e7axcm</a>"
            ]
          },
          "metadata": {}
        },
        {
          "output_type": "display_data",
          "data": {
            "text/plain": [
              "<IPython.core.display.HTML object>"
            ],
            "text/html": [
              " View run at <a href='https://wandb.ai/vinyk-sd-indian-institute-of-technology-madras/Assignment3_Attempt1/runs/t72svme2' target=\"_blank\">https://wandb.ai/vinyk-sd-indian-institute-of-technology-madras/Assignment3_Attempt1/runs/t72svme2</a>"
            ]
          },
          "metadata": {}
        },
        {
          "output_type": "stream",
          "name": "stdout",
          "text": [
            "\n",
            "Final Run Metrics for ed_256_hs_256_enc_1_dec_1_cell_LSTM_drop_0.3:\n",
            "Train Loss: 0.2301 | Train Accuracy: 0.9125\n",
            "Val   Loss: 0.3245 | Val   Accuracy: 0.8950\n",
            "\n"
          ]
        },
        {
          "output_type": "display_data",
          "data": {
            "text/plain": [
              "<IPython.core.display.HTML object>"
            ],
            "text/html": []
          },
          "metadata": {}
        },
        {
          "output_type": "display_data",
          "data": {
            "text/plain": [
              "<IPython.core.display.HTML object>"
            ],
            "text/html": [
              "<br>    <style><br>        .wandb-row {<br>            display: flex;<br>            flex-direction: row;<br>            flex-wrap: wrap;<br>            justify-content: flex-start;<br>            width: 100%;<br>        }<br>        .wandb-col {<br>            display: flex;<br>            flex-direction: column;<br>            flex-basis: 100%;<br>            flex: 1;<br>            padding: 10px;<br>        }<br>    </style><br><div class=\"wandb-row\"><div class=\"wandb-col\"><h3>Run history:</h3><br/><table class=\"wandb\"><tr><td>epoch</td><td>▁▂▃▃▄▅▆▆▇█</td></tr><tr><td>train_accuracy</td><td>▁▆▇▇▇█████</td></tr><tr><td>train_loss</td><td>█▃▂▂▂▁▁▁▁▁</td></tr><tr><td>val_accuracy</td><td>▁▅▆▇▇▇▇███</td></tr><tr><td>val_loss</td><td>█▄▂▂▂▁▁▁▁▁</td></tr></table><br/></div><div class=\"wandb-col\"><h3>Run summary:</h3><br/><table class=\"wandb\"><tr><td>epoch</td><td>9</td></tr><tr><td>train_accuracy</td><td>0.9125</td></tr><tr><td>train_loss</td><td>0.2301</td></tr><tr><td>val_accuracy</td><td>0.89503</td></tr><tr><td>val_loss</td><td>0.32454</td></tr></table><br/></div></div>"
            ]
          },
          "metadata": {}
        },
        {
          "output_type": "display_data",
          "data": {
            "text/plain": [
              "<IPython.core.display.HTML object>"
            ],
            "text/html": [
              " View run <strong style=\"color:#cdcd00\">ed_256_hs_256_enc_1_dec_1_cell_LSTM_drop_0.3</strong> at: <a href='https://wandb.ai/vinyk-sd-indian-institute-of-technology-madras/Assignment3_Attempt1/runs/t72svme2' target=\"_blank\">https://wandb.ai/vinyk-sd-indian-institute-of-technology-madras/Assignment3_Attempt1/runs/t72svme2</a><br> View project at: <a href='https://wandb.ai/vinyk-sd-indian-institute-of-technology-madras/Assignment3_Attempt1' target=\"_blank\">https://wandb.ai/vinyk-sd-indian-institute-of-technology-madras/Assignment3_Attempt1</a><br>Synced 5 W&B file(s), 0 media file(s), 0 artifact file(s) and 0 other file(s)"
            ]
          },
          "metadata": {}
        },
        {
          "output_type": "display_data",
          "data": {
            "text/plain": [
              "<IPython.core.display.HTML object>"
            ],
            "text/html": [
              "Find logs at: <code>./wandb/run-20250519_162334-t72svme2/logs</code>"
            ]
          },
          "metadata": {}
        },
        {
          "output_type": "stream",
          "name": "stderr",
          "text": [
            "\u001b[34m\u001b[1mwandb\u001b[0m: Agent Starting Run: bnisekfv with config:\n",
            "\u001b[34m\u001b[1mwandb\u001b[0m: \tcell_type: RNN\n",
            "\u001b[34m\u001b[1mwandb\u001b[0m: \tdropout: 0.3\n",
            "\u001b[34m\u001b[1mwandb\u001b[0m: \tembedding_size: 32\n",
            "\u001b[34m\u001b[1mwandb\u001b[0m: \thidden_size: 256\n",
            "\u001b[34m\u001b[1mwandb\u001b[0m: \tnum_decoder_layers: 1\n",
            "\u001b[34m\u001b[1mwandb\u001b[0m: \tnum_encoder_layers: 1\n"
          ]
        },
        {
          "output_type": "display_data",
          "data": {
            "text/plain": [
              "<IPython.core.display.HTML object>"
            ],
            "text/html": [
              "Tracking run with wandb version 0.19.11"
            ]
          },
          "metadata": {}
        },
        {
          "output_type": "display_data",
          "data": {
            "text/plain": [
              "<IPython.core.display.HTML object>"
            ],
            "text/html": [
              "Run data is saved locally in <code>/content/wandb/run-20250519_162829-bnisekfv</code>"
            ]
          },
          "metadata": {}
        },
        {
          "output_type": "display_data",
          "data": {
            "text/plain": [
              "<IPython.core.display.HTML object>"
            ],
            "text/html": [
              "Syncing run <strong><a href='https://wandb.ai/vinyk-sd-indian-institute-of-technology-madras/Assignment3_Attempt1/runs/bnisekfv' target=\"_blank\">brisk-sweep-28</a></strong> to <a href='https://wandb.ai/vinyk-sd-indian-institute-of-technology-madras/Assignment3_Attempt1' target=\"_blank\">Weights & Biases</a> (<a href='https://wandb.me/developer-guide' target=\"_blank\">docs</a>)<br>Sweep page: <a href='https://wandb.ai/vinyk-sd-indian-institute-of-technology-madras/Assignment3_Attempt1/sweeps/n6e7axcm' target=\"_blank\">https://wandb.ai/vinyk-sd-indian-institute-of-technology-madras/Assignment3_Attempt1/sweeps/n6e7axcm</a>"
            ]
          },
          "metadata": {}
        },
        {
          "output_type": "display_data",
          "data": {
            "text/plain": [
              "<IPython.core.display.HTML object>"
            ],
            "text/html": [
              " View project at <a href='https://wandb.ai/vinyk-sd-indian-institute-of-technology-madras/Assignment3_Attempt1' target=\"_blank\">https://wandb.ai/vinyk-sd-indian-institute-of-technology-madras/Assignment3_Attempt1</a>"
            ]
          },
          "metadata": {}
        },
        {
          "output_type": "display_data",
          "data": {
            "text/plain": [
              "<IPython.core.display.HTML object>"
            ],
            "text/html": [
              " View sweep at <a href='https://wandb.ai/vinyk-sd-indian-institute-of-technology-madras/Assignment3_Attempt1/sweeps/n6e7axcm' target=\"_blank\">https://wandb.ai/vinyk-sd-indian-institute-of-technology-madras/Assignment3_Attempt1/sweeps/n6e7axcm</a>"
            ]
          },
          "metadata": {}
        },
        {
          "output_type": "display_data",
          "data": {
            "text/plain": [
              "<IPython.core.display.HTML object>"
            ],
            "text/html": [
              " View run at <a href='https://wandb.ai/vinyk-sd-indian-institute-of-technology-madras/Assignment3_Attempt1/runs/bnisekfv' target=\"_blank\">https://wandb.ai/vinyk-sd-indian-institute-of-technology-madras/Assignment3_Attempt1/runs/bnisekfv</a>"
            ]
          },
          "metadata": {}
        }
      ]
    }
  ]
}