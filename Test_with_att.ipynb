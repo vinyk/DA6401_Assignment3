{
  "nbformat": 4,
  "nbformat_minor": 0,
  "metadata": {
    "colab": {
      "provenance": [],
      "gpuType": "T4"
    },
    "kernelspec": {
      "name": "python3",
      "display_name": "Python 3"
    },
    "language_info": {
      "name": "python"
    },
    "accelerator": "GPU"
  },
  "cells": [
    {
      "cell_type": "code",
      "execution_count": 2,
      "metadata": {
        "id": "IAn1lpqTpHdA"
      },
      "outputs": [],
      "source": [
        "# Copy dataset from Drive to local content directory\n",
        "!cp -r /content/drive/MyDrive/dakshina_dataset_v1.0 /content/"
      ]
    },
    {
      "cell_type": "code",
      "source": [
        "from google.colab import drive\n",
        "drive.mount('/content/drive')"
      ],
      "metadata": {
        "colab": {
          "base_uri": "https://localhost:8080/"
        },
        "id": "jHlLGc-t3M_e",
        "outputId": "23528525-07ca-4398-d0ab-9181be6de1f9"
      },
      "execution_count": 1,
      "outputs": [
        {
          "output_type": "stream",
          "name": "stdout",
          "text": [
            "Mounted at /content/drive\n"
          ]
        }
      ]
    },
    {
      "cell_type": "code",
      "source": [
        "import torch\n",
        "import torch.nn as nn\n",
        "import torch.optim as optim\n",
        "import random\n",
        "import pandas as pd\n",
        "import numpy as np\n",
        "import wandb\n",
        "import os\n",
        "from torch.nn.utils.rnn import pad_sequence\n",
        "from torch.utils.data import DataLoader, Dataset\n",
        "\n",
        "device = torch.device('cuda' if torch.cuda.is_available() else 'cpu')\n",
        "print(\"Using device:\", device)"
      ],
      "metadata": {
        "colab": {
          "base_uri": "https://localhost:8080/"
        },
        "id": "dTaP7eX8pUMB",
        "outputId": "62aef3fb-385c-4380-de4b-7bc0d97f08af"
      },
      "execution_count": 3,
      "outputs": [
        {
          "output_type": "stream",
          "name": "stdout",
          "text": [
            "Using device: cuda\n"
          ]
        }
      ]
    },
    {
      "cell_type": "code",
      "source": [
        "# Choose your language\n",
        "LANG = 'hi'  # Hindi\n",
        "DATA_DIR = f'/content/dakshina_dataset_v1.0/{LANG}/lexicons/'\n",
        "\n",
        "def load_data(file_path):\n",
        "    with open(file_path, 'r', encoding='utf-8') as f:\n",
        "        lines = f.readlines()\n",
        "    input_texts, target_texts = [], []\n",
        "    for line in lines:\n",
        "        latin, devanagari = line.strip().split('\\t')[:2]\n",
        "        input_texts.append(list(latin.lower()))\n",
        "        target_texts.append(['<sos>'] + list(devanagari) + ['<eos>'])\n",
        "    return input_texts, target_texts\n",
        "\n",
        "train_x, train_y = load_data(os.path.join(DATA_DIR, 'hi.translit.sampled.train.tsv'))\n",
        "val_x, val_y = load_data(os.path.join(DATA_DIR, 'hi.translit.sampled.dev.tsv'))\n",
        "test_x, test_y = load_data(os.path.join(DATA_DIR, 'hi.translit.sampled.test.tsv'))\n",
        "\n",
        "# Create vocab\n",
        "def build_vocab(seqs):\n",
        "    vocab = {'<pad>': 0, '<sos>': 1, '<eos>': 2}\n",
        "    for seq in seqs:\n",
        "        for ch in seq:\n",
        "            if ch not in vocab:\n",
        "                vocab[ch] = len(vocab)\n",
        "    return vocab\n",
        "\n",
        "src_vocab = build_vocab(train_x)\n",
        "tgt_vocab = build_vocab(train_y)\n",
        "\n",
        "inv_tgt_vocab = {v: k for k, v in tgt_vocab.items()}\n",
        "# Special token indices\n",
        "PAD_IDX = tgt_vocab['<pad>']\n",
        "SOS_IDX = tgt_vocab['<sos>']\n",
        "EOS_IDX = tgt_vocab['<eos>']"
      ],
      "metadata": {
        "id": "VvAh-c8SqkmC"
      },
      "execution_count": 4,
      "outputs": []
    },
    {
      "cell_type": "code",
      "source": [
        "src_vocab"
      ],
      "metadata": {
        "colab": {
          "base_uri": "https://localhost:8080/"
        },
        "id": "BhoD8vbTzUQt",
        "outputId": "d4edb4a3-e381-4d9d-b834-4764429c9ae0"
      },
      "execution_count": 5,
      "outputs": [
        {
          "output_type": "execute_result",
          "data": {
            "text/plain": [
              "{'<pad>': 0,\n",
              " '<sos>': 1,\n",
              " '<eos>': 2,\n",
              " 'a': 3,\n",
              " 'n': 4,\n",
              " 'k': 5,\n",
              " 'g': 6,\n",
              " 'i': 7,\n",
              " 't': 8,\n",
              " 'u': 9,\n",
              " 'c': 10,\n",
              " 'l': 11,\n",
              " 'e': 12,\n",
              " 'r': 13,\n",
              " 's': 14,\n",
              " 'h': 15,\n",
              " 'd': 16,\n",
              " 'b': 17,\n",
              " 'y': 18,\n",
              " 'o': 19,\n",
              " 'j': 20,\n",
              " 'z': 21,\n",
              " 'm': 22,\n",
              " 'v': 23,\n",
              " 'w': 24,\n",
              " 'p': 25,\n",
              " 'f': 26,\n",
              " 'x': 27,\n",
              " 'q': 28}"
            ]
          },
          "metadata": {},
          "execution_count": 5
        }
      ]
    },
    {
      "cell_type": "code",
      "source": [
        "tgt_vocab"
      ],
      "metadata": {
        "colab": {
          "base_uri": "https://localhost:8080/"
        },
        "id": "ioTITiDyzV44",
        "outputId": "52e59f2e-1e39-4449-bce7-c86a4cd7c050"
      },
      "execution_count": 6,
      "outputs": [
        {
          "output_type": "execute_result",
          "data": {
            "text/plain": [
              "{'<pad>': 0,\n",
              " '<sos>': 1,\n",
              " '<eos>': 2,\n",
              " 'अ': 3,\n",
              " 'ं': 4,\n",
              " 'क': 5,\n",
              " 'ग': 6,\n",
              " 'ण': 7,\n",
              " 'ि': 8,\n",
              " 'त': 9,\n",
              " 'ल': 10,\n",
              " 'ु': 11,\n",
              " 'र': 12,\n",
              " 'श': 13,\n",
              " 'द': 14,\n",
              " 'न': 15,\n",
              " 'े': 16,\n",
              " 'भ': 17,\n",
              " '्': 18,\n",
              " 'ष': 19,\n",
              " 'ा': 20,\n",
              " 'ी': 21,\n",
              " 'ठ': 22,\n",
              " 'य': 23,\n",
              " 'ो': 24,\n",
              " 'ू': 25,\n",
              " 'ज': 26,\n",
              " 'च': 27,\n",
              " 'म': 28,\n",
              " 'ट': 29,\n",
              " 'ड': 30,\n",
              " 'व': 31,\n",
              " 'ः': 32,\n",
              " 'ह': 33,\n",
              " 'प': 34,\n",
              " 'ृ': 35,\n",
              " 'स': 36,\n",
              " 'ध': 37,\n",
              " 'ै': 38,\n",
              " '़': 39,\n",
              " 'ब': 40,\n",
              " 'उ': 41,\n",
              " 'ॉ': 42,\n",
              " 'ई': 43,\n",
              " 'ख': 44,\n",
              " 'घ': 45,\n",
              " 'छ': 46,\n",
              " 'ञ': 47,\n",
              " 'फ': 48,\n",
              " 'ओ': 49,\n",
              " 'थ': 50,\n",
              " 'ढ': 51,\n",
              " 'झ': 52,\n",
              " 'ौ': 53,\n",
              " 'आ': 54,\n",
              " 'इ': 55,\n",
              " 'ँ': 56,\n",
              " 'ए': 57,\n",
              " 'ऊ': 58,\n",
              " 'ॅ': 59,\n",
              " 'ऋ': 60,\n",
              " 'ऑ': 61,\n",
              " 'ऐ': 62,\n",
              " 'औ': 63,\n",
              " 'ङ': 64,\n",
              " 'ॐ': 65}"
            ]
          },
          "metadata": {},
          "execution_count": 6
        }
      ]
    },
    {
      "cell_type": "code",
      "source": [
        "class TransliterationDataset(Dataset):\n",
        "    def __init__(self, src_data, tgt_data, src_vocab, tgt_vocab):\n",
        "        self.src_data = src_data\n",
        "        self.tgt_data = tgt_data\n",
        "        self.src_vocab = src_vocab\n",
        "        self.tgt_vocab = tgt_vocab\n",
        "\n",
        "    def __len__(self):\n",
        "        return len(self.src_data)\n",
        "\n",
        "    def __getitem__(self, idx):\n",
        "        src_seq = [self.src_vocab[ch] for ch in self.src_data[idx]]\n",
        "        tgt_seq = [self.tgt_vocab[ch] for ch in self.tgt_data[idx]]\n",
        "        return torch.tensor(src_seq), torch.tensor(tgt_seq)\n",
        "\n",
        "def collate_fn(batch):\n",
        "    src_batch, tgt_batch = zip(*batch)\n",
        "    src_lens = torch.tensor([len(s) for s in src_batch])\n",
        "    tgt_lens = torch.tensor([len(t) for t in tgt_batch])\n",
        "    src_batch = pad_sequence(src_batch, padding_value=0, batch_first=True)\n",
        "    tgt_batch = pad_sequence(tgt_batch, padding_value=0, batch_first=True)\n",
        "    return src_batch, tgt_batch, src_lens, tgt_lens\n",
        "\n",
        "BATCH_SIZE = 64\n",
        "train_dataset = TransliterationDataset(train_x, train_y, src_vocab, tgt_vocab)\n",
        "train_loader = DataLoader(train_dataset, batch_size=BATCH_SIZE, shuffle=True, collate_fn=collate_fn)\n",
        "val_dataset = TransliterationDataset(val_x, val_y, src_vocab, tgt_vocab)\n",
        "val_loader = DataLoader(val_dataset, batch_size=BATCH_SIZE, shuffle=False, collate_fn=collate_fn)\n",
        "# Prepare test loader\n",
        "test_dataset = TransliterationDataset(test_x, test_y, src_vocab, tgt_vocab)\n",
        "test_loader = DataLoader(test_dataset, batch_size=1, shuffle=False, collate_fn=collate_fn)"
      ],
      "metadata": {
        "id": "YsmmWqrszYFJ"
      },
      "execution_count": 7,
      "outputs": []
    },
    {
      "cell_type": "code",
      "source": [
        "import torch.nn.functional as F\n",
        "\n",
        "class Attention(nn.Module):\n",
        "    def __init__(self, hidden_size):\n",
        "        super().__init__()\n",
        "        self.attn = nn.Linear(hidden_size * 2, hidden_size)\n",
        "        self.v = nn.Parameter(torch.rand(hidden_size))  # [H]\n",
        "\n",
        "    def forward(self, hidden, encoder_outputs):\n",
        "        # hidden: [B, H]\n",
        "        # encoder_outputs: [B, T, H]\n",
        "        B, T, H = encoder_outputs.shape\n",
        "\n",
        "        # Repeat hidden across the time steps\n",
        "        hidden = hidden.unsqueeze(1).repeat(1, T, 1)  # [B, T, H]\n",
        "\n",
        "        # Concatenate hidden and encoder_outputs → compute energy\n",
        "        energy = torch.tanh(self.attn(torch.cat((hidden, encoder_outputs), dim=2)))  # [B, T, H]\n",
        "\n",
        "        # Expand `v` for batch matrix multiplication\n",
        "        v = self.v.unsqueeze(0).unsqueeze(2).expand(B, -1, -1)  # [B, H, 1]\n",
        "\n",
        "        # Compute attention scores\n",
        "        scores = torch.bmm(energy, v).squeeze(2)  # [B, T]\n",
        "\n",
        "        # Softmax over time dimension to get attention weights\n",
        "        attn_weights = F.softmax(scores, dim=1)  # [B, T]\n",
        "\n",
        "        # Compute context vector as weighted sum of encoder outputs\n",
        "        context = torch.bmm(attn_weights.unsqueeze(1), encoder_outputs).squeeze(1)  # [B, H]\n",
        "\n",
        "        return context, attn_weights"
      ],
      "metadata": {
        "id": "qtkyzTYozbGD"
      },
      "execution_count": 8,
      "outputs": []
    },
    {
      "cell_type": "code",
      "source": [
        "class Seq2Seq(nn.Module):\n",
        "    def __init__(self, config):\n",
        "        super().__init__()\n",
        "        self.encoder_embed = nn.Embedding(config['src_vocab_size'], config['embedding_size'])\n",
        "        self.decoder_embed = nn.Embedding(config['tgt_vocab_size'], config['embedding_size'])\n",
        "\n",
        "        cell_type = config['cell_type']\n",
        "        cell = {'RNN': nn.RNN, 'GRU': nn.GRU, 'LSTM': nn.LSTM}[cell_type]\n",
        "        self.cell_type = cell_type\n",
        "        self.config = config\n",
        "        hidden_size = config['hidden_size']\n",
        "        embed_size = config['embedding_size']\n",
        "\n",
        "        self.encoder = cell(embed_size, hidden_size, config['num_encoder_layers'],\n",
        "                            batch_first=True, dropout=config['dropout'] if config['num_encoder_layers'] > 1 else 0)\n",
        "\n",
        "        self.decoder = cell(embed_size + hidden_size, hidden_size, config['num_decoder_layers'],\n",
        "                            batch_first=False, dropout=config['dropout'] if config['num_decoder_layers'] > 1 else 0)\n",
        "\n",
        "        self.attn = Attention(hidden_size)\n",
        "        self.fc = nn.Linear(hidden_size * 2, config['tgt_vocab_size'])\n",
        "\n",
        "    def forward(self, src, tgt, src_len, tgt_len):\n",
        "        batch_size, tgt_len = tgt.shape\n",
        "        device = src.device\n",
        "        hidden_size = self.config['hidden_size']\n",
        "        trg_vocab_size = self.config['tgt_vocab_size']\n",
        "\n",
        "        src_embed = self.encoder_embed(src)  # [B, T_src, E]\n",
        "        tgt_embed = self.decoder_embed(tgt[:, :-1])  # [B, T_tgt-1, E]\n",
        "\n",
        "        encoder_outputs, h = self.encoder(src_embed)  # [B, T_src, H]\n",
        "\n",
        "        if self.cell_type == 'LSTM':\n",
        "            h_t, c_t = h\n",
        "        else:\n",
        "            h_t = h\n",
        "\n",
        "        outputs = torch.zeros(batch_size, tgt_embed.size(1), trg_vocab_size).to(device)\n",
        "        all_attn_weights = []\n",
        "\n",
        "        for t in range(tgt_embed.size(1)):\n",
        "            input_embed = tgt_embed[:, t]  # [B, E]\n",
        "            h_cur = h_t[-1] if self.cell_type == 'LSTM' else h_t[-1]  # [B, H]\n",
        "            context, attn_weights = self.attn(h_cur, encoder_outputs)  # [B, H], [B, T_src]\n",
        "            all_attn_weights.append(attn_weights)\n",
        "\n",
        "            decoder_input = torch.cat([input_embed, context], dim=1).unsqueeze(0)  # [1, B, E+H]\n",
        "\n",
        "            if self.cell_type == 'LSTM':\n",
        "                out, (h_t, c_t) = self.decoder(decoder_input, (h_t, c_t))\n",
        "            else:\n",
        "                out, h_t = self.decoder(decoder_input, h_t)\n",
        "\n",
        "            out = out.squeeze(0)  # [B, H]\n",
        "            final_out = self.fc(torch.cat((out, context), dim=1))  # [B, V]\n",
        "            outputs[:, t] = final_out\n",
        "\n",
        "        attn_tensor = torch.stack(all_attn_weights, dim=0)  # [T_tgt-1, B, T_src]\n",
        "        return outputs, attn_tensor\n",
        "\n",
        "    def beam_search_decode(self, src, src_len, beam_size, sos_idx, eos_idx, device, return_attn=False):\n",
        "        # Encode the source\n",
        "        encoder_outputs, h = self.encoder(self.encoder_embed(src))  # [B, T_src, H]\n",
        "\n",
        "        if self.cell_type == 'LSTM':\n",
        "            h_t, c_t = h\n",
        "        else:\n",
        "            h_t = h\n",
        "\n",
        "        B = src.size(0)\n",
        "        assert B == 1, \"Beam search only supports batch size 1 for simplicity\"\n",
        "\n",
        "        # Initialize beams\n",
        "        beams = [(torch.tensor([sos_idx], device=device), 0.0, h_t, c_t if self.cell_type == 'LSTM' else None, [])]\n",
        "\n",
        "        for _ in range(50):  # max length\n",
        "            new_beams = []\n",
        "            for seq, score, h_t, c_t, attn_list in beams:\n",
        "                if seq[-1] == eos_idx:\n",
        "                    new_beams.append((seq, score, h_t, c_t, attn_list))\n",
        "                    continue\n",
        "\n",
        "                input_embed = self.decoder_embed(seq[-1].unsqueeze(0)).unsqueeze(0)  # [1, 1, E]\n",
        "                h_cur = h_t[-1] if self.cell_type == 'LSTM' else h_t[-1]  # [1, H]\n",
        "\n",
        "                context, attn_weights = self.attn(h_cur, encoder_outputs)  # [1, H], [1, T_src]\n",
        "\n",
        "                decoder_input = torch.cat([input_embed.squeeze(0), context], dim=1).unsqueeze(0)\n",
        "\n",
        "                if self.cell_type == 'LSTM':\n",
        "                    out, (new_h, new_c) = self.decoder(decoder_input, (h_t, c_t))\n",
        "                else:\n",
        "                    out, new_h = self.decoder(decoder_input, h_t)\n",
        "\n",
        "                out = out.squeeze(0)  # [1, H]\n",
        "                final_out = self.fc(torch.cat((out, context), dim=1))  # [1, V]\n",
        "                log_probs = torch.log_softmax(final_out, dim=1)  # [1, V]\n",
        "                topk_log_probs, topk_indices = torch.topk(log_probs, beam_size, dim=1)\n",
        "\n",
        "                for i in range(beam_size):\n",
        "                    new_seq = torch.cat([seq, topk_indices[0][i].unsqueeze(0)], dim=0)\n",
        "                    new_score = score + topk_log_probs[0][i].item()\n",
        "                    new_attn_list = attn_list + [attn_weights[0].detach().cpu().tolist()]\n",
        "                    new_beams.append((new_seq, new_score, new_h, new_c if self.cell_type == 'LSTM' else None, new_attn_list))\n",
        "\n",
        "            beams = sorted(new_beams, key=lambda x: x[1], reverse=True)[:beam_size]\n",
        "\n",
        "            # Early stop if all sequences ended\n",
        "            if all(seq[-1] == eos_idx for seq, _, _, _, _ in beams):\n",
        "                break\n",
        "\n",
        "        best_seq, best_score, _, _, best_attn = beams[0]\n",
        "        if return_attn:\n",
        "            return best_seq.tolist(), best_attn  # return both sequence and attention weights\n",
        "        else:\n",
        "            return best_seq.tolist()"
      ],
      "metadata": {
        "id": "5x-je6y0zeHR"
      },
      "execution_count": 9,
      "outputs": []
    },
    {
      "cell_type": "code",
      "source": [
        "best_config = {\n",
        "    'embedding_size': 256,\n",
        "    'hidden_size': 256,\n",
        "    'num_encoder_layers': 1,\n",
        "    'num_decoder_layers': 1,\n",
        "    'cell_type': 'LSTM',\n",
        "    'dropout': 0.3,\n",
        "    'src_vocab_size': len(src_vocab),\n",
        "    'tgt_vocab_size': len(tgt_vocab),\n",
        "}"
      ],
      "metadata": {
        "id": "IsamF9_nzhBd"
      },
      "execution_count": 10,
      "outputs": []
    },
    {
      "cell_type": "markdown",
      "source": [
        "## Testing the model\n",
        "\n",
        "Once the best_config parameters are available, the model is tested with the test dataset."
      ],
      "metadata": {
        "id": "VSOtLegxCvcf"
      }
    },
    {
      "cell_type": "code",
      "source": [
        "model = Seq2Seq(best_config).to(device)\n",
        "optimizer = torch.optim.Adam(model.parameters(), lr=1e-3)\n",
        "PAD_IDX = 0\n",
        "criterion = nn.CrossEntropyLoss(ignore_index=PAD_IDX)\n",
        "\n",
        "num_epochs = 10\n",
        "\n",
        "for epoch in range(num_epochs):\n",
        "    model.train()\n",
        "    total_loss = 0\n",
        "    total_tokens = 0\n",
        "    correct_tokens = 0\n",
        "\n",
        "    for src, tgt, src_len, tgt_len in train_loader:\n",
        "        src, tgt = src.to(device), tgt.to(device)\n",
        "        optimizer.zero_grad()\n",
        "\n",
        "        # Forward pass\n",
        "        output, _ = model(src, tgt, src_len, tgt_len)  # <-- Unpack the tuple\n",
        "        output = output.reshape(-1, output.shape[-1])  # (batch * tgt_len-1, vocab_size)\n",
        "        target = tgt[:, 1:].reshape(-1)  # remove SOS, (batch * tgt_len-1)\n",
        "\n",
        "        loss = criterion(output, target)\n",
        "        loss.backward()\n",
        "        optimizer.step()\n",
        "\n",
        "        total_loss += loss.item()\n",
        "\n",
        "        # Accuracy computation (ignore PAD)\n",
        "        pred_tokens = output.argmax(dim=-1)  # (batch * tgt_len-1)\n",
        "        mask = target != PAD_IDX\n",
        "        correct = (pred_tokens == target) & mask\n",
        "\n",
        "        correct_tokens += correct.sum().item()\n",
        "        total_tokens += mask.sum().item()\n",
        "\n",
        "    avg_loss = total_loss / len(train_loader)\n",
        "    accuracy = correct_tokens / total_tokens * 100\n",
        "\n",
        "    print(f\"Epoch {epoch+1}: Train Loss = {avg_loss:.4f}, Train Accuracy = {accuracy:.2f}%\")\n",
        "\n",
        "torch.save(model.state_dict(), \"best_model_Att.pth\")"
      ],
      "metadata": {
        "id": "sd-Ln-bgzktP"
      },
      "execution_count": null,
      "outputs": []
    },
    {
      "cell_type": "code",
      "source": [
        "model = Seq2Seq(best_config).to(device)\n",
        "model.load_state_dict(torch.load(\"best_model_Att.pth\"))\n",
        "model.eval()"
      ],
      "metadata": {
        "id": "lXCqFK69znRJ",
        "colab": {
          "base_uri": "https://localhost:8080/"
        },
        "outputId": "de7b4ad4-3f37-4761-bcf3-6e82764bd36e"
      },
      "execution_count": 12,
      "outputs": [
        {
          "output_type": "execute_result",
          "data": {
            "text/plain": [
              "Seq2Seq(\n",
              "  (encoder_embed): Embedding(29, 256)\n",
              "  (decoder_embed): Embedding(66, 256)\n",
              "  (encoder): LSTM(256, 256, batch_first=True)\n",
              "  (decoder): LSTM(512, 256)\n",
              "  (attn): Attention(\n",
              "    (attn): Linear(in_features=512, out_features=256, bias=True)\n",
              "  )\n",
              "  (fc): Linear(in_features=512, out_features=66, bias=True)\n",
              ")"
            ]
          },
          "metadata": {},
          "execution_count": 12
        }
      ]
    },
    {
      "cell_type": "code",
      "source": [
        "inv_src_vocab = {v: k for k, v in src_vocab.items()} # After the model generates a prediction we need to convert those back to characters to read them as actual text.\n",
        "inv_tgt_vocab = {v: k for k, v in tgt_vocab.items()}"
      ],
      "metadata": {
        "id": "mJxc6ywL4mQJ"
      },
      "execution_count": 13,
      "outputs": []
    },
    {
      "cell_type": "markdown",
      "source": [
        "Model Testing\n",
        "\n",
        "Once we get a trained model, the attention weights for the inputs are saved in a json file, the predictions are saved in a csv file, and the accuracies are tested for different beam sizes."
      ],
      "metadata": {
        "id": "xTXlVw4FEQQE"
      }
    },
    {
      "cell_type": "code",
      "source": [
        "import json\n",
        "def save_attention(model, loader, beam_size, sos_idx, eos_idx, output_json='attention.json'):\n",
        "    all_data = []\n",
        "\n",
        "    for i, (src, tgt, src_len, tgt_len) in enumerate(loader):\n",
        "        src = src.to(device)\n",
        "        pred_ids, attn_weights = model.beam_search_decode(src, src_len, beam_size, sos_idx, eos_idx, device, return_attn=True)\n",
        "\n",
        "        input_tokens = [inv_src_vocab[idx.item()] for idx in src[0]]\n",
        "        output_tokens = [inv_tgt_vocab[i] for i in pred_ids if i not in [sos_idx, eos_idx, PAD_IDX]]\n",
        "\n",
        "        attn_matrix = attn_weights[:len(output_tokens)]  # [T_out][T_in]\n",
        "\n",
        "        data = {\n",
        "            'input': input_tokens,\n",
        "            'output': output_tokens,\n",
        "            'attention': attn_matrix  # List[List[float]]\n",
        "        }\n",
        "\n",
        "        all_data.append(data)\n",
        "\n",
        "    with open(output_json, 'w') as f:\n",
        "        json.dump(all_data, f, indent=2)"
      ],
      "metadata": {
        "id": "PF7fm6Jr41Cz"
      },
      "execution_count": 14,
      "outputs": []
    },
    {
      "cell_type": "code",
      "source": [
        "def evaluate_beam(model, loader, beam_size, sos_idx, eos_idx):\n",
        "    correct = 0\n",
        "    total = 0\n",
        "    for src, tgt, src_len, tgt_len in loader:\n",
        "        src = src.to(device)\n",
        "        pred_ids = model.beam_search_decode(src, src_len, beam_size, sos_idx, eos_idx, device=device)\n",
        "        pred_str = ''.join([inv_tgt_vocab[i] for i in pred_ids if i not in [sos_idx, eos_idx, PAD_IDX]])\n",
        "        tgt_str = ''.join([inv_tgt_vocab[i.item()] for i in tgt[0][1:tgt_len.item()-1]])\n",
        "\n",
        "        if pred_str == tgt_str:\n",
        "            correct += 1\n",
        "        total += 1\n",
        "    return correct / total"
      ],
      "metadata": {
        "id": "wuFOgB_d44f3"
      },
      "execution_count": 15,
      "outputs": []
    },
    {
      "cell_type": "code",
      "source": [
        "def save_all_predictions(model, loader, beam_size, sos_idx, eos_idx, file_path):\n",
        "    predictions = []\n",
        "\n",
        "    for src, tgt, src_len, tgt_len in loader:\n",
        "        src = src.to(device)\n",
        "        pred_ids = model.beam_search_decode(src, src_len, beam_size=beam_size, sos_idx=sos_idx, eos_idx=eos_idx, device=device)\n",
        "        pred_str = ''.join([inv_tgt_vocab[i] for i in pred_ids if i not in [sos_idx, eos_idx, PAD_IDX]])\n",
        "        tgt_str = ''.join([inv_tgt_vocab[i.item()] for i in tgt[0][1:tgt_len.item()-1]])\n",
        "        src_str = ''.join([inv_src_vocab[i.item()] for i in src[0] if i.item() not in [sos_idx, eos_idx, PAD_IDX]])\n",
        "\n",
        "        predictions.append({'Input': src_str, 'Target': tgt_str, 'Prediction': pred_str})\n",
        "\n",
        "    df = pd.DataFrame(predictions)\n",
        "    df.to_csv(file_path, index=False)"
      ],
      "metadata": {
        "id": "JGRXvguM47w-"
      },
      "execution_count": 16,
      "outputs": []
    },
    {
      "cell_type": "code",
      "source": [
        "def run_full_evaluation(model, test_loader, beam_sizes, sos_idx, eos_idx):\n",
        "    os.makedirs(\"predictions_vanilla\", exist_ok=True)\n",
        "    results = []\n",
        "\n",
        "    for b in beam_sizes:\n",
        "        acc = evaluate_beam(model, test_loader, beam_size=b, sos_idx=sos_idx, eos_idx=eos_idx)\n",
        "        results.append({'Beam Size': b, 'Accuracy': f\"{acc*100:.2f}%\"})\n",
        "        print(f\"Beam size {b} → Test Accuracy: {acc*100:.2f}%\")\n",
        "\n",
        "        pred_path = f'predictions_vanilla/predictions_beam{b}.csv'\n",
        "        save_all_predictions(model, test_loader, b, sos_idx, eos_idx, pred_path)\n",
        "\n",
        "    #Save attention for the best beam\n",
        "    best_beam = max(beam_sizes)\n",
        "    save_attention(model, test_loader, beam_size=best_beam, sos_idx=sos_idx, eos_idx=eos_idx,\n",
        "                   output_json=f\"attn_viz_data_beam{best_beam}.json\")\n",
        "\n",
        "    df = pd.DataFrame(results)\n",
        "    df.to_csv(\"beam_accuracy.csv\", index=False)\n"
      ],
      "metadata": {
        "id": "h7fek0tN5AFR"
      },
      "execution_count": 18,
      "outputs": []
    },
    {
      "cell_type": "code",
      "source": [
        "run_full_evaluation(model, test_loader, beam_sizes=[1, 3, 5], sos_idx=SOS_IDX, eos_idx=EOS_IDX)"
      ],
      "metadata": {
        "colab": {
          "base_uri": "https://localhost:8080/"
        },
        "id": "17cX3tv25J7L",
        "outputId": "3ccd13fd-a1f9-40d2-d99b-c3df8c00d049"
      },
      "execution_count": 19,
      "outputs": [
        {
          "output_type": "stream",
          "name": "stdout",
          "text": [
            "Beam size 1 → Test Accuracy: 21.12%\n",
            "Beam size 3 → Test Accuracy: 22.72%\n",
            "Beam size 5 → Test Accuracy: 22.86%\n"
          ]
        }
      ]
    },
    {
      "cell_type": "markdown",
      "source": [
        "## Attention Heatmap"
      ],
      "metadata": {
        "id": "AfNX3EX2E9S-"
      }
    },
    {
      "cell_type": "code",
      "source": [
        "import json\n",
        "import numpy as np\n",
        "import matplotlib.pyplot as plt\n",
        "import seaborn as sns\n",
        "\n",
        "# Load the JSON file\n",
        "with open(\"/content/attention.json\", \"r\") as f:\n",
        "    data = json.load(f)\n",
        "\n",
        "# Set up the 3x3 grid\n",
        "fig, axes = plt.subplots(3, 3, figsize=(15, 15))\n",
        "\n",
        "for i, ax in enumerate(axes.flat):\n",
        "    if i >= len(data):\n",
        "        ax.axis(\"off\")\n",
        "        continue\n",
        "\n",
        "    sample = data[i]\n",
        "    attention = np.array(sample[\"attention\"])\n",
        "    input_tokens = sample[\"input\"]\n",
        "    output_tokens = sample[\"output\"]\n",
        "\n",
        "    sns.heatmap(attention, ax=ax, cmap=\"viridis\", xticklabels=input_tokens, yticklabels=output_tokens, cbar=False)\n",
        "\n",
        "    ax.set_title(f\"Sample {i+1}\")\n",
        "    ax.set_xlabel(\"Input Tokens\")\n",
        "    ax.set_ylabel(\"Output Tokens\")\n",
        "    ax.tick_params(axis='x', rotation=45)\n",
        "    ax.tick_params(axis='y', rotation=0)\n",
        "\n",
        "plt.tight_layout()\n",
        "plt.show()"
      ],
      "metadata": {
        "colab": {
          "base_uri": "https://localhost:8080/",
          "height": 1000
        },
        "id": "SnrEL8JM5OT0",
        "outputId": "f94d6bd4-1385-4bcc-8c51-d08ac125e247"
      },
      "execution_count": 20,
      "outputs": [
        {
          "output_type": "stream",
          "name": "stderr",
          "text": [
            "/usr/local/lib/python3.11/dist-packages/seaborn/utils.py:61: UserWarning: Glyph 2325 (\\N{DEVANAGARI LETTER KA}) missing from font(s) DejaVu Sans.\n",
            "  fig.canvas.draw()\n",
            "/usr/local/lib/python3.11/dist-packages/seaborn/utils.py:61: UserWarning: Matplotlib currently does not support Devanagari natively.\n",
            "  fig.canvas.draw()\n",
            "/usr/local/lib/python3.11/dist-packages/seaborn/utils.py:61: UserWarning: Glyph 2344 (\\N{DEVANAGARI LETTER NA}) missing from font(s) DejaVu Sans.\n",
            "  fig.canvas.draw()\n",
            "/usr/local/lib/python3.11/dist-packages/seaborn/utils.py:61: UserWarning: Glyph 2306 (\\N{DEVANAGARI SIGN ANUSVARA}) missing from font(s) DejaVu Sans.\n",
            "  fig.canvas.draw()\n",
            "/usr/local/lib/python3.11/dist-packages/seaborn/utils.py:61: UserWarning: Glyph 2325 (\\N{DEVANAGARI LETTER KA}) missing from font(s) DejaVu Sans.\n",
            "  fig.canvas.draw()\n",
            "/usr/local/lib/python3.11/dist-packages/seaborn/utils.py:61: UserWarning: Matplotlib currently does not support Devanagari natively.\n",
            "  fig.canvas.draw()\n",
            "/usr/local/lib/python3.11/dist-packages/seaborn/utils.py:61: UserWarning: Glyph 2344 (\\N{DEVANAGARI LETTER NA}) missing from font(s) DejaVu Sans.\n",
            "  fig.canvas.draw()\n",
            "/usr/local/lib/python3.11/dist-packages/seaborn/utils.py:61: UserWarning: Glyph 2306 (\\N{DEVANAGARI SIGN ANUSVARA}) missing from font(s) DejaVu Sans.\n",
            "  fig.canvas.draw()\n",
            "/usr/local/lib/python3.11/dist-packages/seaborn/utils.py:61: UserWarning: Glyph 2366 (\\N{DEVANAGARI VOWEL SIGN AA}) missing from font(s) DejaVu Sans.\n",
            "  fig.canvas.draw()\n",
            "/usr/local/lib/python3.11/dist-packages/seaborn/utils.py:61: UserWarning: Glyph 2325 (\\N{DEVANAGARI LETTER KA}) missing from font(s) DejaVu Sans.\n",
            "  fig.canvas.draw()\n",
            "/usr/local/lib/python3.11/dist-packages/seaborn/utils.py:61: UserWarning: Matplotlib currently does not support Devanagari natively.\n",
            "  fig.canvas.draw()\n",
            "/usr/local/lib/python3.11/dist-packages/seaborn/utils.py:61: UserWarning: Glyph 2344 (\\N{DEVANAGARI LETTER NA}) missing from font(s) DejaVu Sans.\n",
            "  fig.canvas.draw()\n",
            "/usr/local/lib/python3.11/dist-packages/seaborn/utils.py:61: UserWarning: Glyph 2306 (\\N{DEVANAGARI SIGN ANUSVARA}) missing from font(s) DejaVu Sans.\n",
            "  fig.canvas.draw()\n",
            "/usr/local/lib/python3.11/dist-packages/seaborn/utils.py:61: UserWarning: Glyph 2366 (\\N{DEVANAGARI VOWEL SIGN AA}) missing from font(s) DejaVu Sans.\n",
            "  fig.canvas.draw()\n",
            "/usr/local/lib/python3.11/dist-packages/seaborn/utils.py:61: UserWarning: Glyph 2368 (\\N{DEVANAGARI VOWEL SIGN II}) missing from font(s) DejaVu Sans.\n",
            "  fig.canvas.draw()\n",
            "/usr/local/lib/python3.11/dist-packages/seaborn/utils.py:61: UserWarning: Glyph 2340 (\\N{DEVANAGARI LETTER TA}) missing from font(s) DejaVu Sans.\n",
            "  fig.canvas.draw()\n",
            "/usr/local/lib/python3.11/dist-packages/seaborn/utils.py:61: UserWarning: Glyph 2367 (\\N{DEVANAGARI VOWEL SIGN I}) missing from font(s) DejaVu Sans.\n",
            "  fig.canvas.draw()\n",
            "/usr/local/lib/python3.11/dist-packages/seaborn/utils.py:61: UserWarning: Glyph 2325 (\\N{DEVANAGARI LETTER KA}) missing from font(s) DejaVu Sans.\n",
            "  fig.canvas.draw()\n",
            "/usr/local/lib/python3.11/dist-packages/seaborn/utils.py:61: UserWarning: Matplotlib currently does not support Devanagari natively.\n",
            "  fig.canvas.draw()\n",
            "/usr/local/lib/python3.11/dist-packages/seaborn/utils.py:61: UserWarning: Glyph 2344 (\\N{DEVANAGARI LETTER NA}) missing from font(s) DejaVu Sans.\n",
            "  fig.canvas.draw()\n",
            "/usr/local/lib/python3.11/dist-packages/seaborn/utils.py:61: UserWarning: Glyph 2306 (\\N{DEVANAGARI SIGN ANUSVARA}) missing from font(s) DejaVu Sans.\n",
            "  fig.canvas.draw()\n",
            "/usr/local/lib/python3.11/dist-packages/seaborn/utils.py:61: UserWarning: Glyph 2366 (\\N{DEVANAGARI VOWEL SIGN AA}) missing from font(s) DejaVu Sans.\n",
            "  fig.canvas.draw()\n",
            "/usr/local/lib/python3.11/dist-packages/seaborn/utils.py:61: UserWarning: Glyph 2368 (\\N{DEVANAGARI VOWEL SIGN II}) missing from font(s) DejaVu Sans.\n",
            "  fig.canvas.draw()\n",
            "/usr/local/lib/python3.11/dist-packages/seaborn/utils.py:61: UserWarning: Glyph 2340 (\\N{DEVANAGARI LETTER TA}) missing from font(s) DejaVu Sans.\n",
            "  fig.canvas.draw()\n",
            "/usr/local/lib/python3.11/dist-packages/seaborn/utils.py:61: UserWarning: Glyph 2367 (\\N{DEVANAGARI VOWEL SIGN I}) missing from font(s) DejaVu Sans.\n",
            "  fig.canvas.draw()\n",
            "/usr/local/lib/python3.11/dist-packages/seaborn/utils.py:61: UserWarning: Glyph 2379 (\\N{DEVANAGARI VOWEL SIGN O}) missing from font(s) DejaVu Sans.\n",
            "  fig.canvas.draw()\n",
            "/usr/local/lib/python3.11/dist-packages/seaborn/utils.py:61: UserWarning: Glyph 2325 (\\N{DEVANAGARI LETTER KA}) missing from font(s) DejaVu Sans.\n",
            "  fig.canvas.draw()\n",
            "/usr/local/lib/python3.11/dist-packages/seaborn/utils.py:61: UserWarning: Matplotlib currently does not support Devanagari natively.\n",
            "  fig.canvas.draw()\n",
            "/usr/local/lib/python3.11/dist-packages/seaborn/utils.py:61: UserWarning: Glyph 2344 (\\N{DEVANAGARI LETTER NA}) missing from font(s) DejaVu Sans.\n",
            "  fig.canvas.draw()\n",
            "/usr/local/lib/python3.11/dist-packages/seaborn/utils.py:61: UserWarning: Glyph 2306 (\\N{DEVANAGARI SIGN ANUSVARA}) missing from font(s) DejaVu Sans.\n",
            "  fig.canvas.draw()\n",
            "/usr/local/lib/python3.11/dist-packages/seaborn/utils.py:61: UserWarning: Glyph 2366 (\\N{DEVANAGARI VOWEL SIGN AA}) missing from font(s) DejaVu Sans.\n",
            "  fig.canvas.draw()\n",
            "/usr/local/lib/python3.11/dist-packages/seaborn/utils.py:61: UserWarning: Glyph 2368 (\\N{DEVANAGARI VOWEL SIGN II}) missing from font(s) DejaVu Sans.\n",
            "  fig.canvas.draw()\n",
            "/usr/local/lib/python3.11/dist-packages/seaborn/utils.py:61: UserWarning: Glyph 2340 (\\N{DEVANAGARI LETTER TA}) missing from font(s) DejaVu Sans.\n",
            "  fig.canvas.draw()\n",
            "/usr/local/lib/python3.11/dist-packages/seaborn/utils.py:61: UserWarning: Glyph 2367 (\\N{DEVANAGARI VOWEL SIGN I}) missing from font(s) DejaVu Sans.\n",
            "  fig.canvas.draw()\n",
            "/usr/local/lib/python3.11/dist-packages/seaborn/utils.py:61: UserWarning: Glyph 2379 (\\N{DEVANAGARI VOWEL SIGN O}) missing from font(s) DejaVu Sans.\n",
            "  fig.canvas.draw()\n",
            "/usr/local/lib/python3.11/dist-packages/seaborn/utils.py:61: UserWarning: Glyph 2326 (\\N{DEVANAGARI LETTER KHA}) missing from font(s) DejaVu Sans.\n",
            "  fig.canvas.draw()\n",
            "/usr/local/lib/python3.11/dist-packages/seaborn/utils.py:61: UserWarning: Glyph 2325 (\\N{DEVANAGARI LETTER KA}) missing from font(s) DejaVu Sans.\n",
            "  fig.canvas.draw()\n",
            "/usr/local/lib/python3.11/dist-packages/seaborn/utils.py:61: UserWarning: Matplotlib currently does not support Devanagari natively.\n",
            "  fig.canvas.draw()\n",
            "/usr/local/lib/python3.11/dist-packages/seaborn/utils.py:61: UserWarning: Glyph 2344 (\\N{DEVANAGARI LETTER NA}) missing from font(s) DejaVu Sans.\n",
            "  fig.canvas.draw()\n",
            "/usr/local/lib/python3.11/dist-packages/seaborn/utils.py:61: UserWarning: Glyph 2306 (\\N{DEVANAGARI SIGN ANUSVARA}) missing from font(s) DejaVu Sans.\n",
            "  fig.canvas.draw()\n",
            "/usr/local/lib/python3.11/dist-packages/seaborn/utils.py:61: UserWarning: Glyph 2366 (\\N{DEVANAGARI VOWEL SIGN AA}) missing from font(s) DejaVu Sans.\n",
            "  fig.canvas.draw()\n",
            "/usr/local/lib/python3.11/dist-packages/seaborn/utils.py:61: UserWarning: Glyph 2368 (\\N{DEVANAGARI VOWEL SIGN II}) missing from font(s) DejaVu Sans.\n",
            "  fig.canvas.draw()\n",
            "/usr/local/lib/python3.11/dist-packages/seaborn/utils.py:61: UserWarning: Glyph 2340 (\\N{DEVANAGARI LETTER TA}) missing from font(s) DejaVu Sans.\n",
            "  fig.canvas.draw()\n",
            "/usr/local/lib/python3.11/dist-packages/seaborn/utils.py:61: UserWarning: Glyph 2367 (\\N{DEVANAGARI VOWEL SIGN I}) missing from font(s) DejaVu Sans.\n",
            "  fig.canvas.draw()\n",
            "/usr/local/lib/python3.11/dist-packages/seaborn/utils.py:61: UserWarning: Glyph 2379 (\\N{DEVANAGARI VOWEL SIGN O}) missing from font(s) DejaVu Sans.\n",
            "  fig.canvas.draw()\n",
            "/usr/local/lib/python3.11/dist-packages/seaborn/utils.py:61: UserWarning: Glyph 2326 (\\N{DEVANAGARI LETTER KHA}) missing from font(s) DejaVu Sans.\n",
            "  fig.canvas.draw()\n",
            "/usr/local/lib/python3.11/dist-packages/seaborn/utils.py:61: UserWarning: Glyph 2339 (\\N{DEVANAGARI LETTER NNA}) missing from font(s) DejaVu Sans.\n",
            "  fig.canvas.draw()\n",
            "/usr/local/lib/python3.11/dist-packages/seaborn/utils.py:61: UserWarning: Glyph 2325 (\\N{DEVANAGARI LETTER KA}) missing from font(s) DejaVu Sans.\n",
            "  fig.canvas.draw()\n",
            "/usr/local/lib/python3.11/dist-packages/seaborn/utils.py:61: UserWarning: Matplotlib currently does not support Devanagari natively.\n",
            "  fig.canvas.draw()\n",
            "/usr/local/lib/python3.11/dist-packages/seaborn/utils.py:61: UserWarning: Glyph 2344 (\\N{DEVANAGARI LETTER NA}) missing from font(s) DejaVu Sans.\n",
            "  fig.canvas.draw()\n",
            "/usr/local/lib/python3.11/dist-packages/seaborn/utils.py:61: UserWarning: Glyph 2306 (\\N{DEVANAGARI SIGN ANUSVARA}) missing from font(s) DejaVu Sans.\n",
            "  fig.canvas.draw()\n",
            "/usr/local/lib/python3.11/dist-packages/seaborn/utils.py:61: UserWarning: Glyph 2366 (\\N{DEVANAGARI VOWEL SIGN AA}) missing from font(s) DejaVu Sans.\n",
            "  fig.canvas.draw()\n",
            "/usr/local/lib/python3.11/dist-packages/seaborn/utils.py:61: UserWarning: Glyph 2368 (\\N{DEVANAGARI VOWEL SIGN II}) missing from font(s) DejaVu Sans.\n",
            "  fig.canvas.draw()\n",
            "/usr/local/lib/python3.11/dist-packages/seaborn/utils.py:61: UserWarning: Glyph 2340 (\\N{DEVANAGARI LETTER TA}) missing from font(s) DejaVu Sans.\n",
            "  fig.canvas.draw()\n",
            "/usr/local/lib/python3.11/dist-packages/seaborn/utils.py:61: UserWarning: Glyph 2367 (\\N{DEVANAGARI VOWEL SIGN I}) missing from font(s) DejaVu Sans.\n",
            "  fig.canvas.draw()\n",
            "/usr/local/lib/python3.11/dist-packages/seaborn/utils.py:61: UserWarning: Glyph 2379 (\\N{DEVANAGARI VOWEL SIGN O}) missing from font(s) DejaVu Sans.\n",
            "  fig.canvas.draw()\n",
            "/usr/local/lib/python3.11/dist-packages/seaborn/utils.py:61: UserWarning: Glyph 2326 (\\N{DEVANAGARI LETTER KHA}) missing from font(s) DejaVu Sans.\n",
            "  fig.canvas.draw()\n",
            "/usr/local/lib/python3.11/dist-packages/seaborn/utils.py:61: UserWarning: Glyph 2339 (\\N{DEVANAGARI LETTER NNA}) missing from font(s) DejaVu Sans.\n",
            "  fig.canvas.draw()\n",
            "/usr/local/lib/python3.11/dist-packages/seaborn/utils.py:61: UserWarning: Glyph 2309 (\\N{DEVANAGARI LETTER A}) missing from font(s) DejaVu Sans.\n",
            "  fig.canvas.draw()\n",
            "/usr/local/lib/python3.11/dist-packages/seaborn/utils.py:61: UserWarning: Glyph 2327 (\\N{DEVANAGARI LETTER GA}) missing from font(s) DejaVu Sans.\n",
            "  fig.canvas.draw()\n",
            "/usr/local/lib/python3.11/dist-packages/seaborn/utils.py:61: UserWarning: Glyph 2352 (\\N{DEVANAGARI LETTER RA}) missing from font(s) DejaVu Sans.\n",
            "  fig.canvas.draw()\n",
            "/usr/local/lib/python3.11/dist-packages/seaborn/utils.py:61: UserWarning: Glyph 2325 (\\N{DEVANAGARI LETTER KA}) missing from font(s) DejaVu Sans.\n",
            "  fig.canvas.draw()\n",
            "/usr/local/lib/python3.11/dist-packages/seaborn/utils.py:61: UserWarning: Matplotlib currently does not support Devanagari natively.\n",
            "  fig.canvas.draw()\n",
            "/usr/local/lib/python3.11/dist-packages/seaborn/utils.py:61: UserWarning: Glyph 2344 (\\N{DEVANAGARI LETTER NA}) missing from font(s) DejaVu Sans.\n",
            "  fig.canvas.draw()\n",
            "/usr/local/lib/python3.11/dist-packages/seaborn/utils.py:61: UserWarning: Glyph 2306 (\\N{DEVANAGARI SIGN ANUSVARA}) missing from font(s) DejaVu Sans.\n",
            "  fig.canvas.draw()\n",
            "/usr/local/lib/python3.11/dist-packages/seaborn/utils.py:61: UserWarning: Glyph 2366 (\\N{DEVANAGARI VOWEL SIGN AA}) missing from font(s) DejaVu Sans.\n",
            "  fig.canvas.draw()\n",
            "/usr/local/lib/python3.11/dist-packages/seaborn/utils.py:61: UserWarning: Glyph 2368 (\\N{DEVANAGARI VOWEL SIGN II}) missing from font(s) DejaVu Sans.\n",
            "  fig.canvas.draw()\n",
            "/usr/local/lib/python3.11/dist-packages/seaborn/utils.py:61: UserWarning: Glyph 2340 (\\N{DEVANAGARI LETTER TA}) missing from font(s) DejaVu Sans.\n",
            "  fig.canvas.draw()\n",
            "/usr/local/lib/python3.11/dist-packages/seaborn/utils.py:61: UserWarning: Glyph 2367 (\\N{DEVANAGARI VOWEL SIGN I}) missing from font(s) DejaVu Sans.\n",
            "  fig.canvas.draw()\n",
            "/usr/local/lib/python3.11/dist-packages/seaborn/utils.py:61: UserWarning: Glyph 2379 (\\N{DEVANAGARI VOWEL SIGN O}) missing from font(s) DejaVu Sans.\n",
            "  fig.canvas.draw()\n",
            "/usr/local/lib/python3.11/dist-packages/seaborn/utils.py:61: UserWarning: Glyph 2326 (\\N{DEVANAGARI LETTER KHA}) missing from font(s) DejaVu Sans.\n",
            "  fig.canvas.draw()\n",
            "/usr/local/lib/python3.11/dist-packages/seaborn/utils.py:61: UserWarning: Glyph 2339 (\\N{DEVANAGARI LETTER NNA}) missing from font(s) DejaVu Sans.\n",
            "  fig.canvas.draw()\n",
            "/usr/local/lib/python3.11/dist-packages/seaborn/utils.py:61: UserWarning: Glyph 2309 (\\N{DEVANAGARI LETTER A}) missing from font(s) DejaVu Sans.\n",
            "  fig.canvas.draw()\n",
            "/usr/local/lib/python3.11/dist-packages/seaborn/utils.py:61: UserWarning: Glyph 2327 (\\N{DEVANAGARI LETTER GA}) missing from font(s) DejaVu Sans.\n",
            "  fig.canvas.draw()\n",
            "/usr/local/lib/python3.11/dist-packages/seaborn/utils.py:61: UserWarning: Glyph 2352 (\\N{DEVANAGARI LETTER RA}) missing from font(s) DejaVu Sans.\n",
            "  fig.canvas.draw()\n",
            "/usr/local/lib/python3.11/dist-packages/seaborn/utils.py:61: UserWarning: Glyph 2325 (\\N{DEVANAGARI LETTER KA}) missing from font(s) DejaVu Sans.\n",
            "  fig.canvas.draw()\n",
            "/usr/local/lib/python3.11/dist-packages/seaborn/utils.py:61: UserWarning: Matplotlib currently does not support Devanagari natively.\n",
            "  fig.canvas.draw()\n",
            "/usr/local/lib/python3.11/dist-packages/seaborn/utils.py:61: UserWarning: Glyph 2344 (\\N{DEVANAGARI LETTER NA}) missing from font(s) DejaVu Sans.\n",
            "  fig.canvas.draw()\n",
            "/usr/local/lib/python3.11/dist-packages/seaborn/utils.py:61: UserWarning: Glyph 2306 (\\N{DEVANAGARI SIGN ANUSVARA}) missing from font(s) DejaVu Sans.\n",
            "  fig.canvas.draw()\n",
            "/usr/local/lib/python3.11/dist-packages/seaborn/utils.py:61: UserWarning: Glyph 2366 (\\N{DEVANAGARI VOWEL SIGN AA}) missing from font(s) DejaVu Sans.\n",
            "  fig.canvas.draw()\n",
            "/usr/local/lib/python3.11/dist-packages/seaborn/utils.py:61: UserWarning: Glyph 2368 (\\N{DEVANAGARI VOWEL SIGN II}) missing from font(s) DejaVu Sans.\n",
            "  fig.canvas.draw()\n",
            "/usr/local/lib/python3.11/dist-packages/seaborn/utils.py:61: UserWarning: Glyph 2340 (\\N{DEVANAGARI LETTER TA}) missing from font(s) DejaVu Sans.\n",
            "  fig.canvas.draw()\n",
            "/usr/local/lib/python3.11/dist-packages/seaborn/utils.py:61: UserWarning: Glyph 2367 (\\N{DEVANAGARI VOWEL SIGN I}) missing from font(s) DejaVu Sans.\n",
            "  fig.canvas.draw()\n",
            "/usr/local/lib/python3.11/dist-packages/seaborn/utils.py:61: UserWarning: Glyph 2379 (\\N{DEVANAGARI VOWEL SIGN O}) missing from font(s) DejaVu Sans.\n",
            "  fig.canvas.draw()\n",
            "/usr/local/lib/python3.11/dist-packages/seaborn/utils.py:61: UserWarning: Glyph 2326 (\\N{DEVANAGARI LETTER KHA}) missing from font(s) DejaVu Sans.\n",
            "  fig.canvas.draw()\n",
            "/usr/local/lib/python3.11/dist-packages/seaborn/utils.py:61: UserWarning: Glyph 2339 (\\N{DEVANAGARI LETTER NNA}) missing from font(s) DejaVu Sans.\n",
            "  fig.canvas.draw()\n",
            "/usr/local/lib/python3.11/dist-packages/seaborn/utils.py:61: UserWarning: Glyph 2309 (\\N{DEVANAGARI LETTER A}) missing from font(s) DejaVu Sans.\n",
            "  fig.canvas.draw()\n",
            "/usr/local/lib/python3.11/dist-packages/seaborn/utils.py:61: UserWarning: Glyph 2327 (\\N{DEVANAGARI LETTER GA}) missing from font(s) DejaVu Sans.\n",
            "  fig.canvas.draw()\n",
            "/usr/local/lib/python3.11/dist-packages/seaborn/utils.py:61: UserWarning: Glyph 2352 (\\N{DEVANAGARI LETTER RA}) missing from font(s) DejaVu Sans.\n",
            "  fig.canvas.draw()\n",
            "/usr/local/lib/python3.11/dist-packages/IPython/core/pylabtools.py:151: UserWarning: Glyph 2325 (\\N{DEVANAGARI LETTER KA}) missing from font(s) DejaVu Sans.\n",
            "  fig.canvas.print_figure(bytes_io, **kw)\n",
            "/usr/local/lib/python3.11/dist-packages/IPython/core/pylabtools.py:151: UserWarning: Matplotlib currently does not support Devanagari natively.\n",
            "  fig.canvas.print_figure(bytes_io, **kw)\n",
            "/usr/local/lib/python3.11/dist-packages/IPython/core/pylabtools.py:151: UserWarning: Glyph 2344 (\\N{DEVANAGARI LETTER NA}) missing from font(s) DejaVu Sans.\n",
            "  fig.canvas.print_figure(bytes_io, **kw)\n",
            "/usr/local/lib/python3.11/dist-packages/IPython/core/pylabtools.py:151: UserWarning: Glyph 2306 (\\N{DEVANAGARI SIGN ANUSVARA}) missing from font(s) DejaVu Sans.\n",
            "  fig.canvas.print_figure(bytes_io, **kw)\n",
            "/usr/local/lib/python3.11/dist-packages/IPython/core/pylabtools.py:151: UserWarning: Glyph 2366 (\\N{DEVANAGARI VOWEL SIGN AA}) missing from font(s) DejaVu Sans.\n",
            "  fig.canvas.print_figure(bytes_io, **kw)\n",
            "/usr/local/lib/python3.11/dist-packages/IPython/core/pylabtools.py:151: UserWarning: Glyph 2368 (\\N{DEVANAGARI VOWEL SIGN II}) missing from font(s) DejaVu Sans.\n",
            "  fig.canvas.print_figure(bytes_io, **kw)\n",
            "/usr/local/lib/python3.11/dist-packages/IPython/core/pylabtools.py:151: UserWarning: Glyph 2340 (\\N{DEVANAGARI LETTER TA}) missing from font(s) DejaVu Sans.\n",
            "  fig.canvas.print_figure(bytes_io, **kw)\n",
            "/usr/local/lib/python3.11/dist-packages/IPython/core/pylabtools.py:151: UserWarning: Glyph 2367 (\\N{DEVANAGARI VOWEL SIGN I}) missing from font(s) DejaVu Sans.\n",
            "  fig.canvas.print_figure(bytes_io, **kw)\n",
            "/usr/local/lib/python3.11/dist-packages/IPython/core/pylabtools.py:151: UserWarning: Glyph 2379 (\\N{DEVANAGARI VOWEL SIGN O}) missing from font(s) DejaVu Sans.\n",
            "  fig.canvas.print_figure(bytes_io, **kw)\n",
            "/usr/local/lib/python3.11/dist-packages/IPython/core/pylabtools.py:151: UserWarning: Glyph 2326 (\\N{DEVANAGARI LETTER KHA}) missing from font(s) DejaVu Sans.\n",
            "  fig.canvas.print_figure(bytes_io, **kw)\n",
            "/usr/local/lib/python3.11/dist-packages/IPython/core/pylabtools.py:151: UserWarning: Glyph 2339 (\\N{DEVANAGARI LETTER NNA}) missing from font(s) DejaVu Sans.\n",
            "  fig.canvas.print_figure(bytes_io, **kw)\n",
            "/usr/local/lib/python3.11/dist-packages/IPython/core/pylabtools.py:151: UserWarning: Glyph 2309 (\\N{DEVANAGARI LETTER A}) missing from font(s) DejaVu Sans.\n",
            "  fig.canvas.print_figure(bytes_io, **kw)\n",
            "/usr/local/lib/python3.11/dist-packages/IPython/core/pylabtools.py:151: UserWarning: Glyph 2327 (\\N{DEVANAGARI LETTER GA}) missing from font(s) DejaVu Sans.\n",
            "  fig.canvas.print_figure(bytes_io, **kw)\n",
            "/usr/local/lib/python3.11/dist-packages/IPython/core/pylabtools.py:151: UserWarning: Glyph 2352 (\\N{DEVANAGARI LETTER RA}) missing from font(s) DejaVu Sans.\n",
            "  fig.canvas.print_figure(bytes_io, **kw)\n"
          ]
        },
        {
          "output_type": "display_data",
          "data": {
            "text/plain": [
              "<Figure size 1500x1500 with 9 Axes>"
            ],
            "image/png": "[encoded data removed]"
          },
          "metadata": {}
        }
      ]
    },
    {
      "cell_type": "markdown",
      "source": [
        "## Error Analysis\n",
        "\n",
        "Once the predictions are obtained, error analysis is performed on them."
      ],
      "metadata": {
        "id": "mzp8Xt4KFDx2"
      }
    },
    {
      "cell_type": "code",
      "source": [
        "import pandas as pd\n",
        "\n",
        "# Load predictions\n",
        "df = pd.read_csv('predictions_vanilla/predictions_beam5.csv')\n",
        "\n",
        "# Create a list of (src, pred, tgt) tuples\n",
        "all_preds = list(zip(df['Input'], df['Prediction'], df['Target']))"
      ],
      "metadata": {
        "id": "_Y8biL_dGf2E"
      },
      "execution_count": 21,
      "outputs": []
    },
    {
      "cell_type": "code",
      "source": [
        "from collections import defaultdict\n",
        "import matplotlib.pyplot as plt\n",
        "\n",
        "# --- Define Hindi vowels (Devanagari script)\n",
        "hindi_vowels = set('अआइईउऊएऐओऔऋॠऌॡॲऑऍ')\n",
        "\n",
        "def is_vowel(ch):\n",
        "    \"\"\"Check if a Hindi character is a vowel.\"\"\"\n",
        "    return ch in hindi_vowels\n",
        "\n",
        "# --- Initialize counters\n",
        "consonant_errors = 0\n",
        "vowel_errors = 0\n",
        "long_seq_errors = 0\n",
        "total_errors = 0\n",
        "total_long = 0\n",
        "char_confusions = defaultdict(int)\n",
        "\n",
        "# --- Length threshold for long sequences\n",
        "LONG_THRESHOLD = 7\n",
        "\n",
        "# --- all_preds should be a list of (source, predicted, target) tuples\n",
        "# Example:\n",
        "# all_preds = [('english_word1', 'prediction1', 'groundtruth1'), ...]\n",
        "\n",
        "for src, pred, tgt in all_preds:\n",
        "    if pred != tgt:\n",
        "        total_errors += 1\n",
        "\n",
        "        if len(tgt) >= LONG_THRESHOLD:\n",
        "            long_seq_errors += 1\n",
        "\n",
        "        # Always increment total_long for long target sequences\n",
        "        if len(tgt) >= LONG_THRESHOLD:\n",
        "            total_long += 1\n",
        "\n",
        "        # --- Analyze character-level mismatches\n",
        "        for p, t in zip(pred, tgt):\n",
        "            if p != t:\n",
        "                if is_vowel(t):\n",
        "                    vowel_errors += 1\n",
        "                else:\n",
        "                    consonant_errors += 1\n",
        "                char_confusions[(t, p)] += 1\n",
        "\n",
        "# --- Summary calculations\n",
        "total_char_errors = vowel_errors + consonant_errors\n",
        "\n",
        "print(\"🔍 Error Analysis:\")\n",
        "print(f\"Total sequence errors: {total_errors}\")\n",
        "print(f\"Character-level consonant errors: {consonant_errors} ({(consonant_errors/total_char_errors)*100:.2f}%)\")\n",
        "print(f\"Character-level vowel errors: {vowel_errors} ({(vowel_errors/total_char_errors)*100:.2f}%)\")\n",
        "print(f\"Errors in long sequences (≥ {LONG_THRESHOLD}): {long_seq_errors} ({(long_seq_errors/total_errors)*100:.2f}%)\")\n",
        "\n",
        "# --- Top confused character pairs\n",
        "sorted_confusions = sorted(char_confusions.items(), key=lambda x: -x[1])[:10]\n",
        "\n",
        "print(\"\\nTop 10 confused character pairs (Target → Predicted):\")\n",
        "for (true_c, pred_c), count in sorted_confusions:\n",
        "    print(f\"{true_c} → {pred_c}: {count} times\")\n",
        "\n",
        "# --- Optional: Bar plot for top confusions\n",
        "if sorted_confusions:\n",
        "    chars, counts = zip(*sorted_confusions)\n",
        "    labels = [f\"{t}→{p}\" for (t, p) in chars]\n",
        "\n",
        "    plt.figure(figsize=(10, 5))\n",
        "    plt.bar(labels, counts, color=\"tomato\")\n",
        "    plt.title(\"Top 10 Confused Character Pairs\")\n",
        "    plt.ylabel(\"Frequency\")\n",
        "    plt.xticks(rotation=45)\n",
        "    plt.tight_layout()\n",
        "    plt.show()"
      ],
      "metadata": {
        "colab": {
          "base_uri": "https://localhost:8080/",
          "height": 1000
        },
        "id": "P4ZnQleG96u2",
        "outputId": "82816350-f622-4096-c74c-008dbc94bb25"
      },
      "execution_count": 22,
      "outputs": [
        {
          "output_type": "stream",
          "name": "stdout",
          "text": [
            "🔍 Error Analysis:\n",
            "Total sequence errors: 3473\n",
            "Character-level consonant errors: 8665 (94.24%)\n",
            "Character-level vowel errors: 530 (5.76%)\n",
            "Errors in long sequences (≥ 7): 1003 (28.88%)\n",
            "\n",
            "Top 10 confused character pairs (Target → Predicted):\n",
            "र → ा: 176 times\n",
            "ा → न: 124 times\n",
            "ी → ि: 117 times\n",
            "ट → त: 117 times\n",
            "ा → र: 117 times\n",
            "ि → ी: 101 times\n",
            "ू → ु: 88 times\n",
            "ा → त: 86 times\n",
            "न → ा: 86 times\n",
            "र → ्: 77 times\n"
          ]
        },
        {
          "output_type": "stream",
          "name": "stderr",
          "text": [
            "<ipython-input-22-c49bd1ef11e7>:72: UserWarning: Glyph 2352 (\\N{DEVANAGARI LETTER RA}) missing from font(s) DejaVu Sans.\n",
            "  plt.tight_layout()\n",
            "<ipython-input-22-c49bd1ef11e7>:72: UserWarning: Matplotlib currently does not support Devanagari natively.\n",
            "  plt.tight_layout()\n",
            "<ipython-input-22-c49bd1ef11e7>:72: UserWarning: Glyph 2366 (\\N{DEVANAGARI VOWEL SIGN AA}) missing from font(s) DejaVu Sans.\n",
            "  plt.tight_layout()\n",
            "<ipython-input-22-c49bd1ef11e7>:72: UserWarning: Glyph 2344 (\\N{DEVANAGARI LETTER NA}) missing from font(s) DejaVu Sans.\n",
            "  plt.tight_layout()\n",
            "<ipython-input-22-c49bd1ef11e7>:72: UserWarning: Glyph 2368 (\\N{DEVANAGARI VOWEL SIGN II}) missing from font(s) DejaVu Sans.\n",
            "  plt.tight_layout()\n",
            "<ipython-input-22-c49bd1ef11e7>:72: UserWarning: Glyph 2367 (\\N{DEVANAGARI VOWEL SIGN I}) missing from font(s) DejaVu Sans.\n",
            "  plt.tight_layout()\n",
            "<ipython-input-22-c49bd1ef11e7>:72: UserWarning: Glyph 2335 (\\N{DEVANAGARI LETTER TTA}) missing from font(s) DejaVu Sans.\n",
            "  plt.tight_layout()\n",
            "<ipython-input-22-c49bd1ef11e7>:72: UserWarning: Glyph 2340 (\\N{DEVANAGARI LETTER TA}) missing from font(s) DejaVu Sans.\n",
            "  plt.tight_layout()\n",
            "<ipython-input-22-c49bd1ef11e7>:72: UserWarning: Glyph 2370 (\\N{DEVANAGARI VOWEL SIGN UU}) missing from font(s) DejaVu Sans.\n",
            "  plt.tight_layout()\n",
            "<ipython-input-22-c49bd1ef11e7>:72: UserWarning: Glyph 2369 (\\N{DEVANAGARI VOWEL SIGN U}) missing from font(s) DejaVu Sans.\n",
            "  plt.tight_layout()\n",
            "<ipython-input-22-c49bd1ef11e7>:72: UserWarning: Glyph 2381 (\\N{DEVANAGARI SIGN VIRAMA}) missing from font(s) DejaVu Sans.\n",
            "  plt.tight_layout()\n",
            "/usr/local/lib/python3.11/dist-packages/IPython/core/pylabtools.py:151: UserWarning: Glyph 2352 (\\N{DEVANAGARI LETTER RA}) missing from font(s) DejaVu Sans.\n",
            "  fig.canvas.print_figure(bytes_io, **kw)\n",
            "/usr/local/lib/python3.11/dist-packages/IPython/core/pylabtools.py:151: UserWarning: Matplotlib currently does not support Devanagari natively.\n",
            "  fig.canvas.print_figure(bytes_io, **kw)\n",
            "/usr/local/lib/python3.11/dist-packages/IPython/core/pylabtools.py:151: UserWarning: Glyph 2366 (\\N{DEVANAGARI VOWEL SIGN AA}) missing from font(s) DejaVu Sans.\n",
            "  fig.canvas.print_figure(bytes_io, **kw)\n",
            "/usr/local/lib/python3.11/dist-packages/IPython/core/pylabtools.py:151: UserWarning: Glyph 2344 (\\N{DEVANAGARI LETTER NA}) missing from font(s) DejaVu Sans.\n",
            "  fig.canvas.print_figure(bytes_io, **kw)\n",
            "/usr/local/lib/python3.11/dist-packages/IPython/core/pylabtools.py:151: UserWarning: Glyph 2368 (\\N{DEVANAGARI VOWEL SIGN II}) missing from font(s) DejaVu Sans.\n",
            "  fig.canvas.print_figure(bytes_io, **kw)\n",
            "/usr/local/lib/python3.11/dist-packages/IPython/core/pylabtools.py:151: UserWarning: Glyph 2367 (\\N{DEVANAGARI VOWEL SIGN I}) missing from font(s) DejaVu Sans.\n",
            "  fig.canvas.print_figure(bytes_io, **kw)\n",
            "/usr/local/lib/python3.11/dist-packages/IPython/core/pylabtools.py:151: UserWarning: Glyph 2335 (\\N{DEVANAGARI LETTER TTA}) missing from font(s) DejaVu Sans.\n",
            "  fig.canvas.print_figure(bytes_io, **kw)\n",
            "/usr/local/lib/python3.11/dist-packages/IPython/core/pylabtools.py:151: UserWarning: Glyph 2340 (\\N{DEVANAGARI LETTER TA}) missing from font(s) DejaVu Sans.\n",
            "  fig.canvas.print_figure(bytes_io, **kw)\n",
            "/usr/local/lib/python3.11/dist-packages/IPython/core/pylabtools.py:151: UserWarning: Glyph 2370 (\\N{DEVANAGARI VOWEL SIGN UU}) missing from font(s) DejaVu Sans.\n",
            "  fig.canvas.print_figure(bytes_io, **kw)\n",
            "/usr/local/lib/python3.11/dist-packages/IPython/core/pylabtools.py:151: UserWarning: Glyph 2369 (\\N{DEVANAGARI VOWEL SIGN U}) missing from font(s) DejaVu Sans.\n",
            "  fig.canvas.print_figure(bytes_io, **kw)\n",
            "/usr/local/lib/python3.11/dist-packages/IPython/core/pylabtools.py:151: UserWarning: Glyph 2381 (\\N{DEVANAGARI SIGN VIRAMA}) missing from font(s) DejaVu Sans.\n",
            "  fig.canvas.print_figure(bytes_io, **kw)\n"
          ]
        },
        {
          "output_type": "display_data",
          "data": {
            "text/plain": [
              "<Figure size 1000x500 with 1 Axes>"
            ],
            "image/png": "[encoded data removed]"
          },
          "metadata": {}
        }
      ]
    }
  ]
}