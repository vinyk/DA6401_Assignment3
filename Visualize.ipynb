{
  "nbformat": 4,
  "nbformat_minor": 0,
  "metadata": {
    "colab": {
      "provenance": []
    },
    "kernelspec": {
      "name": "python3",
      "display_name": "Python 3"
    },
    "language_info": {
      "name": "python"
    }
  },
  "cells": [
    {
      "cell_type": "code",
      "execution_count": 5,
      "metadata": {
        "colab": {
          "base_uri": "https://localhost:8080/",
          "height": 211
        },
        "id": "lsK44ZNhUait",
        "outputId": "f170c2f9-e464-4160-cf0d-89190a57de09"
      },
      "outputs": [
        {
          "output_type": "display_data",
          "data": {
            "text/plain": [
              "<IPython.core.display.Javascript object>"
            ],
            "application/javascript": [
              "\n",
              "        window._wandbApiKey = new Promise((resolve, reject) => {\n",
              "            function loadScript(url) {\n",
              "            return new Promise(function(resolve, reject) {\n",
              "                let newScript = document.createElement(\"script\");\n",
              "                newScript.onerror = reject;\n",
              "                newScript.onload = resolve;\n",
              "                document.body.appendChild(newScript);\n",
              "                newScript.src = url;\n",
              "            });\n",
              "            }\n",
              "            loadScript(\"https://cdn.jsdelivr.net/npm/postmate/build/postmate.min.js\").then(() => {\n",
              "            const iframe = document.createElement('iframe')\n",
              "            iframe.style.cssText = \"width:0;height:0;border:none\"\n",
              "            document.body.appendChild(iframe)\n",
              "            const handshake = new Postmate({\n",
              "                container: iframe,\n",
              "                url: 'https://wandb.ai/authorize'\n",
              "            });\n",
              "            const timeout = setTimeout(() => reject(\"Couldn't auto authenticate\"), 5000)\n",
              "            handshake.then(function(child) {\n",
              "                child.on('authorize', data => {\n",
              "                    clearTimeout(timeout)\n",
              "                    resolve(data)\n",
              "                });\n",
              "            });\n",
              "            })\n",
              "        });\n",
              "    "
            ]
          },
          "metadata": {}
        },
        {
          "output_type": "stream",
          "name": "stderr",
          "text": [
            "\u001b[34m\u001b[1mwandb\u001b[0m: Logging into wandb.ai. (Learn how to deploy a W&B server locally: https://wandb.me/wandb-server)\n",
            "\u001b[34m\u001b[1mwandb\u001b[0m: You can find your API key in your browser here: https://wandb.ai/authorize\n",
            "wandb: Paste an API key from your profile and hit enter:"
          ]
        },
        {
          "name": "stdout",
          "output_type": "stream",
          "text": [
            " ··········\n"
          ]
        },
        {
          "output_type": "stream",
          "name": "stderr",
          "text": [
            "\u001b[34m\u001b[1mwandb\u001b[0m: \u001b[33mWARNING\u001b[0m If you're specifying your api key in code, ensure this code is not shared publicly.\n",
            "\u001b[34m\u001b[1mwandb\u001b[0m: \u001b[33mWARNING\u001b[0m Consider setting the WANDB_API_KEY environment variable, or running `wandb login` from the command line.\n",
            "\u001b[34m\u001b[1mwandb\u001b[0m: No netrc file found, creating one.\n",
            "\u001b[34m\u001b[1mwandb\u001b[0m: Appending key for api.wandb.ai to your netrc file: /root/.netrc\n",
            "\u001b[34m\u001b[1mwandb\u001b[0m: Currently logged in as: \u001b[33mvinyk-sd\u001b[0m (\u001b[33mvinyk-sd-indian-institute-of-technology-madras\u001b[0m) to \u001b[32mhttps://api.wandb.ai\u001b[0m. Use \u001b[1m`wandb login --relogin`\u001b[0m to force relogin\n"
          ]
        },
        {
          "output_type": "execute_result",
          "data": {
            "text/plain": [
              "True"
            ]
          },
          "metadata": {},
          "execution_count": 5
        }
      ],
      "source": [
        "import wandb\n",
        "wandb.login()"
      ]
    },
    {
      "cell_type": "code",
      "source": [
        "import json\n",
        "import pandas as pd\n",
        "from IPython.display import display, HTML\n",
        "\n",
        "# Load attention JSON\n",
        "with open(\"attention.json\", \"r\", encoding=\"utf-8\") as f:\n",
        "    attention_data = json.load(f)\n",
        "\n",
        "# Load predictions CSV\n",
        "pred_df = pd.read_csv(\"predictions.csv\")"
      ],
      "metadata": {
        "id": "W8ZamNNOUhee"
      },
      "execution_count": 2,
      "outputs": []
    },
    {
      "cell_type": "code",
      "source": [
        "def visualize_attention_with_predictions(attention_data, pred_df, return_html=False):\n",
        "    html_head = \"\"\"\n",
        "    <style>\n",
        "        .container { font-family: Arial, sans-serif; margin: 10px 0; }\n",
        "        .row { display: flex; margin-bottom: 5px; }\n",
        "        .char {\n",
        "            padding: 8px;\n",
        "            margin: 2px;\n",
        "            border: 1px solid #ccc;\n",
        "            border-radius: 4px;\n",
        "            min-width: 20px;\n",
        "            text-align: center;\n",
        "            transition: background-color 0.3s;\n",
        "            font-size: 20px;\n",
        "        }\n",
        "        .input-char { background-color: #eee; }\n",
        "        .output-char { background-color: #f0f8ff; cursor: pointer; }\n",
        "        .word-info { font-size: 16px; margin-top: 5px; }\n",
        "    </style>\n",
        "    <div class=\"container\">\n",
        "    \"\"\"\n",
        "\n",
        "    html_body = \"\"\n",
        "\n",
        "    for idx, item in enumerate(attention_data):\n",
        "        input_chars = item[\"input\"]\n",
        "        output_chars = item[\"output\"]\n",
        "        attention_matrix = item[\"attention\"]\n",
        "\n",
        "        input_id_prefix = f\"input_{idx}_\"\n",
        "        output_id_prefix = f\"output_{idx}_\"\n",
        "\n",
        "        html_body += f'<div><strong>Example {idx + 1}</strong></div>'\n",
        "        html_body += '<div class=\"row\">'\n",
        "        for i, ch in enumerate(input_chars):\n",
        "            html_body += f'<div class=\"char input-char\" id=\"{input_id_prefix}{i}\">{ch}</div>'\n",
        "        html_body += '</div>'\n",
        "\n",
        "        html_body += '<div class=\"row\">'\n",
        "        for j, out_ch in enumerate(output_chars):\n",
        "            weights = attention_matrix[j]\n",
        "            weight_str = \",\".join([str(w) for w in weights])\n",
        "            html_body += (\n",
        "                f'<div class=\"char output-char\" '\n",
        "                f'onmouseover=\"highlightAttention([{weight_str}], \\'{input_id_prefix}\\')\" '\n",
        "                f'onmouseout=\"clearHighlight(\\'{input_id_prefix}\\', {len(input_chars)})\">'\n",
        "                f'{out_ch}</div>'\n",
        "            )\n",
        "        html_body += '</div>'\n",
        "\n",
        "        if idx < len(pred_df):\n",
        "            row = pred_df.loc[idx]\n",
        "            html_body += (\n",
        "                f'<div class=\"word-info\">'\n",
        "                f'<b>Input Word:</b> {row[\"Input\"]}<br>'\n",
        "                f'<b>Actual Word:</b> {row[\"Target\"]}<br>'\n",
        "                f'<b>Predicted Word:</b> {row[\"Prediction\"]}'\n",
        "                f'</div>'\n",
        "            )\n",
        "\n",
        "        html_body += '<hr style=\"margin:10px 0;\">'\n",
        "\n",
        "    html_tail = \"\"\"\n",
        "    </div>\n",
        "    <script>\n",
        "        function highlightAttention(weights, inputPrefix) {\n",
        "            for (let i = 0; i < weights.length; i++) {\n",
        "                const el = document.getElementById(inputPrefix + i);\n",
        "                if (el) {\n",
        "                    el.style.backgroundColor = `rgba(255, 165, 0, ${weights[i]})`;\n",
        "                }\n",
        "            }\n",
        "        }\n",
        "\n",
        "        function clearHighlight(inputPrefix, len) {\n",
        "            for (let i = 0; i < len; i++) {\n",
        "                const el = document.getElementById(inputPrefix + i);\n",
        "                if (el) {\n",
        "                    el.style.backgroundColor = '#eee';\n",
        "                }\n",
        "            }\n",
        "        }\n",
        "    </script>\n",
        "    \"\"\"\n",
        "\n",
        "    html_content = html_head + html_body + html_tail\n",
        "\n",
        "    if return_html:\n",
        "        return html_content\n",
        "    else:\n",
        "        display(HTML(html_content))"
      ],
      "metadata": {
        "id": "sIC3cHSgU-X7"
      },
      "execution_count": 3,
      "outputs": []
    },
    {
      "cell_type": "code",
      "source": [
        "# Create HTML content\n",
        "html_content = visualize_attention_with_predictions(attention_data, pred_df, return_html=True)\n",
        "\n",
        "# Save to file\n",
        "html_file_path = \"attention_viz.html\"\n",
        "with open(html_file_path, \"w\", encoding=\"utf-8\") as f:\n",
        "    f.write(html_content)\n",
        "\n",
        "print(f\"Saved visualization to {html_file_path}\")"
      ],
      "metadata": {
        "colab": {
          "base_uri": "https://localhost:8080/"
        },
        "id": "_iGOh7s-VA69",
        "outputId": "ec4aed74-3037-4009-aae4-bf6724b08ee8"
      },
      "execution_count": 4,
      "outputs": [
        {
          "output_type": "stream",
          "name": "stdout",
          "text": [
            "Saved visualization to attention_viz.html\n"
          ]
        }
      ]
    },
    {
      "cell_type": "code",
      "source": [
        "run = wandb.init(project=\"Assignment3_Attempt1\", name=\"attention-visual\")  # <-- Update project name\n",
        "\n",
        "artifact = wandb.Artifact(\"attention_visualization\", type=\"html\")\n",
        "artifact.add_file(\"attention_viz.html\")\n",
        "run.log_artifact(artifact)\n",
        "\n",
        "wandb.finish()\n"
      ],
      "metadata": {
        "colab": {
          "base_uri": "https://localhost:8080/",
          "height": 173
        },
        "id": "cv6JmienVGOQ",
        "outputId": "f0e15600-d81b-4afd-b4db-7726ed1b9ef9"
      },
      "execution_count": 6,
      "outputs": [
        {
          "output_type": "display_data",
          "data": {
            "text/plain": [
              "<IPython.core.display.HTML object>"
            ],
            "text/html": [
              "Tracking run with wandb version 0.19.11"
            ]
          },
          "metadata": {}
        },
        {
          "output_type": "display_data",
          "data": {
            "text/plain": [
              "<IPython.core.display.HTML object>"
            ],
            "text/html": [
              "Run data is saved locally in <code>/content/wandb/run-20250520_142438-uognyx3c</code>"
            ]
          },
          "metadata": {}
        },
        {
          "output_type": "display_data",
          "data": {
            "text/plain": [
              "<IPython.core.display.HTML object>"
            ],
            "text/html": [
              "Syncing run <strong><a href='https://wandb.ai/vinyk-sd-indian-institute-of-technology-madras/Assignment3_Attempt1/runs/uognyx3c' target=\"_blank\">attention-visual</a></strong> to <a href='https://wandb.ai/vinyk-sd-indian-institute-of-technology-madras/Assignment3_Attempt1' target=\"_blank\">Weights & Biases</a> (<a href='https://wandb.me/developer-guide' target=\"_blank\">docs</a>)<br>"
            ]
          },
          "metadata": {}
        },
        {
          "output_type": "display_data",
          "data": {
            "text/plain": [
              "<IPython.core.display.HTML object>"
            ],
            "text/html": [
              " View project at <a href='https://wandb.ai/vinyk-sd-indian-institute-of-technology-madras/Assignment3_Attempt1' target=\"_blank\">https://wandb.ai/vinyk-sd-indian-institute-of-technology-madras/Assignment3_Attempt1</a>"
            ]
          },
          "metadata": {}
        },
        {
          "output_type": "display_data",
          "data": {
            "text/plain": [
              "<IPython.core.display.HTML object>"
            ],
            "text/html": [
              " View run at <a href='https://wandb.ai/vinyk-sd-indian-institute-of-technology-madras/Assignment3_Attempt1/runs/uognyx3c' target=\"_blank\">https://wandb.ai/vinyk-sd-indian-institute-of-technology-madras/Assignment3_Attempt1/runs/uognyx3c</a>"
            ]
          },
          "metadata": {}
        },
        {
          "output_type": "display_data",
          "data": {
            "text/plain": [
              "<IPython.core.display.HTML object>"
            ],
            "text/html": []
          },
          "metadata": {}
        },
        {
          "output_type": "display_data",
          "data": {
            "text/plain": [
              "<IPython.core.display.HTML object>"
            ],
            "text/html": [
              " View run <strong style=\"color:#cdcd00\">attention-visual</strong> at: <a href='https://wandb.ai/vinyk-sd-indian-institute-of-technology-madras/Assignment3_Attempt1/runs/uognyx3c' target=\"_blank\">https://wandb.ai/vinyk-sd-indian-institute-of-technology-madras/Assignment3_Attempt1/runs/uognyx3c</a><br> View project at: <a href='https://wandb.ai/vinyk-sd-indian-institute-of-technology-madras/Assignment3_Attempt1' target=\"_blank\">https://wandb.ai/vinyk-sd-indian-institute-of-technology-madras/Assignment3_Attempt1</a><br>Synced 5 W&B file(s), 0 media file(s), 2 artifact file(s) and 0 other file(s)"
            ]
          },
          "metadata": {}
        },
        {
          "output_type": "display_data",
          "data": {
            "text/plain": [
              "<IPython.core.display.HTML object>"
            ],
            "text/html": [
              "Find logs at: <code>./wandb/run-20250520_142438-uognyx3c/logs</code>"
            ]
          },
          "metadata": {}
        }
      ]
    },
    {
      "cell_type": "code",
      "source": [],
      "metadata": {
        "id": "BaE1gJwhVPxd"
      },
      "execution_count": null,
      "outputs": []
    }
  ]
}